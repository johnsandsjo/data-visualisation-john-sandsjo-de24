{
 "cells": [
  {
   "cell_type": "markdown",
   "id": "4ad3d82b",
   "metadata": {},
   "source": [
    "# Exercise 0.1"
   ]
  },
  {
   "cell_type": "code",
   "execution_count": 2,
   "id": "60800398",
   "metadata": {},
   "outputs": [
    {
     "data": {
      "text/html": [
       "<div>\n",
       "<style scoped>\n",
       "    .dataframe tbody tr th:only-of-type {\n",
       "        vertical-align: middle;\n",
       "    }\n",
       "\n",
       "    .dataframe tbody tr th {\n",
       "        vertical-align: top;\n",
       "    }\n",
       "\n",
       "    .dataframe thead th {\n",
       "        text-align: right;\n",
       "    }\n",
       "</style>\n",
       "<table border=\"1\" class=\"dataframe\">\n",
       "  <thead>\n",
       "    <tr style=\"text-align: right;\">\n",
       "      <th></th>\n",
       "      <th>Rank</th>\n",
       "      <th>Name</th>\n",
       "      <th>Thumbnail URL</th>\n",
       "      <th>Store Link</th>\n",
       "      <th>Price</th>\n",
       "      <th>Current Players</th>\n",
       "      <th>Peak Today</th>\n",
       "      <th>Genre Tags</th>\n",
       "    </tr>\n",
       "  </thead>\n",
       "  <tbody>\n",
       "    <tr>\n",
       "      <th>0</th>\n",
       "      <td>1</td>\n",
       "      <td>Counter-Strike 2</td>\n",
       "      <td>https://shared.cloudflare.steamstatic.com//sto...</td>\n",
       "      <td>https://store.steampowered.com/app/730/Counter...</td>\n",
       "      <td>Free To Play</td>\n",
       "      <td>1,485,535</td>\n",
       "      <td>1,489,929</td>\n",
       "      <td>FPS, Shooter, Multiplayer, Competitive, Action...</td>\n",
       "    </tr>\n",
       "    <tr>\n",
       "      <th>1</th>\n",
       "      <td>2</td>\n",
       "      <td>PUBG: BATTLEGROUNDS</td>\n",
       "      <td>https://shared.cloudflare.steamstatic.com//sto...</td>\n",
       "      <td>https://store.steampowered.com/app/578080/PUBG...</td>\n",
       "      <td>Free To Play</td>\n",
       "      <td>765,150</td>\n",
       "      <td>765,150</td>\n",
       "      <td>Survival, Shooter, Battle Royale, Multiplayer,...</td>\n",
       "    </tr>\n",
       "    <tr>\n",
       "      <th>2</th>\n",
       "      <td>3</td>\n",
       "      <td>Dota 2</td>\n",
       "      <td>https://shared.cloudflare.steamstatic.com//sto...</td>\n",
       "      <td>https://store.steampowered.com/app/570/Dota_2?...</td>\n",
       "      <td>Free To Play</td>\n",
       "      <td>698,757</td>\n",
       "      <td>715,295</td>\n",
       "      <td>Free to Play, MOBA, Multiplayer, Strategy, eSp...</td>\n",
       "    </tr>\n",
       "    <tr>\n",
       "      <th>3</th>\n",
       "      <td>4</td>\n",
       "      <td>Marvel Rivals</td>\n",
       "      <td>https://shared.cloudflare.steamstatic.com//sto...</td>\n",
       "      <td>https://store.steampowered.com/app/2767030/Mar...</td>\n",
       "      <td>Free To Play</td>\n",
       "      <td>312,427</td>\n",
       "      <td>565,653</td>\n",
       "      <td>Free to Play, Multiplayer, Hero Shooter, Third...</td>\n",
       "    </tr>\n",
       "    <tr>\n",
       "      <th>4</th>\n",
       "      <td>5</td>\n",
       "      <td>Path of Exile 2</td>\n",
       "      <td>https://shared.cloudflare.steamstatic.com//sto...</td>\n",
       "      <td>https://store.steampowered.com/app/2694490/Pat...</td>\n",
       "      <td>£23.93</td>\n",
       "      <td>258,475</td>\n",
       "      <td>288,757</td>\n",
       "      <td>Action RPG, Hack and Slash, RPG, Action, Souls...</td>\n",
       "    </tr>\n",
       "  </tbody>\n",
       "</table>\n",
       "</div>"
      ],
      "text/plain": [
       "   Rank                 Name  \\\n",
       "0     1     Counter-Strike 2   \n",
       "1     2  PUBG: BATTLEGROUNDS   \n",
       "2     3               Dota 2   \n",
       "3     4        Marvel Rivals   \n",
       "4     5      Path of Exile 2   \n",
       "\n",
       "                                       Thumbnail URL  \\\n",
       "0  https://shared.cloudflare.steamstatic.com//sto...   \n",
       "1  https://shared.cloudflare.steamstatic.com//sto...   \n",
       "2  https://shared.cloudflare.steamstatic.com//sto...   \n",
       "3  https://shared.cloudflare.steamstatic.com//sto...   \n",
       "4  https://shared.cloudflare.steamstatic.com//sto...   \n",
       "\n",
       "                                          Store Link         Price  \\\n",
       "0  https://store.steampowered.com/app/730/Counter...  Free To Play   \n",
       "1  https://store.steampowered.com/app/578080/PUBG...  Free To Play   \n",
       "2  https://store.steampowered.com/app/570/Dota_2?...  Free To Play   \n",
       "3  https://store.steampowered.com/app/2767030/Mar...  Free To Play   \n",
       "4  https://store.steampowered.com/app/2694490/Pat...        £23.93   \n",
       "\n",
       "  Current Players Peak Today  \\\n",
       "0       1,485,535  1,489,929   \n",
       "1         765,150    765,150   \n",
       "2         698,757    715,295   \n",
       "3         312,427    565,653   \n",
       "4         258,475    288,757   \n",
       "\n",
       "                                          Genre Tags  \n",
       "0  FPS, Shooter, Multiplayer, Competitive, Action...  \n",
       "1  Survival, Shooter, Battle Royale, Multiplayer,...  \n",
       "2  Free to Play, MOBA, Multiplayer, Strategy, eSp...  \n",
       "3  Free to Play, Multiplayer, Hero Shooter, Third...  \n",
       "4  Action RPG, Hack and Slash, RPG, Action, Souls...  "
      ]
     },
     "execution_count": 2,
     "metadata": {},
     "output_type": "execute_result"
    }
   ],
   "source": [
    "import pandas as pd\n",
    "df = pd.read_csv(\"data/Steam Top 100 Played Games - List.csv\")\n",
    "df.head()"
   ]
  },
  {
   "cell_type": "code",
   "execution_count": 3,
   "id": "8c2897d1",
   "metadata": {},
   "outputs": [
    {
     "data": {
      "text/plain": [
       "(100, 8)"
      ]
     },
     "execution_count": 3,
     "metadata": {},
     "output_type": "execute_result"
    }
   ],
   "source": [
    "df.shape"
   ]
  },
  {
   "cell_type": "code",
   "execution_count": 4,
   "id": "190a08c4",
   "metadata": {},
   "outputs": [
    {
     "data": {
      "text/plain": [
       "Index(['Rank', 'Name', 'Thumbnail URL', 'Store Link', 'Price',\n",
       "       'Current Players', 'Peak Today', 'Genre Tags'],\n",
       "      dtype='object')"
      ]
     },
     "execution_count": 4,
     "metadata": {},
     "output_type": "execute_result"
    }
   ],
   "source": [
    "df.columns"
   ]
  },
  {
   "cell_type": "code",
   "execution_count": 9,
   "id": "df14f6f2",
   "metadata": {},
   "outputs": [
    {
     "name": "stdout",
     "output_type": "stream",
     "text": [
      "<class 'pandas.core.frame.DataFrame'>\n",
      "RangeIndex: 100 entries, 0 to 99\n",
      "Data columns (total 8 columns):\n",
      " #   Column           Non-Null Count  Dtype \n",
      "---  ------           --------------  ----- \n",
      " 0   Rank             100 non-null    int64 \n",
      " 1   Name             100 non-null    object\n",
      " 2   Thumbnail URL    100 non-null    object\n",
      " 3   Store Link       100 non-null    object\n",
      " 4   Price            100 non-null    object\n",
      " 5   Current Players  100 non-null    object\n",
      " 6   Peak Today       100 non-null    object\n",
      " 7   Genre Tags       100 non-null    object\n",
      "dtypes: int64(1), object(7)\n",
      "memory usage: 6.4+ KB\n"
     ]
    }
   ],
   "source": [
    "df.info()"
   ]
  },
  {
   "cell_type": "code",
   "execution_count": 32,
   "id": "9d2f9535",
   "metadata": {},
   "outputs": [
    {
     "name": "stdout",
     "output_type": "stream",
     "text": [
      "<class 'pandas.core.frame.DataFrame'>\n",
      "RangeIndex: 100 entries, 0 to 99\n",
      "Data columns (total 8 columns):\n",
      " #   Column           Non-Null Count  Dtype \n",
      "---  ------           --------------  ----- \n",
      " 0   Rank             100 non-null    int64 \n",
      " 1   Name             100 non-null    object\n",
      " 2   Thumbnail URL    100 non-null    object\n",
      " 3   Store Link       100 non-null    object\n",
      " 4   Price            100 non-null    object\n",
      " 5   Current Players  100 non-null    int64 \n",
      " 6   Peak Today       100 non-null    int64 \n",
      " 7   Genre Tags       100 non-null    object\n",
      "dtypes: int64(3), object(5)\n",
      "memory usage: 6.4+ KB\n"
     ]
    }
   ],
   "source": [
    "#df[\"Current Players\"] = df[\"Current Players\"].str.replace(\",\",\"\").astype(int)\n",
    "#df[\"Peak Today\"] = df[\"Peak Today\"].str.replace(\",\",\"\").astype(int)\n",
    "df[\"Price\"] = df[\"Price\"].str.replace(\"Free To Play\",\"0\")\n",
    "df.info()"
   ]
  },
  {
   "cell_type": "code",
   "execution_count": 39,
   "id": "b366655c",
   "metadata": {},
   "outputs": [
    {
     "name": "stdout",
     "output_type": "stream",
     "text": [
      "<class 'pandas.core.frame.DataFrame'>\n",
      "RangeIndex: 100 entries, 0 to 99\n",
      "Data columns (total 8 columns):\n",
      " #   Column           Non-Null Count  Dtype  \n",
      "---  ------           --------------  -----  \n",
      " 0   Rank             100 non-null    int64  \n",
      " 1   Name             100 non-null    object \n",
      " 2   Thumbnail URL    100 non-null    object \n",
      " 3   Store Link       100 non-null    object \n",
      " 4   Price            100 non-null    float64\n",
      " 5   Current Players  100 non-null    int64  \n",
      " 6   Peak Today       100 non-null    int64  \n",
      " 7   Genre Tags       100 non-null    object \n",
      "dtypes: float64(1), int64(3), object(4)\n",
      "memory usage: 6.4+ KB\n"
     ]
    }
   ],
   "source": [
    "#df[\"Price\"] = df[\"Price\"].str.replace(\"£\",\"\").astype(float)\n",
    "df.info()"
   ]
  },
  {
   "cell_type": "code",
   "execution_count": 98,
   "id": "723d3d92",
   "metadata": {},
   "outputs": [
    {
     "data": {
      "text/html": [
       "<div>\n",
       "<style scoped>\n",
       "    .dataframe tbody tr th:only-of-type {\n",
       "        vertical-align: middle;\n",
       "    }\n",
       "\n",
       "    .dataframe tbody tr th {\n",
       "        vertical-align: top;\n",
       "    }\n",
       "\n",
       "    .dataframe thead th {\n",
       "        text-align: right;\n",
       "    }\n",
       "</style>\n",
       "<table border=\"1\" class=\"dataframe\">\n",
       "  <thead>\n",
       "    <tr style=\"text-align: right;\">\n",
       "      <th></th>\n",
       "      <th>Players</th>\n",
       "      <th>Price</th>\n",
       "    </tr>\n",
       "    <tr>\n",
       "      <th>Game</th>\n",
       "      <th></th>\n",
       "      <th></th>\n",
       "    </tr>\n",
       "  </thead>\n",
       "  <tbody>\n",
       "    <tr>\n",
       "      <th>Counter-Strike 2</th>\n",
       "      <td>1489929</td>\n",
       "      <td>0.00</td>\n",
       "    </tr>\n",
       "    <tr>\n",
       "      <th>PUBG: BATTLEGROUNDS</th>\n",
       "      <td>765150</td>\n",
       "      <td>0.00</td>\n",
       "    </tr>\n",
       "    <tr>\n",
       "      <th>Dota 2</th>\n",
       "      <td>715295</td>\n",
       "      <td>0.00</td>\n",
       "    </tr>\n",
       "    <tr>\n",
       "      <th>Marvel Rivals</th>\n",
       "      <td>565653</td>\n",
       "      <td>0.00</td>\n",
       "    </tr>\n",
       "    <tr>\n",
       "      <th>Path of Exile 2</th>\n",
       "      <td>288757</td>\n",
       "      <td>23.93</td>\n",
       "    </tr>\n",
       "    <tr>\n",
       "      <th>NARAKA: BLADEPOINT</th>\n",
       "      <td>208643</td>\n",
       "      <td>0.00</td>\n",
       "    </tr>\n",
       "    <tr>\n",
       "      <th>Grand Theft Auto V</th>\n",
       "      <td>207117</td>\n",
       "      <td>14.80</td>\n",
       "    </tr>\n",
       "    <tr>\n",
       "      <th>Rust</th>\n",
       "      <td>205358</td>\n",
       "      <td>34.99</td>\n",
       "    </tr>\n",
       "    <tr>\n",
       "      <th>Palworld</th>\n",
       "      <td>165613</td>\n",
       "      <td>24.99</td>\n",
       "    </tr>\n",
       "    <tr>\n",
       "      <th>Apex Legends™</th>\n",
       "      <td>151447</td>\n",
       "      <td>0.00</td>\n",
       "    </tr>\n",
       "  </tbody>\n",
       "</table>\n",
       "</div>"
      ],
      "text/plain": [
       "                     Players  Price\n",
       "Game                               \n",
       "Counter-Strike 2     1489929   0.00\n",
       "PUBG: BATTLEGROUNDS   765150   0.00\n",
       "Dota 2                715295   0.00\n",
       "Marvel Rivals         565653   0.00\n",
       "Path of Exile 2       288757  23.93\n",
       "NARAKA: BLADEPOINT    208643   0.00\n",
       "Grand Theft Auto V    207117  14.80\n",
       "Rust                  205358  34.99\n",
       "Palworld              165613  24.99\n",
       "Apex Legends™         151447   0.00"
      ]
     },
     "execution_count": 98,
     "metadata": {},
     "output_type": "execute_result"
    }
   ],
   "source": [
    "import duckdb\n",
    "games_top_10 = duckdb.query(\n",
    "    \"\"\"--sql\n",
    "    SELECT name as Game, \"peak today\" as Players, price\n",
    "    from df\n",
    "    ORDER BY Players DESC\n",
    "\"\"\"\n",
    ").df().head(10).set_index(\"Game\")\n",
    "games_top_10"
   ]
  },
  {
   "cell_type": "code",
   "execution_count": 195,
   "id": "d16ca1e8",
   "metadata": {},
   "outputs": [
    {
     "data": {
      "text/plain": [
       "Text(-0.2, 3, 'no bars -> free to play')"
      ]
     },
     "execution_count": 195,
     "metadata": {},
     "output_type": "execute_result"
    },
    {
     "data": {
      "image/png": "[encoded data removed]",
      "text/plain": [
       "<Figure size 1200x600 with 2 Axes>"
      ]
     },
     "metadata": {},
     "output_type": "display_data"
    }
   ],
   "source": [
    "import matplotlib.pyplot as plt\n",
    "fig, (ax1, ax2) = plt.subplots(1,2, figsize= (12,6))\n",
    "games_top_10.plot(kind=\"bar\", y= \"Players\", ax=ax1)\n",
    "games_top_10.plot(kind=\"bar\", y= \"Price\", ax=ax2)\n",
    "ax1.set(title=\"Number of players for most popular games in Steam\", ylabel=\"Number Players\", xlabel=\"Game\")\n",
    "ax2.set(title=\"Price in pounds for the most popular games in Steam\", ylabel=\"Price in pounds\", xlabel=\"Game\")\n",
    "fig.tight_layout()\n",
    "containers = [0,1,2,3]\n",
    "\n",
    "for container in containers:\n",
    "        xy = (ax1.containers[0][container].get_x()+0.25, ax1.containers[0][container].get_height())\n",
    "        rad = 0.3 if xy[0] < 0.25 else -0.3\n",
    "        arrowprops = dict(arrowstyle = \"->\", linewidth = 1, connectionstyle = f\"arc3, rad={rad}\")\n",
    "        ax1.annotate(\n",
    "        text = \"most popular games are free\", \n",
    "        arrowprops= arrowprops, \n",
    "        xy=xy, \n",
    "        xytext=(0.5, 1100000))\n",
    "#ax.annotate(text = \"Swedes\", xy= (1, 32), arrowprops=arrowprops, xytext = (.8, 40))\n",
    "##ax.annotate(text = \"Germans\", xy= (0, 12), arrowprops=arrowprops, xytext = (0, 20))\n",
    "#a.annotate(text = \"The rest\", xy= (0, 55), arrowprops=arrowprops, xytext = (0, 45))\n",
    "ax2.annotate(text = \"no bars -> free to play\", xy=(-0.2, 3))\n"
   ]
  },
  {
   "cell_type": "code",
   "execution_count": 312,
   "id": "f7077c18",
   "metadata": {},
   "outputs": [
    {
     "data": {
      "text/html": [
       "<div>\n",
       "<style scoped>\n",
       "    .dataframe tbody tr th:only-of-type {\n",
       "        vertical-align: middle;\n",
       "    }\n",
       "\n",
       "    .dataframe tbody tr th {\n",
       "        vertical-align: top;\n",
       "    }\n",
       "\n",
       "    .dataframe thead th {\n",
       "        text-align: right;\n",
       "    }\n",
       "</style>\n",
       "<table border=\"1\" class=\"dataframe\">\n",
       "  <thead>\n",
       "    <tr style=\"text-align: right;\">\n",
       "      <th></th>\n",
       "      <th>Genre</th>\n",
       "      <th>Players</th>\n",
       "    </tr>\n",
       "  </thead>\n",
       "  <tbody>\n",
       "    <tr>\n",
       "      <th>0</th>\n",
       "      <td>FPS, Shooter, Multiplayer, Competitive, Action...</td>\n",
       "      <td>1489929</td>\n",
       "    </tr>\n",
       "    <tr>\n",
       "      <th>1</th>\n",
       "      <td>Survival, Shooter, Battle Royale, Multiplayer,...</td>\n",
       "      <td>765150</td>\n",
       "    </tr>\n",
       "    <tr>\n",
       "      <th>2</th>\n",
       "      <td>Free to Play, MOBA, Multiplayer, Strategy, eSp...</td>\n",
       "      <td>715295</td>\n",
       "    </tr>\n",
       "    <tr>\n",
       "      <th>3</th>\n",
       "      <td>Free to Play, Multiplayer, Hero Shooter, Third...</td>\n",
       "      <td>565653</td>\n",
       "    </tr>\n",
       "    <tr>\n",
       "      <th>4</th>\n",
       "      <td>Action RPG, Hack and Slash, RPG, Action, Souls...</td>\n",
       "      <td>288757</td>\n",
       "    </tr>\n",
       "    <tr>\n",
       "      <th>5</th>\n",
       "      <td>Battle Royale, Multiplayer, Martial Arts, PvP,...</td>\n",
       "      <td>208643</td>\n",
       "    </tr>\n",
       "    <tr>\n",
       "      <th>6</th>\n",
       "      <td>Open World, Action, Multiplayer, Crime, Mature</td>\n",
       "      <td>207117</td>\n",
       "    </tr>\n",
       "    <tr>\n",
       "      <th>7</th>\n",
       "      <td>Survival, Crafting, Multiplayer, Open World, O...</td>\n",
       "      <td>205358</td>\n",
       "    </tr>\n",
       "    <tr>\n",
       "      <th>8</th>\n",
       "      <td>Open World, Survival, Creature Collector, Mult...</td>\n",
       "      <td>165613</td>\n",
       "    </tr>\n",
       "    <tr>\n",
       "      <th>9</th>\n",
       "      <td>Free to Play, Battle Royale, Multiplayer, FPS,...</td>\n",
       "      <td>151447</td>\n",
       "    </tr>\n",
       "  </tbody>\n",
       "</table>\n",
       "</div>"
      ],
      "text/plain": [
       "                                               Genre  Players\n",
       "0  FPS, Shooter, Multiplayer, Competitive, Action...  1489929\n",
       "1  Survival, Shooter, Battle Royale, Multiplayer,...   765150\n",
       "2  Free to Play, MOBA, Multiplayer, Strategy, eSp...   715295\n",
       "3  Free to Play, Multiplayer, Hero Shooter, Third...   565653\n",
       "4  Action RPG, Hack and Slash, RPG, Action, Souls...   288757\n",
       "5  Battle Royale, Multiplayer, Martial Arts, PvP,...   208643\n",
       "6     Open World, Action, Multiplayer, Crime, Mature   207117\n",
       "7  Survival, Crafting, Multiplayer, Open World, O...   205358\n",
       "8  Open World, Survival, Creature Collector, Mult...   165613\n",
       "9  Free to Play, Battle Royale, Multiplayer, FPS,...   151447"
      ]
     },
     "execution_count": 312,
     "metadata": {},
     "output_type": "execute_result"
    }
   ],
   "source": [
    "top_10_genres = duckdb.query(\n",
    "    \"\"\"--sql\n",
    "    SELECT \"Genre tags\" as Genre, \"peak today\" as Players\n",
    "    from df\n",
    "    ORDER BY Players DESC\n",
    "\"\"\"\n",
    ").df().head(10)\n",
    "top_10_genres"
   ]
  },
  {
   "cell_type": "code",
   "execution_count": 313,
   "id": "26d2ef08",
   "metadata": {},
   "outputs": [
    {
     "data": {
      "text/html": [
       "<div>\n",
       "<style scoped>\n",
       "    .dataframe tbody tr th:only-of-type {\n",
       "        vertical-align: middle;\n",
       "    }\n",
       "\n",
       "    .dataframe tbody tr th {\n",
       "        vertical-align: top;\n",
       "    }\n",
       "\n",
       "    .dataframe thead th {\n",
       "        text-align: right;\n",
       "    }\n",
       "</style>\n",
       "<table border=\"1\" class=\"dataframe\">\n",
       "  <thead>\n",
       "    <tr style=\"text-align: right;\">\n",
       "      <th></th>\n",
       "      <th>Genre</th>\n",
       "      <th>Players</th>\n",
       "    </tr>\n",
       "  </thead>\n",
       "  <tbody>\n",
       "    <tr>\n",
       "      <th>0</th>\n",
       "      <td>[FPS,  Shooter,  Multiplayer,  Competitive,  A...</td>\n",
       "      <td>1489929</td>\n",
       "    </tr>\n",
       "    <tr>\n",
       "      <th>1</th>\n",
       "      <td>[Survival,  Shooter,  Battle Royale,  Multipla...</td>\n",
       "      <td>765150</td>\n",
       "    </tr>\n",
       "    <tr>\n",
       "      <th>2</th>\n",
       "      <td>[Free to Play,  MOBA,  Multiplayer,  Strategy,...</td>\n",
       "      <td>715295</td>\n",
       "    </tr>\n",
       "    <tr>\n",
       "      <th>3</th>\n",
       "      <td>[Free to Play,  Multiplayer,  Hero Shooter,  T...</td>\n",
       "      <td>565653</td>\n",
       "    </tr>\n",
       "    <tr>\n",
       "      <th>4</th>\n",
       "      <td>[Action RPG,  Hack and Slash,  RPG,  Action,  ...</td>\n",
       "      <td>288757</td>\n",
       "    </tr>\n",
       "    <tr>\n",
       "      <th>5</th>\n",
       "      <td>[Battle Royale,  Multiplayer,  Martial Arts,  ...</td>\n",
       "      <td>208643</td>\n",
       "    </tr>\n",
       "    <tr>\n",
       "      <th>6</th>\n",
       "      <td>[Open World,  Action,  Multiplayer,  Crime,  M...</td>\n",
       "      <td>207117</td>\n",
       "    </tr>\n",
       "    <tr>\n",
       "      <th>7</th>\n",
       "      <td>[Survival,  Crafting,  Multiplayer,  Open Worl...</td>\n",
       "      <td>205358</td>\n",
       "    </tr>\n",
       "    <tr>\n",
       "      <th>8</th>\n",
       "      <td>[Open World,  Survival,  Creature Collector,  ...</td>\n",
       "      <td>165613</td>\n",
       "    </tr>\n",
       "    <tr>\n",
       "      <th>9</th>\n",
       "      <td>[Free to Play,  Battle Royale,  Multiplayer,  ...</td>\n",
       "      <td>151447</td>\n",
       "    </tr>\n",
       "  </tbody>\n",
       "</table>\n",
       "</div>"
      ],
      "text/plain": [
       "                                               Genre  Players\n",
       "0  [FPS,  Shooter,  Multiplayer,  Competitive,  A...  1489929\n",
       "1  [Survival,  Shooter,  Battle Royale,  Multipla...   765150\n",
       "2  [Free to Play,  MOBA,  Multiplayer,  Strategy,...   715295\n",
       "3  [Free to Play,  Multiplayer,  Hero Shooter,  T...   565653\n",
       "4  [Action RPG,  Hack and Slash,  RPG,  Action,  ...   288757\n",
       "5  [Battle Royale,  Multiplayer,  Martial Arts,  ...   208643\n",
       "6  [Open World,  Action,  Multiplayer,  Crime,  M...   207117\n",
       "7  [Survival,  Crafting,  Multiplayer,  Open Worl...   205358\n",
       "8  [Open World,  Survival,  Creature Collector,  ...   165613\n",
       "9  [Free to Play,  Battle Royale,  Multiplayer,  ...   151447"
      ]
     },
     "execution_count": 313,
     "metadata": {},
     "output_type": "execute_result"
    }
   ],
   "source": [
    "top_10_genres[\"Genre\"] = top_10_genres[\"Genre\"].str.split(\",\")\n",
    "top_10_genres"
   ]
  },
  {
   "cell_type": "code",
   "execution_count": 318,
   "id": "0cff300c",
   "metadata": {},
   "outputs": [
    {
     "data": {
      "text/plain": [
       "0               FPS\n",
       "1           Shooter\n",
       "2       Multiplayer\n",
       "3       Competitive\n",
       "4            Action\n",
       "           ...     \n",
       "189           Funny\n",
       "190       Lore-Rich\n",
       "191       Cyberpunk\n",
       "192       Cinematic\n",
       "193               +\n",
       "Name: Genre, Length: 194, dtype: object"
      ]
     },
     "execution_count": 318,
     "metadata": {},
     "output_type": "execute_result"
    }
   ],
   "source": [
    "hej= top_10_genres[\"Genre\"].explode(\"Genre\")\n",
    "hej"
   ]
  },
  {
   "cell_type": "code",
   "execution_count": 321,
   "id": "c8cbfbfc",
   "metadata": {},
   "outputs": [
    {
     "data": {
      "text/plain": [
       "Genre\n",
       "Multiplayer             10\n",
       "Action                  10\n",
       "+                        9\n",
       "PvP                      7\n",
       "Co-op                    7\n",
       "                        ..\n",
       "MMORPG                   1\n",
       "Horror                   1\n",
       "Inventory Management     1\n",
       "Dark                     1\n",
       "Cinematic                1\n",
       "Name: count, Length: 86, dtype: int64"
      ]
     },
     "execution_count": 321,
     "metadata": {},
     "output_type": "execute_result"
    }
   ],
   "source": [
    "hej.value_counts()"
   ]
  },
  {
   "cell_type": "code",
   "execution_count": 307,
   "id": "f30d099e",
   "metadata": {},
   "outputs": [
    {
     "data": {
      "text/plain": [
       "193               +\n",
       "151               +\n",
       "104               +\n",
       "62                +\n",
       "20                +\n",
       "           ...     \n",
       "173    free to play\n",
       "152      open world\n",
       "126      open world\n",
       "131        survival\n",
       "21         survival\n",
       "Name: Genre, Length: 194, dtype: object"
      ]
     },
     "execution_count": 307,
     "metadata": {},
     "output_type": "execute_result"
    }
   ],
   "source": [
    "df_action = df_all_genres['Genre'].str.lower()\n",
    "df_action.sort_values()\n"
   ]
  },
  {
   "cell_type": "code",
   "execution_count": 306,
   "id": "fb9fe32c",
   "metadata": {},
   "outputs": [
    {
     "data": {
      "text/plain": [
       "Series([], Name: Genre, dtype: object)"
      ]
     },
     "execution_count": 306,
     "metadata": {},
     "output_type": "execute_result"
    }
   ],
   "source": [
    "df_action_filtered = df_action[df_action == 'action']\n",
    "df_action_filtered\n"
   ]
  },
  {
   "cell_type": "code",
   "execution_count": null,
   "id": "59f4ae95",
   "metadata": {},
   "outputs": [],
   "source": []
  },
  {
   "cell_type": "code",
   "execution_count": null,
   "id": "5a316142",
   "metadata": {},
   "outputs": [],
   "source": []
  },
  {
   "cell_type": "code",
   "execution_count": 266,
   "id": "a72de510",
   "metadata": {},
   "outputs": [
    {
     "data": {
      "text/html": [
       "<div>\n",
       "<style scoped>\n",
       "    .dataframe tbody tr th:only-of-type {\n",
       "        vertical-align: middle;\n",
       "    }\n",
       "\n",
       "    .dataframe tbody tr th {\n",
       "        vertical-align: top;\n",
       "    }\n",
       "\n",
       "    .dataframe thead th {\n",
       "        text-align: right;\n",
       "    }\n",
       "</style>\n",
       "<table border=\"1\" class=\"dataframe\">\n",
       "  <thead>\n",
       "    <tr style=\"text-align: right;\">\n",
       "      <th></th>\n",
       "      <th>Players</th>\n",
       "    </tr>\n",
       "    <tr>\n",
       "      <th>Genre</th>\n",
       "      <th></th>\n",
       "    </tr>\n",
       "  </thead>\n",
       "  <tbody>\n",
       "    <tr>\n",
       "      <th>Action</th>\n",
       "      <td>4762962</td>\n",
       "    </tr>\n",
       "    <tr>\n",
       "      <th>Multiplayer</th>\n",
       "      <td>4762962</td>\n",
       "    </tr>\n",
       "    <tr>\n",
       "      <th>+</th>\n",
       "      <td>4555845</td>\n",
       "    </tr>\n",
       "    <tr>\n",
       "      <th>PvP</th>\n",
       "      <td>4101475</td>\n",
       "    </tr>\n",
       "    <tr>\n",
       "      <th>Co-op</th>\n",
       "      <td>4058445</td>\n",
       "    </tr>\n",
       "    <tr>\n",
       "      <th>Online Co-Op</th>\n",
       "      <td>4030142</td>\n",
       "    </tr>\n",
       "    <tr>\n",
       "      <th>Team-Based</th>\n",
       "      <td>3687474</td>\n",
       "    </tr>\n",
       "    <tr>\n",
       "      <th>Competitive</th>\n",
       "      <td>3536027</td>\n",
       "    </tr>\n",
       "    <tr>\n",
       "      <th>Strategy</th>\n",
       "      <td>3536027</td>\n",
       "    </tr>\n",
       "    <tr>\n",
       "      <th>Shooter</th>\n",
       "      <td>3177537</td>\n",
       "    </tr>\n",
       "  </tbody>\n",
       "</table>\n",
       "</div>"
      ],
      "text/plain": [
       "              Players\n",
       "Genre                \n",
       "Action        4762962\n",
       "Multiplayer   4762962\n",
       "+             4555845\n",
       "PvP           4101475\n",
       "Co-op         4058445\n",
       "Online Co-Op  4030142\n",
       "Team-Based    3687474\n",
       "Competitive   3536027\n",
       "Strategy      3536027\n",
       "Shooter       3177537"
      ]
     },
     "execution_count": 266,
     "metadata": {},
     "output_type": "execute_result"
    }
   ],
   "source": [
    "all_genres.groupby([\"Genre\"]).sum().sort_values(\"Players\", ascending=False).head(10)"
   ]
  }
 ],
 "metadata": {
  "kernelspec": {
   "display_name": ".venv",
   "language": "python",
   "name": "python3"
  },
  "language_info": {
   "codemirror_mode": {
    "name": "ipython",
    "version": 3
   },
   "file_extension": ".py",
   "mimetype": "text/x-python",
   "name": "python",
   "nbconvert_exporter": "python",
   "pygments_lexer": "ipython3",
   "version": "3.12.5"
  }
 },
 "nbformat": 4,
 "nbformat_minor": 5
}
