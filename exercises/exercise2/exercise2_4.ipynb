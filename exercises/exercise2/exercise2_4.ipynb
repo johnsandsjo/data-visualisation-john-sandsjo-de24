{
 "cells": [
  {
   "cell_type": "markdown",
   "id": "020d3c60",
   "metadata": {},
   "source": [
    "# Exercise 2.4"
   ]
  },
  {
   "cell_type": "code",
   "execution_count": 2,
   "id": "9a72f63e",
   "metadata": {},
   "outputs": [
    {
     "data": {
      "text/html": [
       "<div>\n",
       "<style scoped>\n",
       "    .dataframe tbody tr th:only-of-type {\n",
       "        vertical-align: middle;\n",
       "    }\n",
       "\n",
       "    .dataframe tbody tr th {\n",
       "        vertical-align: top;\n",
       "    }\n",
       "\n",
       "    .dataframe thead th {\n",
       "        text-align: right;\n",
       "    }\n",
       "</style>\n",
       "<table border=\"1\" class=\"dataframe\">\n",
       "  <thead>\n",
       "    <tr style=\"text-align: right;\">\n",
       "      <th></th>\n",
       "      <th>Entity</th>\n",
       "      <th>Code</th>\n",
       "      <th>Year</th>\n",
       "      <th>Fixed broadband subscriptions</th>\n",
       "    </tr>\n",
       "  </thead>\n",
       "  <tbody>\n",
       "    <tr>\n",
       "      <th>0</th>\n",
       "      <td>Afghanistan</td>\n",
       "      <td>AFG</td>\n",
       "      <td>2004</td>\n",
       "      <td>200</td>\n",
       "    </tr>\n",
       "    <tr>\n",
       "      <th>1</th>\n",
       "      <td>Afghanistan</td>\n",
       "      <td>AFG</td>\n",
       "      <td>2005</td>\n",
       "      <td>220</td>\n",
       "    </tr>\n",
       "    <tr>\n",
       "      <th>2</th>\n",
       "      <td>Afghanistan</td>\n",
       "      <td>AFG</td>\n",
       "      <td>2006</td>\n",
       "      <td>500</td>\n",
       "    </tr>\n",
       "    <tr>\n",
       "      <th>3</th>\n",
       "      <td>Afghanistan</td>\n",
       "      <td>AFG</td>\n",
       "      <td>2007</td>\n",
       "      <td>500</td>\n",
       "    </tr>\n",
       "    <tr>\n",
       "      <th>4</th>\n",
       "      <td>Afghanistan</td>\n",
       "      <td>AFG</td>\n",
       "      <td>2008</td>\n",
       "      <td>500</td>\n",
       "    </tr>\n",
       "    <tr>\n",
       "      <th>...</th>\n",
       "      <td>...</td>\n",
       "      <td>...</td>\n",
       "      <td>...</td>\n",
       "      <td>...</td>\n",
       "    </tr>\n",
       "    <tr>\n",
       "      <th>4460</th>\n",
       "      <td>Zimbabwe</td>\n",
       "      <td>ZWE</td>\n",
       "      <td>2019</td>\n",
       "      <td>204000</td>\n",
       "    </tr>\n",
       "    <tr>\n",
       "      <th>4461</th>\n",
       "      <td>Zimbabwe</td>\n",
       "      <td>ZWE</td>\n",
       "      <td>2020</td>\n",
       "      <td>203000</td>\n",
       "    </tr>\n",
       "    <tr>\n",
       "      <th>4462</th>\n",
       "      <td>Zimbabwe</td>\n",
       "      <td>ZWE</td>\n",
       "      <td>2021</td>\n",
       "      <td>205000</td>\n",
       "    </tr>\n",
       "    <tr>\n",
       "      <th>4463</th>\n",
       "      <td>Zimbabwe</td>\n",
       "      <td>ZWE</td>\n",
       "      <td>2022</td>\n",
       "      <td>207000</td>\n",
       "    </tr>\n",
       "    <tr>\n",
       "      <th>4464</th>\n",
       "      <td>Zimbabwe</td>\n",
       "      <td>ZWE</td>\n",
       "      <td>2023</td>\n",
       "      <td>269000</td>\n",
       "    </tr>\n",
       "  </tbody>\n",
       "</table>\n",
       "<p>4465 rows × 4 columns</p>\n",
       "</div>"
      ],
      "text/plain": [
       "           Entity Code  Year  Fixed broadband subscriptions\n",
       "0     Afghanistan  AFG  2004                            200\n",
       "1     Afghanistan  AFG  2005                            220\n",
       "2     Afghanistan  AFG  2006                            500\n",
       "3     Afghanistan  AFG  2007                            500\n",
       "4     Afghanistan  AFG  2008                            500\n",
       "...           ...  ...   ...                            ...\n",
       "4460     Zimbabwe  ZWE  2019                         204000\n",
       "4461     Zimbabwe  ZWE  2020                         203000\n",
       "4462     Zimbabwe  ZWE  2021                         205000\n",
       "4463     Zimbabwe  ZWE  2022                         207000\n",
       "4464     Zimbabwe  ZWE  2023                         269000\n",
       "\n",
       "[4465 rows x 4 columns]"
      ]
     },
     "execution_count": 2,
     "metadata": {},
     "output_type": "execute_result"
    }
   ],
   "source": [
    "import pandas as pd\n",
    "import duckdb\n",
    "\n",
    "df = pd.read_csv(\"data/landline-internet-subscriptions.csv\")\n",
    "df"
   ]
  },
  {
   "cell_type": "code",
   "execution_count": 3,
   "id": "5be6ccd2",
   "metadata": {},
   "outputs": [],
   "source": [
    "norway_test = duckdb.query(\"\"\"--sql\n",
    "             SELECT *\n",
    "             FROM df\n",
    "             WHERE entity = 'Norway' AND year = 2023\n",
    "    \"\"\").df()\n",
    "norway_test[2023] = \"no data\""
   ]
  },
  {
   "cell_type": "code",
   "execution_count": 4,
   "id": "90ed65b7",
   "metadata": {},
   "outputs": [
    {
     "name": "stdout",
     "output_type": "stream",
     "text": [
      "<class 'pandas.core.frame.DataFrame'>\n",
      "RangeIndex: 4465 entries, 0 to 4464\n",
      "Data columns (total 4 columns):\n",
      " #   Column                         Non-Null Count  Dtype \n",
      "---  ------                         --------------  ----- \n",
      " 0   Entity                         4465 non-null   object\n",
      " 1   Code                           4153 non-null   object\n",
      " 2   Year                           4465 non-null   int64 \n",
      " 3   Fixed broadband subscriptions  4465 non-null   int64 \n",
      "dtypes: int64(2), object(2)\n",
      "memory usage: 139.7+ KB\n"
     ]
    }
   ],
   "source": [
    "df.info()"
   ]
  },
  {
   "cell_type": "code",
   "execution_count": 5,
   "id": "09fceff3",
   "metadata": {},
   "outputs": [
    {
     "data": {
      "text/html": [
       "<div>\n",
       "<style scoped>\n",
       "    .dataframe tbody tr th:only-of-type {\n",
       "        vertical-align: middle;\n",
       "    }\n",
       "\n",
       "    .dataframe tbody tr th {\n",
       "        vertical-align: top;\n",
       "    }\n",
       "\n",
       "    .dataframe thead th {\n",
       "        text-align: right;\n",
       "    }\n",
       "</style>\n",
       "<table border=\"1\" class=\"dataframe\">\n",
       "  <thead>\n",
       "    <tr style=\"text-align: right;\">\n",
       "      <th></th>\n",
       "      <th>Entity</th>\n",
       "      <th>Code</th>\n",
       "      <th>Year</th>\n",
       "      <th>Fixed broadband subscriptions</th>\n",
       "    </tr>\n",
       "  </thead>\n",
       "  <tbody>\n",
       "    <tr>\n",
       "      <th>0</th>\n",
       "      <td>Antigua and Barbuda</td>\n",
       "      <td>ATG</td>\n",
       "      <td>2022</td>\n",
       "      <td>9920</td>\n",
       "    </tr>\n",
       "    <tr>\n",
       "      <th>1</th>\n",
       "      <td>Aruba</td>\n",
       "      <td>ABW</td>\n",
       "      <td>2022</td>\n",
       "      <td>18800</td>\n",
       "    </tr>\n",
       "    <tr>\n",
       "      <th>2</th>\n",
       "      <td>Barbados</td>\n",
       "      <td>BRB</td>\n",
       "      <td>2022</td>\n",
       "      <td>106000</td>\n",
       "    </tr>\n",
       "    <tr>\n",
       "      <th>3</th>\n",
       "      <td>Belize</td>\n",
       "      <td>BLZ</td>\n",
       "      <td>2022</td>\n",
       "      <td>39300</td>\n",
       "    </tr>\n",
       "    <tr>\n",
       "      <th>4</th>\n",
       "      <td>Bermuda</td>\n",
       "      <td>BMU</td>\n",
       "      <td>2022</td>\n",
       "      <td>23000</td>\n",
       "    </tr>\n",
       "    <tr>\n",
       "      <th>...</th>\n",
       "      <td>...</td>\n",
       "      <td>...</td>\n",
       "      <td>...</td>\n",
       "      <td>...</td>\n",
       "    </tr>\n",
       "    <tr>\n",
       "      <th>64</th>\n",
       "      <td>Tuvalu</td>\n",
       "      <td>TUV</td>\n",
       "      <td>2022</td>\n",
       "      <td>452</td>\n",
       "    </tr>\n",
       "    <tr>\n",
       "      <th>65</th>\n",
       "      <td>United States Virgin Islands</td>\n",
       "      <td>VIR</td>\n",
       "      <td>2022</td>\n",
       "      <td>8710</td>\n",
       "    </tr>\n",
       "    <tr>\n",
       "      <th>66</th>\n",
       "      <td>Vanuatu</td>\n",
       "      <td>VUT</td>\n",
       "      <td>2022</td>\n",
       "      <td>3530</td>\n",
       "    </tr>\n",
       "    <tr>\n",
       "      <th>67</th>\n",
       "      <td>Venezuela</td>\n",
       "      <td>VEN</td>\n",
       "      <td>2022</td>\n",
       "      <td>2700000</td>\n",
       "    </tr>\n",
       "    <tr>\n",
       "      <th>68</th>\n",
       "      <td>Yemen</td>\n",
       "      <td>YEM</td>\n",
       "      <td>2022</td>\n",
       "      <td>486000</td>\n",
       "    </tr>\n",
       "  </tbody>\n",
       "</table>\n",
       "<p>69 rows × 4 columns</p>\n",
       "</div>"
      ],
      "text/plain": [
       "                          Entity Code  Year  Fixed broadband subscriptions\n",
       "0            Antigua and Barbuda  ATG  2022                           9920\n",
       "1                          Aruba  ABW  2022                          18800\n",
       "2                       Barbados  BRB  2022                         106000\n",
       "3                         Belize  BLZ  2022                          39300\n",
       "4                        Bermuda  BMU  2022                          23000\n",
       "..                           ...  ...   ...                            ...\n",
       "64                        Tuvalu  TUV  2022                            452\n",
       "65  United States Virgin Islands  VIR  2022                           8710\n",
       "66                       Vanuatu  VUT  2022                           3530\n",
       "67                     Venezuela  VEN  2022                        2700000\n",
       "68                         Yemen  YEM  2022                         486000\n",
       "\n",
       "[69 rows x 4 columns]"
      ]
     },
     "execution_count": 5,
     "metadata": {},
     "output_type": "execute_result"
    }
   ],
   "source": [
    "data_2022 = duckdb.query(\"\"\"--sql\n",
    "    SELECT distinct entity, code, year, \"Fixed broadband subscriptions\"\n",
    "    FROM df\n",
    "    WHERE year = 2022 and entity NOT IN (SELECT entity FROM df WHERE year=2023)\n",
    "                                 ORDER BY entity;\n",
    "\"\"\").df()\n",
    "data_2022"
   ]
  },
  {
   "cell_type": "code",
   "execution_count": 6,
   "id": "ea50b8c0",
   "metadata": {},
   "outputs": [
    {
     "data": {
      "text/html": [
       "<div>\n",
       "<style scoped>\n",
       "    .dataframe tbody tr th:only-of-type {\n",
       "        vertical-align: middle;\n",
       "    }\n",
       "\n",
       "    .dataframe tbody tr th {\n",
       "        vertical-align: top;\n",
       "    }\n",
       "\n",
       "    .dataframe thead th {\n",
       "        text-align: right;\n",
       "    }\n",
       "</style>\n",
       "<table border=\"1\" class=\"dataframe\">\n",
       "  <thead>\n",
       "    <tr style=\"text-align: right;\">\n",
       "      <th></th>\n",
       "      <th>Entity</th>\n",
       "      <th>Code</th>\n",
       "    </tr>\n",
       "  </thead>\n",
       "  <tbody>\n",
       "    <tr>\n",
       "      <th>0</th>\n",
       "      <td>Sierra Leone</td>\n",
       "      <td>SLE</td>\n",
       "    </tr>\n",
       "  </tbody>\n",
       "</table>\n",
       "</div>"
      ],
      "text/plain": [
       "         Entity Code\n",
       "0  Sierra Leone  SLE"
      ]
     },
     "execution_count": 6,
     "metadata": {},
     "output_type": "execute_result"
    }
   ],
   "source": [
    "no_data_countries = duckdb.query(\"\"\"--sql\n",
    "    SELECT distinct entity, code\n",
    "    FROM df\n",
    "    WHERE entity NOT IN (SELECT entity FROM df WHERE year IN [2023, 2022])\n",
    "                                 ORDER BY entity;\n",
    "\"\"\").df()\n",
    "no_data_countries"
   ]
  },
  {
   "cell_type": "code",
   "execution_count": 7,
   "id": "a4007878",
   "metadata": {},
   "outputs": [
    {
     "data": {
      "text/html": [
       "<div>\n",
       "<style scoped>\n",
       "    .dataframe tbody tr th:only-of-type {\n",
       "        vertical-align: middle;\n",
       "    }\n",
       "\n",
       "    .dataframe tbody tr th {\n",
       "        vertical-align: top;\n",
       "    }\n",
       "\n",
       "    .dataframe thead th {\n",
       "        text-align: right;\n",
       "    }\n",
       "</style>\n",
       "<table border=\"1\" class=\"dataframe\">\n",
       "  <thead>\n",
       "    <tr style=\"text-align: right;\">\n",
       "      <th></th>\n",
       "      <th>Entity</th>\n",
       "      <th>Code</th>\n",
       "      <th>Year</th>\n",
       "      <th>Fixed broadband subscriptions</th>\n",
       "    </tr>\n",
       "  </thead>\n",
       "  <tbody>\n",
       "    <tr>\n",
       "      <th>1</th>\n",
       "      <td>China</td>\n",
       "      <td>CHN</td>\n",
       "      <td>2023</td>\n",
       "      <td>636000000</td>\n",
       "    </tr>\n",
       "    <tr>\n",
       "      <th>2</th>\n",
       "      <td>United States</td>\n",
       "      <td>USA</td>\n",
       "      <td>2023</td>\n",
       "      <td>131000000</td>\n",
       "    </tr>\n",
       "    <tr>\n",
       "      <th>3</th>\n",
       "      <td>Brazil</td>\n",
       "      <td>BRA</td>\n",
       "      <td>2023</td>\n",
       "      <td>48400000</td>\n",
       "    </tr>\n",
       "    <tr>\n",
       "      <th>4</th>\n",
       "      <td>Japan</td>\n",
       "      <td>JPN</td>\n",
       "      <td>2023</td>\n",
       "      <td>47900000</td>\n",
       "    </tr>\n",
       "    <tr>\n",
       "      <th>5</th>\n",
       "      <td>India</td>\n",
       "      <td>IND</td>\n",
       "      <td>2023</td>\n",
       "      <td>39300000</td>\n",
       "    </tr>\n",
       "    <tr>\n",
       "      <th>...</th>\n",
       "      <td>...</td>\n",
       "      <td>...</td>\n",
       "      <td>...</td>\n",
       "      <td>...</td>\n",
       "    </tr>\n",
       "    <tr>\n",
       "      <th>136</th>\n",
       "      <td>Burundi</td>\n",
       "      <td>BDI</td>\n",
       "      <td>2023</td>\n",
       "      <td>2790</td>\n",
       "    </tr>\n",
       "    <tr>\n",
       "      <th>137</th>\n",
       "      <td>Palau</td>\n",
       "      <td>PLW</td>\n",
       "      <td>2023</td>\n",
       "      <td>1300</td>\n",
       "    </tr>\n",
       "    <tr>\n",
       "      <th>138</th>\n",
       "      <td>Kiribati</td>\n",
       "      <td>KIR</td>\n",
       "      <td>2023</td>\n",
       "      <td>440</td>\n",
       "    </tr>\n",
       "    <tr>\n",
       "      <th>139</th>\n",
       "      <td>South Sudan</td>\n",
       "      <td>SSD</td>\n",
       "      <td>2023</td>\n",
       "      <td>200</td>\n",
       "    </tr>\n",
       "    <tr>\n",
       "      <th>140</th>\n",
       "      <td>East Timor</td>\n",
       "      <td>TLS</td>\n",
       "      <td>2023</td>\n",
       "      <td>80</td>\n",
       "    </tr>\n",
       "  </tbody>\n",
       "</table>\n",
       "<p>140 rows × 4 columns</p>\n",
       "</div>"
      ],
      "text/plain": [
       "            Entity Code  Year  Fixed broadband subscriptions\n",
       "1            China  CHN  2023                      636000000\n",
       "2    United States  USA  2023                      131000000\n",
       "3           Brazil  BRA  2023                       48400000\n",
       "4            Japan  JPN  2023                       47900000\n",
       "5            India  IND  2023                       39300000\n",
       "..             ...  ...   ...                            ...\n",
       "136        Burundi  BDI  2023                           2790\n",
       "137          Palau  PLW  2023                           1300\n",
       "138       Kiribati  KIR  2023                            440\n",
       "139    South Sudan  SSD  2023                            200\n",
       "140     East Timor  TLS  2023                             80\n",
       "\n",
       "[140 rows x 4 columns]"
      ]
     },
     "execution_count": 7,
     "metadata": {},
     "output_type": "execute_result"
    }
   ],
   "source": [
    "df_2023 = duckdb.query(\"\"\"--sql\n",
    "    SELECT *\n",
    "    FROM df\n",
    "    WHERE year=2023 and code != 'None'\n",
    "    ORDER BY 4 DESC\n",
    "\"\"\").df()\n",
    "df_2023 = df_2023.iloc[1:]\n",
    "df_2023"
   ]
  },
  {
   "cell_type": "code",
   "execution_count": 8,
   "id": "fb2513e0",
   "metadata": {},
   "outputs": [
    {
     "data": {
      "text/html": [
       "<div>\n",
       "<style scoped>\n",
       "    .dataframe tbody tr th:only-of-type {\n",
       "        vertical-align: middle;\n",
       "    }\n",
       "\n",
       "    .dataframe tbody tr th {\n",
       "        vertical-align: top;\n",
       "    }\n",
       "\n",
       "    .dataframe thead th {\n",
       "        text-align: right;\n",
       "    }\n",
       "</style>\n",
       "<table border=\"1\" class=\"dataframe\">\n",
       "  <thead>\n",
       "    <tr style=\"text-align: right;\">\n",
       "      <th></th>\n",
       "      <th>Entity</th>\n",
       "      <th>Code</th>\n",
       "      <th>Year</th>\n",
       "      <th>Fixed broadband subscriptions</th>\n",
       "    </tr>\n",
       "  </thead>\n",
       "  <tbody>\n",
       "    <tr>\n",
       "      <th>1</th>\n",
       "      <td>China</td>\n",
       "      <td>CHN</td>\n",
       "      <td>2023.0</td>\n",
       "      <td>636000000.0</td>\n",
       "    </tr>\n",
       "    <tr>\n",
       "      <th>2</th>\n",
       "      <td>United States</td>\n",
       "      <td>USA</td>\n",
       "      <td>2023.0</td>\n",
       "      <td>131000000.0</td>\n",
       "    </tr>\n",
       "    <tr>\n",
       "      <th>3</th>\n",
       "      <td>Brazil</td>\n",
       "      <td>BRA</td>\n",
       "      <td>2023.0</td>\n",
       "      <td>48400000.0</td>\n",
       "    </tr>\n",
       "    <tr>\n",
       "      <th>4</th>\n",
       "      <td>Japan</td>\n",
       "      <td>JPN</td>\n",
       "      <td>2023.0</td>\n",
       "      <td>47900000.0</td>\n",
       "    </tr>\n",
       "    <tr>\n",
       "      <th>5</th>\n",
       "      <td>India</td>\n",
       "      <td>IND</td>\n",
       "      <td>2023.0</td>\n",
       "      <td>39300000.0</td>\n",
       "    </tr>\n",
       "    <tr>\n",
       "      <th>...</th>\n",
       "      <td>...</td>\n",
       "      <td>...</td>\n",
       "      <td>...</td>\n",
       "      <td>...</td>\n",
       "    </tr>\n",
       "    <tr>\n",
       "      <th>65</th>\n",
       "      <td>United States Virgin Islands</td>\n",
       "      <td>VIR</td>\n",
       "      <td>2022.0</td>\n",
       "      <td>8710.0</td>\n",
       "    </tr>\n",
       "    <tr>\n",
       "      <th>66</th>\n",
       "      <td>Vanuatu</td>\n",
       "      <td>VUT</td>\n",
       "      <td>2022.0</td>\n",
       "      <td>3530.0</td>\n",
       "    </tr>\n",
       "    <tr>\n",
       "      <th>67</th>\n",
       "      <td>Venezuela</td>\n",
       "      <td>VEN</td>\n",
       "      <td>2022.0</td>\n",
       "      <td>2700000.0</td>\n",
       "    </tr>\n",
       "    <tr>\n",
       "      <th>68</th>\n",
       "      <td>Yemen</td>\n",
       "      <td>YEM</td>\n",
       "      <td>2022.0</td>\n",
       "      <td>486000.0</td>\n",
       "    </tr>\n",
       "    <tr>\n",
       "      <th>0</th>\n",
       "      <td>Sierra Leone</td>\n",
       "      <td>SLE</td>\n",
       "      <td>NaN</td>\n",
       "      <td>-1.0</td>\n",
       "    </tr>\n",
       "  </tbody>\n",
       "</table>\n",
       "<p>210 rows × 4 columns</p>\n",
       "</div>"
      ],
      "text/plain": [
       "                          Entity Code    Year  Fixed broadband subscriptions\n",
       "1                          China  CHN  2023.0                    636000000.0\n",
       "2                  United States  USA  2023.0                    131000000.0\n",
       "3                         Brazil  BRA  2023.0                     48400000.0\n",
       "4                          Japan  JPN  2023.0                     47900000.0\n",
       "5                          India  IND  2023.0                     39300000.0\n",
       "..                           ...  ...     ...                            ...\n",
       "65  United States Virgin Islands  VIR  2022.0                         8710.0\n",
       "66                       Vanuatu  VUT  2022.0                         3530.0\n",
       "67                     Venezuela  VEN  2022.0                      2700000.0\n",
       "68                         Yemen  YEM  2022.0                       486000.0\n",
       "0                   Sierra Leone  SLE     NaN                           -1.0\n",
       "\n",
       "[210 rows x 4 columns]"
      ]
     },
     "execution_count": 8,
     "metadata": {},
     "output_type": "execute_result"
    }
   ],
   "source": [
    "df_2023_full = pd.concat([df_2023, data_2022, no_data_countries])\n",
    "df_2023_full[\"Fixed broadband subscriptions\"] = df_2023_full[\"Fixed broadband subscriptions\"].fillna(-1)\n",
    "df_2023_full"
   ]
  },
  {
   "cell_type": "code",
   "execution_count": 50,
   "id": "e39078c9",
   "metadata": {},
   "outputs": [
    {
     "data": {
      "text/html": [
       "<div>\n",
       "<style scoped>\n",
       "    .dataframe tbody tr th:only-of-type {\n",
       "        vertical-align: middle;\n",
       "    }\n",
       "\n",
       "    .dataframe tbody tr th {\n",
       "        vertical-align: top;\n",
       "    }\n",
       "\n",
       "    .dataframe thead th {\n",
       "        text-align: right;\n",
       "    }\n",
       "</style>\n",
       "<table border=\"1\" class=\"dataframe\">\n",
       "  <thead>\n",
       "    <tr style=\"text-align: right;\">\n",
       "      <th></th>\n",
       "      <th>Entity</th>\n",
       "      <th>Code</th>\n",
       "      <th>Year</th>\n",
       "      <th>Fixed broadband subscriptions</th>\n",
       "    </tr>\n",
       "  </thead>\n",
       "  <tbody>\n",
       "    <tr>\n",
       "      <th>0</th>\n",
       "      <td>Afghanistan</td>\n",
       "      <td>AFG</td>\n",
       "      <td>2023</td>\n",
       "      <td>33200</td>\n",
       "    </tr>\n",
       "    <tr>\n",
       "      <th>1</th>\n",
       "      <td>Albania</td>\n",
       "      <td>ALB</td>\n",
       "      <td>2023</td>\n",
       "      <td>632000</td>\n",
       "    </tr>\n",
       "    <tr>\n",
       "      <th>2</th>\n",
       "      <td>Algeria</td>\n",
       "      <td>DZA</td>\n",
       "      <td>2023</td>\n",
       "      <td>5540000</td>\n",
       "    </tr>\n",
       "    <tr>\n",
       "      <th>3</th>\n",
       "      <td>Andorra</td>\n",
       "      <td>AND</td>\n",
       "      <td>2023</td>\n",
       "      <td>41800</td>\n",
       "    </tr>\n",
       "    <tr>\n",
       "      <th>4</th>\n",
       "      <td>Angola</td>\n",
       "      <td>AGO</td>\n",
       "      <td>2023</td>\n",
       "      <td>137000</td>\n",
       "    </tr>\n",
       "    <tr>\n",
       "      <th>5</th>\n",
       "      <td>Antigua and Barbuda</td>\n",
       "      <td>ATG</td>\n",
       "      <td>2022</td>\n",
       "      <td>9920</td>\n",
       "    </tr>\n",
       "    <tr>\n",
       "      <th>6</th>\n",
       "      <td>Argentina</td>\n",
       "      <td>ARG</td>\n",
       "      <td>2023</td>\n",
       "      <td>11500000</td>\n",
       "    </tr>\n",
       "    <tr>\n",
       "      <th>7</th>\n",
       "      <td>Armenia</td>\n",
       "      <td>ARM</td>\n",
       "      <td>2023</td>\n",
       "      <td>546000</td>\n",
       "    </tr>\n",
       "    <tr>\n",
       "      <th>8</th>\n",
       "      <td>Aruba</td>\n",
       "      <td>ABW</td>\n",
       "      <td>2022</td>\n",
       "      <td>18800</td>\n",
       "    </tr>\n",
       "    <tr>\n",
       "      <th>9</th>\n",
       "      <td>Australia</td>\n",
       "      <td>AUS</td>\n",
       "      <td>2023</td>\n",
       "      <td>9630000</td>\n",
       "    </tr>\n",
       "    <tr>\n",
       "      <th>10</th>\n",
       "      <td>Austria</td>\n",
       "      <td>AUT</td>\n",
       "      <td>2023</td>\n",
       "      <td>2710000</td>\n",
       "    </tr>\n",
       "    <tr>\n",
       "      <th>11</th>\n",
       "      <td>Azerbaijan</td>\n",
       "      <td>AZE</td>\n",
       "      <td>2023</td>\n",
       "      <td>2150000</td>\n",
       "    </tr>\n",
       "    <tr>\n",
       "      <th>12</th>\n",
       "      <td>Bahamas</td>\n",
       "      <td>BHS</td>\n",
       "      <td>2023</td>\n",
       "      <td>95100</td>\n",
       "    </tr>\n",
       "    <tr>\n",
       "      <th>13</th>\n",
       "      <td>Bahrain</td>\n",
       "      <td>BHR</td>\n",
       "      <td>2023</td>\n",
       "      <td>268000</td>\n",
       "    </tr>\n",
       "    <tr>\n",
       "      <th>14</th>\n",
       "      <td>Bangladesh</td>\n",
       "      <td>BGD</td>\n",
       "      <td>2023</td>\n",
       "      <td>12900000</td>\n",
       "    </tr>\n",
       "    <tr>\n",
       "      <th>15</th>\n",
       "      <td>Barbados</td>\n",
       "      <td>BRB</td>\n",
       "      <td>2022</td>\n",
       "      <td>106000</td>\n",
       "    </tr>\n",
       "    <tr>\n",
       "      <th>16</th>\n",
       "      <td>Belarus</td>\n",
       "      <td>BLR</td>\n",
       "      <td>2023</td>\n",
       "      <td>3200000</td>\n",
       "    </tr>\n",
       "    <tr>\n",
       "      <th>17</th>\n",
       "      <td>Belgium</td>\n",
       "      <td>BEL</td>\n",
       "      <td>2023</td>\n",
       "      <td>5120000</td>\n",
       "    </tr>\n",
       "    <tr>\n",
       "      <th>18</th>\n",
       "      <td>Belize</td>\n",
       "      <td>BLZ</td>\n",
       "      <td>2022</td>\n",
       "      <td>39300</td>\n",
       "    </tr>\n",
       "    <tr>\n",
       "      <th>19</th>\n",
       "      <td>Benin</td>\n",
       "      <td>BEN</td>\n",
       "      <td>2023</td>\n",
       "      <td>24100</td>\n",
       "    </tr>\n",
       "    <tr>\n",
       "      <th>20</th>\n",
       "      <td>Bermuda</td>\n",
       "      <td>BMU</td>\n",
       "      <td>2022</td>\n",
       "      <td>23000</td>\n",
       "    </tr>\n",
       "    <tr>\n",
       "      <th>21</th>\n",
       "      <td>Bhutan</td>\n",
       "      <td>BTN</td>\n",
       "      <td>2023</td>\n",
       "      <td>10400</td>\n",
       "    </tr>\n",
       "    <tr>\n",
       "      <th>22</th>\n",
       "      <td>Bolivia</td>\n",
       "      <td>BOL</td>\n",
       "      <td>2022</td>\n",
       "      <td>1330000</td>\n",
       "    </tr>\n",
       "    <tr>\n",
       "      <th>23</th>\n",
       "      <td>Bosnia and Herzegovina</td>\n",
       "      <td>BIH</td>\n",
       "      <td>2023</td>\n",
       "      <td>908000</td>\n",
       "    </tr>\n",
       "    <tr>\n",
       "      <th>24</th>\n",
       "      <td>Botswana</td>\n",
       "      <td>BWA</td>\n",
       "      <td>2023</td>\n",
       "      <td>84600</td>\n",
       "    </tr>\n",
       "    <tr>\n",
       "      <th>25</th>\n",
       "      <td>Brazil</td>\n",
       "      <td>BRA</td>\n",
       "      <td>2023</td>\n",
       "      <td>48400000</td>\n",
       "    </tr>\n",
       "    <tr>\n",
       "      <th>26</th>\n",
       "      <td>British Virgin Islands</td>\n",
       "      <td>VGB</td>\n",
       "      <td>2022</td>\n",
       "      <td>6820</td>\n",
       "    </tr>\n",
       "    <tr>\n",
       "      <th>27</th>\n",
       "      <td>Brunei</td>\n",
       "      <td>BRN</td>\n",
       "      <td>2023</td>\n",
       "      <td>92800</td>\n",
       "    </tr>\n",
       "    <tr>\n",
       "      <th>28</th>\n",
       "      <td>Bulgaria</td>\n",
       "      <td>BGR</td>\n",
       "      <td>2023</td>\n",
       "      <td>2450000</td>\n",
       "    </tr>\n",
       "    <tr>\n",
       "      <th>29</th>\n",
       "      <td>Burkina Faso</td>\n",
       "      <td>BFA</td>\n",
       "      <td>2022</td>\n",
       "      <td>15100</td>\n",
       "    </tr>\n",
       "  </tbody>\n",
       "</table>\n",
       "</div>"
      ],
      "text/plain": [
       "                    Entity Code  Year  Fixed broadband subscriptions\n",
       "0              Afghanistan  AFG  2023                          33200\n",
       "1                  Albania  ALB  2023                         632000\n",
       "2                  Algeria  DZA  2023                        5540000\n",
       "3                  Andorra  AND  2023                          41800\n",
       "4                   Angola  AGO  2023                         137000\n",
       "5      Antigua and Barbuda  ATG  2022                           9920\n",
       "6                Argentina  ARG  2023                       11500000\n",
       "7                  Armenia  ARM  2023                         546000\n",
       "8                    Aruba  ABW  2022                          18800\n",
       "9                Australia  AUS  2023                        9630000\n",
       "10                 Austria  AUT  2023                        2710000\n",
       "11              Azerbaijan  AZE  2023                        2150000\n",
       "12                 Bahamas  BHS  2023                          95100\n",
       "13                 Bahrain  BHR  2023                         268000\n",
       "14              Bangladesh  BGD  2023                       12900000\n",
       "15                Barbados  BRB  2022                         106000\n",
       "16                 Belarus  BLR  2023                        3200000\n",
       "17                 Belgium  BEL  2023                        5120000\n",
       "18                  Belize  BLZ  2022                          39300\n",
       "19                   Benin  BEN  2023                          24100\n",
       "20                 Bermuda  BMU  2022                          23000\n",
       "21                  Bhutan  BTN  2023                          10400\n",
       "22                 Bolivia  BOL  2022                        1330000\n",
       "23  Bosnia and Herzegovina  BIH  2023                         908000\n",
       "24                Botswana  BWA  2023                          84600\n",
       "25                  Brazil  BRA  2023                       48400000\n",
       "26  British Virgin Islands  VGB  2022                           6820\n",
       "27                  Brunei  BRN  2023                          92800\n",
       "28                Bulgaria  BGR  2023                        2450000\n",
       "29            Burkina Faso  BFA  2022                          15100"
      ]
     },
     "execution_count": 50,
     "metadata": {},
     "output_type": "execute_result"
    }
   ],
   "source": [
    "full_df = duckdb.query(\"\"\"--sql\n",
    "            SELECT \n",
    "                df1.entity, \n",
    "                df1.code, \n",
    "                df1.year, \n",
    "                df1.\"Fixed broadband subscriptions\"\n",
    "            FROM df as df1\n",
    "            WHERE df1.year = (SELECT MAX(df2.year) from df as df2 WHERE df1.code = df2.code)\n",
    "\"\"\").df()\n",
    "full_df.head(30)"
   ]
  },
  {
   "cell_type": "code",
   "execution_count": 52,
   "id": "72a81185",
   "metadata": {},
   "outputs": [
    {
     "name": "stderr",
     "output_type": "stream",
     "text": [
      "/Users/john.sandsjo/Documents/github/data-visualisation-john-sandsjo-de24/.venv/lib/python3.12/site-packages/pandas/core/arraylike.py:399: RuntimeWarning:\n",
      "\n",
      "divide by zero encountered in log\n",
      "\n"
     ]
    },
    {
     "data": {
      "text/plain": [
       "0      10.410305\n",
       "1      13.356645\n",
       "2      15.527505\n",
       "3      10.640652\n",
       "4      11.827736\n",
       "         ...    \n",
       "203    16.942271\n",
       "204    21.125793\n",
       "205    13.093964\n",
       "206    11.502875\n",
       "207    12.502467\n",
       "Name: Fixed broadband subscriptions, Length: 208, dtype: float64"
      ]
     },
     "execution_count": 52,
     "metadata": {},
     "output_type": "execute_result"
    }
   ],
   "source": [
    "import numpy as np\n",
    "\n",
    "countries_log = np.log(full_df[\"Fixed broadband subscriptions\"])\n",
    "countries_log"
   ]
  },
  {
   "cell_type": "code",
   "execution_count": 53,
   "id": "218e3485",
   "metadata": {},
   "outputs": [
    {
     "data": {
      "application/vnd.plotly.v1+json": {
       "config": {
        "plotlyServerURL": "https://plot.ly"
       },
       "data": [
        {
         "coloraxis": "coloraxis",
         "customdata": {
          "bdata": "5wcAALCBAADnBwAAwKQJAOcHAACgiFQA5wcAAEijAADnBwAAKBcCAOYHAADAJgAA5wcAAOB5rwDnBwAA0FQIAOYHAABwSQAA5wcAADDxkgDnBwAA8FkpAOcHAABwziAA5wcAAHxzAQDnBwAA4BYEAOcHAACg1sQA5gcAABCeAQDnBwAAANQwAOcHAAAAIE4A5gcAAISZAADnBwAAJF4AAOYHAADYWQAA5wcAAKAoAADmBwAAUEsUAOcHAADg2g0A5wcAAHhKAQDnBwAAgIbiAuYHAACkGgAA5wcAAIBqAQDnBwAAUGIlAOYHAAD8OgAA5gcAADDIBwDmBwAAeDMJAOcHAABAZgMB5wcAAKiTAADmBwAAbJ0AAOYHAAA0AwAA5gcAAAAAAADnBwAAQPhEAOcHAAAAl+gl5wcAALD0hwDnBwAA5AwAAOcHAAAwjBEA5wcAACh8BgDnBwAA8O8QAOYHAABI7gAA5wcAAIhyBQDmBwAA6IAAAOcHAACQbygA5gcAAEw2AADnBwAA4DkTAOcHAABQAAAA5wcAABAZLADnBwAAAIXPAOYHAAAYPQoA5gcAABwHAADmBwAACBYAAOcHAACg3wcA5wcAAAiEAADmBwAA8KIIAOYHAAAEWwAA5wcAAGA2HgDnBwAA4NvsAeYHAACsOQEA5gcAADoWAADnBwAA4MgQAOcHAAAA8EkC5wcAABhnAwDmBwAAdFkAAOcHAAAAXEQA5gcAAOxFAADmBwAA8IcAAOYHAADgCwAA5wcAAKgNDgDmBwAAcgMAAOcHAAAiGgAA5gcAAOSJAADnBwAAYEMHAOcHAACQUS0A5wcAAEBSNgDnBwAAaDYCAOcHAACgq1cC5wcAAGD+zQDnBwAAIFKmAOcHAABQLRkA5wcAAEAdKgDnBwAAANYGAOcHAABg5doC5wcAAIhIDADnBwAA5goAAOcHAACgjz4A5wcAAGhCAADmBwAA3DEBAOYHAAAQngEA5wcAAJCPdgDnBwAAoLMyAecHAABAMgEA5wcAAFj9BADnBwAAcMc2AOcHAABAJBQA5wcAALgBAADnBwAAaL8AAOcHAABA9QYA5gcAANjKAgDnBwAAKHYHAOYHAAC4ZAYA5wcAAKYiAADmBwAA0DkAAOYHAABw+QQA5wcAAPRMAADnBwAAcEwMAOYHAACQ0AMA5wcAAECDAADnBwAAoEEAAOcHAACg4kUA5wcAAMSAAQDmBwAAOLsCAOcHAADgmQMA5gcAAK4DAADmBwAATDYAAOcHAADYOwUA5wcAAEDilQHmBwAAeBkAAOcHAAAo1QwA5wcAAChVAADnBwAA+BgDAOYHAAAg7SQA5gcAAFj8AADnBwAAcAoXAOcHAABAlgEA5gcAAJwEAADmBwAAAPkVAOcHAADweXcA5gcAADDZAADnBwAAOKkFAOYHAACENQAA5wcAAAjJAQDmBwAAuNsHAOcHAABQkwgA5wcAAABFMwDnBwAAFAUAAOcHAACYkwYA5wcAAChYDADmBwAAjFUAAOcHAACwZQ0A5wcAABDdNQDnBwAA8JdyAOcHAAAgHZoA5wcAAJh1CwDnBwAAeEsFAOcHAABwKmUA5gcAAGDKIwLnBwAA+PIAAOYHAAAoVQAA5gcAAOxeAADnBwAAtHgAAOYHAABiBwAA5gcAAKgvAADnBwAAlBYAAOcHAACgQN0A5wcAAIhyBQDnBwAAAL0fAOUHAAC4AAAA5wcAAND0FwDnBwAAcOwbAOYHAABEAwAA5gcAANjQAQDnBwAAoLxvAecHAADIAAAA5wcAAMC1FQHmBwAASOgBAOcHAADgnEEA5wcAABASQgDnBwAAILgYAOcHAABgVBkA5wcAAOB5rwDnBwAAUL0BAOYHAACOIQAA5wcAACAqBgDnBwAAIDwDAOcHAAA4nQcA5wcAABBzHQDmBwAAkP4lAOcHAADAMEYA5wcAAOiZAADnBwAA+GsKAOcHAABwziAA5wcAAJCrHgDmBwAAaHQAAOYHAABgGAAA5wcAANBlGgDnBwAAgBIrAeYHAACowAUA5gcAAMQBAADnBwAAcK0AAOcHAABwI3sA5wcAALBFPADnBwAAQEyuAecHAADA5s4H5gcAAAYiAADnBwAA4MgQAOcHAACAy6QA5gcAAMoNAADmBwAA4DIpAOcHAACA5lsB5wcAAIALJVnmBwAAcGoHAOcHAAC4ggEA5wcAAMgaBAA=",
          "dtype": "i4",
          "shape": "208, 2"
         },
         "geo": "geo",
         "hovertemplate": "<b>%{hovertext}</b><br>Year: %{customdata[0]}<br><b>Value: %{customdata[1]}</b>",
         "hovertext": [
          "Afghanistan",
          "Albania",
          "Algeria",
          "Andorra",
          "Angola",
          "Antigua and Barbuda",
          "Argentina",
          "Armenia",
          "Aruba",
          "Australia",
          "Austria",
          "Azerbaijan",
          "Bahamas",
          "Bahrain",
          "Bangladesh",
          "Barbados",
          "Belarus",
          "Belgium",
          "Belize",
          "Benin",
          "Bermuda",
          "Bhutan",
          "Bolivia",
          "Bosnia and Herzegovina",
          "Botswana",
          "Brazil",
          "British Virgin Islands",
          "Brunei",
          "Bulgaria",
          "Burkina Faso",
          "Cambodia",
          "Cameroon",
          "Canada",
          "Cape Verde",
          "Cayman Islands",
          "Central African Republic",
          "Chad",
          "Chile",
          "China",
          "Colombia",
          "Comoros",
          "Costa Rica",
          "Cote d'Ivoire",
          "Croatia",
          "Curacao",
          "Cyprus",
          "Democratic Republic of Congo",
          "Denmark",
          "Dominica",
          "Dominican Republic",
          "East Timor",
          "Ecuador",
          "Egypt",
          "El Salvador",
          "Equatorial Guinea",
          "Eritrea",
          "Estonia",
          "Eswatini",
          "Ethiopia",
          "Fiji",
          "Finland",
          "France",
          "Gabon",
          "Gambia",
          "Georgia",
          "Germany",
          "Ghana",
          "Gibraltar",
          "Greece",
          "Greenland",
          "Grenada",
          "Guam",
          "Guatemala",
          "Guinea",
          "Guinea-Bissau",
          "Haiti",
          "Honduras",
          "Hong Kong",
          "Hungary",
          "Iceland",
          "India",
          "Indonesia",
          "Iran",
          "Ireland",
          "Israel",
          "Jamaica",
          "Japan",
          "Jordan",
          "Burundi",
          "Czechia",
          "Djibouti",
          "French Polynesia",
          "Guyana",
          "Iraq",
          "Italy",
          "Congo",
          "Cuba",
          "Kazakhstan",
          "Kenya",
          "Kiribati",
          "Kuwait",
          "Kyrgyzstan",
          "Laos",
          "Latvia",
          "Lebanon",
          "Lesotho",
          "Liberia",
          "Libya",
          "Liechtenstein",
          "Lithuania",
          "Luxembourg",
          "Madagascar",
          "Malawi",
          "Malaysia",
          "Maldives",
          "Mali",
          "Malta",
          "Marshall Islands",
          "Mauritania",
          "Mauritius",
          "Mexico",
          "Micronesia (country)",
          "Moldova",
          "Monaco",
          "Montenegro",
          "Morocco",
          "Mozambique",
          "Myanmar",
          "Namibia",
          "Nauru",
          "Nepal",
          "Netherlands",
          "New Caledonia",
          "Nicaragua",
          "Niger",
          "Nigeria",
          "North Macedonia",
          "Oman",
          "Pakistan",
          "Palau",
          "Palestine",
          "Panama",
          "Papua New Guinea",
          "Paraguay",
          "Peru",
          "Philippines",
          "Poland",
          "Puerto Rico",
          "Qatar",
          "Romania",
          "Russia",
          "Rwanda",
          "Saint Kitts and Nevis",
          "Saint Lucia",
          "Saint Vincent and the Grenadines",
          "Samoa",
          "San Marino",
          "Sao Tome and Principe",
          "Saudi Arabia",
          "Senegal",
          "Serbia",
          "Sierra Leone",
          "Singapore",
          "Slovakia",
          "Solomon Islands",
          "Somalia",
          "South Korea",
          "South Sudan",
          "Spain",
          "Suriname",
          "Sweden",
          "Switzerland",
          "Syria",
          "Tanzania",
          "Thailand",
          "Togo",
          "Tonga",
          "Trinidad and Tobago",
          "Macao",
          "Mongolia",
          "New Zealand",
          "Norway",
          "Portugal",
          "Seychelles",
          "Slovenia",
          "South Africa",
          "Sri Lanka",
          "Sudan",
          "Tajikistan",
          "Tunisia",
          "Turkey",
          "Turkmenistan",
          "Tuvalu",
          "Uganda",
          "Ukraine",
          "United Arab Emirates",
          "United Kingdom",
          "United States",
          "United States Virgin Islands",
          "Uruguay",
          "Uzbekistan",
          "Vanuatu",
          "Venezuela",
          "Vietnam",
          "World",
          "Yemen",
          "Zambia",
          "Zimbabwe"
         ],
         "locations": [
          "AFG",
          "ALB",
          "DZA",
          "AND",
          "AGO",
          "ATG",
          "ARG",
          "ARM",
          "ABW",
          "AUS",
          "AUT",
          "AZE",
          "BHS",
          "BHR",
          "BGD",
          "BRB",
          "BLR",
          "BEL",
          "BLZ",
          "BEN",
          "BMU",
          "BTN",
          "BOL",
          "BIH",
          "BWA",
          "BRA",
          "VGB",
          "BRN",
          "BGR",
          "BFA",
          "KHM",
          "CMR",
          "CAN",
          "CPV",
          "CYM",
          "CAF",
          "TCD",
          "CHL",
          "CHN",
          "COL",
          "COM",
          "CRI",
          "CIV",
          "HRV",
          "CUW",
          "CYP",
          "COD",
          "DNK",
          "DMA",
          "DOM",
          "TLS",
          "ECU",
          "EGY",
          "SLV",
          "GNQ",
          "ERI",
          "EST",
          "SWZ",
          "ETH",
          "FJI",
          "FIN",
          "FRA",
          "GAB",
          "GMB",
          "GEO",
          "DEU",
          "GHA",
          "GIB",
          "GRC",
          "GRL",
          "GRD",
          "GUM",
          "GTM",
          "GIN",
          "GNB",
          "HTI",
          "HND",
          "HKG",
          "HUN",
          "ISL",
          "IND",
          "IDN",
          "IRN",
          "IRL",
          "ISR",
          "JAM",
          "JPN",
          "JOR",
          "BDI",
          "CZE",
          "DJI",
          "PYF",
          "GUY",
          "IRQ",
          "ITA",
          "COG",
          "CUB",
          "KAZ",
          "KEN",
          "KIR",
          "KWT",
          "KGZ",
          "LAO",
          "LVA",
          "LBN",
          "LSO",
          "LBR",
          "LBY",
          "LIE",
          "LTU",
          "LUX",
          "MDG",
          "MWI",
          "MYS",
          "MDV",
          "MLI",
          "MLT",
          "MHL",
          "MRT",
          "MUS",
          "MEX",
          "FSM",
          "MDA",
          "MCO",
          "MNE",
          "MAR",
          "MOZ",
          "MMR",
          "NAM",
          "NRU",
          "NPL",
          "NLD",
          "NCL",
          "NIC",
          "NER",
          "NGA",
          "MKD",
          "OMN",
          "PAK",
          "PLW",
          "PSE",
          "PAN",
          "PNG",
          "PRY",
          "PER",
          "PHL",
          "POL",
          "PRI",
          "QAT",
          "ROU",
          "RUS",
          "RWA",
          "KNA",
          "LCA",
          "VCT",
          "WSM",
          "SMR",
          "STP",
          "SAU",
          "SEN",
          "SRB",
          "SLE",
          "SGP",
          "SVK",
          "SLB",
          "SOM",
          "KOR",
          "SSD",
          "ESP",
          "SUR",
          "SWE",
          "CHE",
          "SYR",
          "TZA",
          "THA",
          "TGO",
          "TON",
          "TTO",
          "MAC",
          "MNG",
          "NZL",
          "NOR",
          "PRT",
          "SYC",
          "SVN",
          "ZAF",
          "LKA",
          "SDN",
          "TJK",
          "TUN",
          "TUR",
          "TKM",
          "TUV",
          "UGA",
          "UKR",
          "ARE",
          "GBR",
          "USA",
          "VIR",
          "URY",
          "UZB",
          "VUT",
          "VEN",
          "VNM",
          "OWID_WRL",
          "YEM",
          "ZMB",
          "ZWE"
         ],
         "name": "",
         "type": "choropleth",
         "z": {
          "bdata": "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",
          "dtype": "f8"
         }
        }
       ],
       "layout": {
        "annotations": [
         {
          "font": {
           "size": 10
          },
          "showarrow": false,
          "text": "<b>Data source:</b> International Telecommunication Union (via World Bank) (2025)",
          "x": 0,
          "xref": "paper",
          "y": -0.1,
          "yref": "paper"
         },
         {
          "font": {
           "size": 10
          },
          "showarrow": false,
          "text": "OurWorldInData.org/internet | CC BY",
          "x": 1,
          "xref": "paper",
          "y": -0.1,
          "yref": "paper"
         }
        ],
        "coloraxis": {
         "colorbar": {
          "labelalias": {
           "6": "300,000",
           "8": "1 million",
           "10": "3 million",
           "12": "10 million",
           "14": "30 million",
           "16": "100 million",
           "18": "300 million",
           "20": "1 billion"
          },
          "len": 0.8,
          "orientation": "h",
          "thickness": 10,
          "ticks": "outside",
          "title": {
           "text": ""
          },
          "xanchor": "center",
          "y": -0.3,
          "yanchor": "bottom"
         },
         "colorscale": [
          [
           0,
           "rgb(255,245,235)"
          ],
          [
           0.125,
           "rgb(254,230,206)"
          ],
          [
           0.25,
           "rgb(253,208,162)"
          ],
          [
           0.375,
           "rgb(253,174,107)"
          ],
          [
           0.5,
           "rgb(253,141,60)"
          ],
          [
           0.625,
           "rgb(241,105,19)"
          ],
          [
           0.75,
           "rgb(217,72,1)"
          ],
          [
           0.875,
           "rgb(166,54,3)"
          ],
          [
           1,
           "rgb(127,39,4)"
          ]
         ]
        },
        "geo": {
         "center": {},
         "domain": {
          "x": [
           0,
           1
          ],
          "y": [
           0,
           1
          ]
         },
         "projection": {
          "type": "natural earth"
         },
         "showframe": false
        },
        "legend": {
         "tracegroupgap": 0
        },
        "margin": {
         "b": 40,
         "l": 10,
         "r": 10,
         "t": 60
        },
        "template": {
         "data": {
          "bar": [
           {
            "error_x": {
             "color": "#2a3f5f"
            },
            "error_y": {
             "color": "#2a3f5f"
            },
            "marker": {
             "line": {
              "color": "#E5ECF6",
              "width": 0.5
             },
             "pattern": {
              "fillmode": "overlay",
              "size": 10,
              "solidity": 0.2
             }
            },
            "type": "bar"
           }
          ],
          "barpolar": [
           {
            "marker": {
             "line": {
              "color": "#E5ECF6",
              "width": 0.5
             },
             "pattern": {
              "fillmode": "overlay",
              "size": 10,
              "solidity": 0.2
             }
            },
            "type": "barpolar"
           }
          ],
          "carpet": [
           {
            "aaxis": {
             "endlinecolor": "#2a3f5f",
             "gridcolor": "white",
             "linecolor": "white",
             "minorgridcolor": "white",
             "startlinecolor": "#2a3f5f"
            },
            "baxis": {
             "endlinecolor": "#2a3f5f",
             "gridcolor": "white",
             "linecolor": "white",
             "minorgridcolor": "white",
             "startlinecolor": "#2a3f5f"
            },
            "type": "carpet"
           }
          ],
          "choropleth": [
           {
            "colorbar": {
             "outlinewidth": 0,
             "ticks": ""
            },
            "type": "choropleth"
           }
          ],
          "contour": [
           {
            "colorbar": {
             "outlinewidth": 0,
             "ticks": ""
            },
            "colorscale": [
             [
              0,
              "#0d0887"
             ],
             [
              0.1111111111111111,
              "#46039f"
             ],
             [
              0.2222222222222222,
              "#7201a8"
             ],
             [
              0.3333333333333333,
              "#9c179e"
             ],
             [
              0.4444444444444444,
              "#bd3786"
             ],
             [
              0.5555555555555556,
              "#d8576b"
             ],
             [
              0.6666666666666666,
              "#ed7953"
             ],
             [
              0.7777777777777778,
              "#fb9f3a"
             ],
             [
              0.8888888888888888,
              "#fdca26"
             ],
             [
              1,
              "#f0f921"
             ]
            ],
            "type": "contour"
           }
          ],
          "contourcarpet": [
           {
            "colorbar": {
             "outlinewidth": 0,
             "ticks": ""
            },
            "type": "contourcarpet"
           }
          ],
          "heatmap": [
           {
            "colorbar": {
             "outlinewidth": 0,
             "ticks": ""
            },
            "colorscale": [
             [
              0,
              "#0d0887"
             ],
             [
              0.1111111111111111,
              "#46039f"
             ],
             [
              0.2222222222222222,
              "#7201a8"
             ],
             [
              0.3333333333333333,
              "#9c179e"
             ],
             [
              0.4444444444444444,
              "#bd3786"
             ],
             [
              0.5555555555555556,
              "#d8576b"
             ],
             [
              0.6666666666666666,
              "#ed7953"
             ],
             [
              0.7777777777777778,
              "#fb9f3a"
             ],
             [
              0.8888888888888888,
              "#fdca26"
             ],
             [
              1,
              "#f0f921"
             ]
            ],
            "type": "heatmap"
           }
          ],
          "histogram": [
           {
            "marker": {
             "pattern": {
              "fillmode": "overlay",
              "size": 10,
              "solidity": 0.2
             }
            },
            "type": "histogram"
           }
          ],
          "histogram2d": [
           {
            "colorbar": {
             "outlinewidth": 0,
             "ticks": ""
            },
            "colorscale": [
             [
              0,
              "#0d0887"
             ],
             [
              0.1111111111111111,
              "#46039f"
             ],
             [
              0.2222222222222222,
              "#7201a8"
             ],
             [
              0.3333333333333333,
              "#9c179e"
             ],
             [
              0.4444444444444444,
              "#bd3786"
             ],
             [
              0.5555555555555556,
              "#d8576b"
             ],
             [
              0.6666666666666666,
              "#ed7953"
             ],
             [
              0.7777777777777778,
              "#fb9f3a"
             ],
             [
              0.8888888888888888,
              "#fdca26"
             ],
             [
              1,
              "#f0f921"
             ]
            ],
            "type": "histogram2d"
           }
          ],
          "histogram2dcontour": [
           {
            "colorbar": {
             "outlinewidth": 0,
             "ticks": ""
            },
            "colorscale": [
             [
              0,
              "#0d0887"
             ],
             [
              0.1111111111111111,
              "#46039f"
             ],
             [
              0.2222222222222222,
              "#7201a8"
             ],
             [
              0.3333333333333333,
              "#9c179e"
             ],
             [
              0.4444444444444444,
              "#bd3786"
             ],
             [
              0.5555555555555556,
              "#d8576b"
             ],
             [
              0.6666666666666666,
              "#ed7953"
             ],
             [
              0.7777777777777778,
              "#fb9f3a"
             ],
             [
              0.8888888888888888,
              "#fdca26"
             ],
             [
              1,
              "#f0f921"
             ]
            ],
            "type": "histogram2dcontour"
           }
          ],
          "mesh3d": [
           {
            "colorbar": {
             "outlinewidth": 0,
             "ticks": ""
            },
            "type": "mesh3d"
           }
          ],
          "parcoords": [
           {
            "line": {
             "colorbar": {
              "outlinewidth": 0,
              "ticks": ""
             }
            },
            "type": "parcoords"
           }
          ],
          "pie": [
           {
            "automargin": true,
            "type": "pie"
           }
          ],
          "scatter": [
           {
            "fillpattern": {
             "fillmode": "overlay",
             "size": 10,
             "solidity": 0.2
            },
            "type": "scatter"
           }
          ],
          "scatter3d": [
           {
            "line": {
             "colorbar": {
              "outlinewidth": 0,
              "ticks": ""
             }
            },
            "marker": {
             "colorbar": {
              "outlinewidth": 0,
              "ticks": ""
             }
            },
            "type": "scatter3d"
           }
          ],
          "scattercarpet": [
           {
            "marker": {
             "colorbar": {
              "outlinewidth": 0,
              "ticks": ""
             }
            },
            "type": "scattercarpet"
           }
          ],
          "scattergeo": [
           {
            "marker": {
             "colorbar": {
              "outlinewidth": 0,
              "ticks": ""
             }
            },
            "type": "scattergeo"
           }
          ],
          "scattergl": [
           {
            "marker": {
             "colorbar": {
              "outlinewidth": 0,
              "ticks": ""
             }
            },
            "type": "scattergl"
           }
          ],
          "scattermap": [
           {
            "marker": {
             "colorbar": {
              "outlinewidth": 0,
              "ticks": ""
             }
            },
            "type": "scattermap"
           }
          ],
          "scattermapbox": [
           {
            "marker": {
             "colorbar": {
              "outlinewidth": 0,
              "ticks": ""
             }
            },
            "type": "scattermapbox"
           }
          ],
          "scatterpolar": [
           {
            "marker": {
             "colorbar": {
              "outlinewidth": 0,
              "ticks": ""
             }
            },
            "type": "scatterpolar"
           }
          ],
          "scatterpolargl": [
           {
            "marker": {
             "colorbar": {
              "outlinewidth": 0,
              "ticks": ""
             }
            },
            "type": "scatterpolargl"
           }
          ],
          "scatterternary": [
           {
            "marker": {
             "colorbar": {
              "outlinewidth": 0,
              "ticks": ""
             }
            },
            "type": "scatterternary"
           }
          ],
          "surface": [
           {
            "colorbar": {
             "outlinewidth": 0,
             "ticks": ""
            },
            "colorscale": [
             [
              0,
              "#0d0887"
             ],
             [
              0.1111111111111111,
              "#46039f"
             ],
             [
              0.2222222222222222,
              "#7201a8"
             ],
             [
              0.3333333333333333,
              "#9c179e"
             ],
             [
              0.4444444444444444,
              "#bd3786"
             ],
             [
              0.5555555555555556,
              "#d8576b"
             ],
             [
              0.6666666666666666,
              "#ed7953"
             ],
             [
              0.7777777777777778,
              "#fb9f3a"
             ],
             [
              0.8888888888888888,
              "#fdca26"
             ],
             [
              1,
              "#f0f921"
             ]
            ],
            "type": "surface"
           }
          ],
          "table": [
           {
            "cells": {
             "fill": {
              "color": "#EBF0F8"
             },
             "line": {
              "color": "white"
             }
            },
            "header": {
             "fill": {
              "color": "#C8D4E3"
             },
             "line": {
              "color": "white"
             }
            },
            "type": "table"
           }
          ]
         },
         "layout": {
          "annotationdefaults": {
           "arrowcolor": "#2a3f5f",
           "arrowhead": 0,
           "arrowwidth": 1
          },
          "autotypenumbers": "strict",
          "coloraxis": {
           "colorbar": {
            "outlinewidth": 0,
            "ticks": ""
           }
          },
          "colorscale": {
           "diverging": [
            [
             0,
             "#8e0152"
            ],
            [
             0.1,
             "#c51b7d"
            ],
            [
             0.2,
             "#de77ae"
            ],
            [
             0.3,
             "#f1b6da"
            ],
            [
             0.4,
             "#fde0ef"
            ],
            [
             0.5,
             "#f7f7f7"
            ],
            [
             0.6,
             "#e6f5d0"
            ],
            [
             0.7,
             "#b8e186"
            ],
            [
             0.8,
             "#7fbc41"
            ],
            [
             0.9,
             "#4d9221"
            ],
            [
             1,
             "#276419"
            ]
           ],
           "sequential": [
            [
             0,
             "#0d0887"
            ],
            [
             0.1111111111111111,
             "#46039f"
            ],
            [
             0.2222222222222222,
             "#7201a8"
            ],
            [
             0.3333333333333333,
             "#9c179e"
            ],
            [
             0.4444444444444444,
             "#bd3786"
            ],
            [
             0.5555555555555556,
             "#d8576b"
            ],
            [
             0.6666666666666666,
             "#ed7953"
            ],
            [
             0.7777777777777778,
             "#fb9f3a"
            ],
            [
             0.8888888888888888,
             "#fdca26"
            ],
            [
             1,
             "#f0f921"
            ]
           ],
           "sequentialminus": [
            [
             0,
             "#0d0887"
            ],
            [
             0.1111111111111111,
             "#46039f"
            ],
            [
             0.2222222222222222,
             "#7201a8"
            ],
            [
             0.3333333333333333,
             "#9c179e"
            ],
            [
             0.4444444444444444,
             "#bd3786"
            ],
            [
             0.5555555555555556,
             "#d8576b"
            ],
            [
             0.6666666666666666,
             "#ed7953"
            ],
            [
             0.7777777777777778,
             "#fb9f3a"
            ],
            [
             0.8888888888888888,
             "#fdca26"
            ],
            [
             1,
             "#f0f921"
            ]
           ]
          },
          "colorway": [
           "#636efa",
           "#EF553B",
           "#00cc96",
           "#ab63fa",
           "#FFA15A",
           "#19d3f3",
           "#FF6692",
           "#B6E880",
           "#FF97FF",
           "#FECB52"
          ],
          "font": {
           "color": "#2a3f5f"
          },
          "geo": {
           "bgcolor": "white",
           "lakecolor": "white",
           "landcolor": "#E5ECF6",
           "showlakes": true,
           "showland": true,
           "subunitcolor": "white"
          },
          "hoverlabel": {
           "align": "left"
          },
          "hovermode": "closest",
          "mapbox": {
           "style": "light"
          },
          "paper_bgcolor": "white",
          "plot_bgcolor": "#E5ECF6",
          "polar": {
           "angularaxis": {
            "gridcolor": "white",
            "linecolor": "white",
            "ticks": ""
           },
           "bgcolor": "#E5ECF6",
           "radialaxis": {
            "gridcolor": "white",
            "linecolor": "white",
            "ticks": ""
           }
          },
          "scene": {
           "xaxis": {
            "backgroundcolor": "#E5ECF6",
            "gridcolor": "white",
            "gridwidth": 2,
            "linecolor": "white",
            "showbackground": true,
            "ticks": "",
            "zerolinecolor": "white"
           },
           "yaxis": {
            "backgroundcolor": "#E5ECF6",
            "gridcolor": "white",
            "gridwidth": 2,
            "linecolor": "white",
            "showbackground": true,
            "ticks": "",
            "zerolinecolor": "white"
           },
           "zaxis": {
            "backgroundcolor": "#E5ECF6",
            "gridcolor": "white",
            "gridwidth": 2,
            "linecolor": "white",
            "showbackground": true,
            "ticks": "",
            "zerolinecolor": "white"
           }
          },
          "shapedefaults": {
           "line": {
            "color": "#2a3f5f"
           }
          },
          "ternary": {
           "aaxis": {
            "gridcolor": "white",
            "linecolor": "white",
            "ticks": ""
           },
           "baxis": {
            "gridcolor": "white",
            "linecolor": "white",
            "ticks": ""
           },
           "bgcolor": "#E5ECF6",
           "caxis": {
            "gridcolor": "white",
            "linecolor": "white",
            "ticks": ""
           }
          },
          "title": {
           "x": 0.05
          },
          "xaxis": {
           "automargin": true,
           "gridcolor": "white",
           "linecolor": "white",
           "ticks": "",
           "title": {
            "standoff": 15
           },
           "zerolinecolor": "white",
           "zerolinewidth": 2
          },
          "yaxis": {
           "automargin": true,
           "gridcolor": "white",
           "linecolor": "white",
           "ticks": "",
           "title": {
            "standoff": 15
           },
           "zerolinecolor": "white",
           "zerolinewidth": 2
          }
         }
        },
        "title": {
         "subtitle": {
          "text": "Subscriptions to fixed access to the public Internet with a download speed of at least 256 kbit/s."
         },
         "text": "Landline Internet subscriptions, 2023"
        },
        "width": 800
       }
      }
     },
     "metadata": {},
     "output_type": "display_data"
    }
   ],
   "source": [
    "import plotly.express as px\n",
    "\n",
    "avg_internet = df_2023_full['Fixed broadband subscriptions'].max()*0.95\n",
    "        \n",
    "\n",
    "fig = px.choropleth(full_df,\n",
    "                    locations=\"Code\",\n",
    "                    color= countries_log,\n",
    "                    hover_name=\"Entity\",\n",
    "                    color_continuous_scale=\"oranges\",\n",
    "                    custom_data=['Year', 'Fixed broadband subscriptions']\n",
    "                    )\n",
    "\n",
    "fig.update_layout(title=\"Landline Internet subscriptions, 2023\",\n",
    "                  title_subtitle_text=\"Subscriptions to fixed access to the public Internet with a download speed of at least 256 kbit/s.\",\n",
    "                  margin = dict(b=40, l=10, r=10),\n",
    "                  width = 800,\n",
    "                  coloraxis_colorbar=dict(\n",
    "                    title=dict(text=\"\"),\n",
    "                    ticks=\"outside\", orientation='h', xanchor='center',\n",
    "                      yanchor='bottom',y=-0.3, len=0.8, thickness=10,\n",
    "                        labelalias={20: \"1 billion\", 18: \"300 million\", 16: \"100 million\", 14: \"30 million\", 12: \"10 million\", 10: \"3 million\", 8: \"1 million\", 6: \"300,000\"}),\n",
    "                  geo=dict(\n",
    "                      showframe=False,\n",
    "                      projection_type='natural earth'\n",
    "                      ),\n",
    "                  )\n",
    "\n",
    "#fig.add_trace(colorbar=dict(orientation='h'))\n",
    "\n",
    "fig.update_traces(hovertemplate=\"<b>%{hovertext}</b><br>\" +\n",
    "                                  \"Year: %{customdata[0]}<br>\" +\n",
    "                                  \"<b>Value: %{customdata[1]}</b>\" \n",
    "                                  )\n",
    "\n",
    "fig.add_annotation(\n",
    "    text=\"<b>Data source:</b> International Telecommunication Union (via World Bank) (2025)\",\n",
    "    yref='paper', xref='paper',\n",
    "    x=0, y=-0.1,  # Adjust y to position below the graph\n",
    "    showarrow=False,\n",
    "    font=dict(size=10)\n",
    ")\n",
    "\n",
    "fig.add_annotation(\n",
    "    text=\"OurWorldInData.org/internet | CC BY\",\n",
    "    yref='paper', xref='paper',\n",
    "    x=1, y=-0.1,  # Adjust y to position below the graph\n",
    "    showarrow=False,\n",
    "    font=dict(size=10)\n",
    ")\n",
    "fig.show()\n",
    "fig.write_html(\"figures/2_4_internet_use.html\")\n"
   ]
  }
 ],
 "metadata": {
  "kernelspec": {
   "display_name": ".venv",
   "language": "python",
   "name": "python3"
  },
  "language_info": {
   "codemirror_mode": {
    "name": "ipython",
    "version": 3
   },
   "file_extension": ".py",
   "mimetype": "text/x-python",
   "name": "python",
   "nbconvert_exporter": "python",
   "pygments_lexer": "ipython3",
   "version": "3.12.5"
  }
 },
 "nbformat": 4,
 "nbformat_minor": 5
}
