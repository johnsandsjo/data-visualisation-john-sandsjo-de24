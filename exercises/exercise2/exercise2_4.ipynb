{
 "cells": [
  {
   "cell_type": "markdown",
   "id": "020d3c60",
   "metadata": {},
   "source": [
    "# Exercise 2.4"
   ]
  },
  {
   "cell_type": "code",
   "execution_count": null,
   "id": "9a72f63e",
   "metadata": {},
   "outputs": [
    {
     "data": {
      "text/html": [
       "<div>\n",
       "<style scoped>\n",
       "    .dataframe tbody tr th:only-of-type {\n",
       "        vertical-align: middle;\n",
       "    }\n",
       "\n",
       "    .dataframe tbody tr th {\n",
       "        vertical-align: top;\n",
       "    }\n",
       "\n",
       "    .dataframe thead th {\n",
       "        text-align: right;\n",
       "    }\n",
       "</style>\n",
       "<table border=\"1\" class=\"dataframe\">\n",
       "  <thead>\n",
       "    <tr style=\"text-align: right;\">\n",
       "      <th></th>\n",
       "      <th>Entity</th>\n",
       "      <th>Code</th>\n",
       "      <th>Year</th>\n",
       "      <th>Fixed broadband subscriptions</th>\n",
       "    </tr>\n",
       "  </thead>\n",
       "  <tbody>\n",
       "    <tr>\n",
       "      <th>0</th>\n",
       "      <td>Afghanistan</td>\n",
       "      <td>AFG</td>\n",
       "      <td>2004</td>\n",
       "      <td>200</td>\n",
       "    </tr>\n",
       "    <tr>\n",
       "      <th>1</th>\n",
       "      <td>Afghanistan</td>\n",
       "      <td>AFG</td>\n",
       "      <td>2005</td>\n",
       "      <td>220</td>\n",
       "    </tr>\n",
       "    <tr>\n",
       "      <th>2</th>\n",
       "      <td>Afghanistan</td>\n",
       "      <td>AFG</td>\n",
       "      <td>2006</td>\n",
       "      <td>500</td>\n",
       "    </tr>\n",
       "    <tr>\n",
       "      <th>3</th>\n",
       "      <td>Afghanistan</td>\n",
       "      <td>AFG</td>\n",
       "      <td>2007</td>\n",
       "      <td>500</td>\n",
       "    </tr>\n",
       "    <tr>\n",
       "      <th>4</th>\n",
       "      <td>Afghanistan</td>\n",
       "      <td>AFG</td>\n",
       "      <td>2008</td>\n",
       "      <td>500</td>\n",
       "    </tr>\n",
       "  </tbody>\n",
       "</table>\n",
       "</div>"
      ],
      "text/plain": [
       "        Entity Code  Year  Fixed broadband subscriptions\n",
       "0  Afghanistan  AFG  2004                            200\n",
       "1  Afghanistan  AFG  2005                            220\n",
       "2  Afghanistan  AFG  2006                            500\n",
       "3  Afghanistan  AFG  2007                            500\n",
       "4  Afghanistan  AFG  2008                            500"
      ]
     },
     "execution_count": 101,
     "metadata": {},
     "output_type": "execute_result"
    }
   ],
   "source": [
    "import pandas as pd\n",
    "import duckdb\n",
    "\n",
    "df = pd.read_csv(\"data/landline-internet-subscriptions.csv\")\n",
    "df"
   ]
  },
  {
   "cell_type": "code",
   "execution_count": 103,
   "id": "5be6ccd2",
   "metadata": {},
   "outputs": [],
   "source": [
    "norway_test = duckdb.query(\"\"\"--sql\n",
    "             SELECT *\n",
    "             FROM df\n",
    "             WHERE entity = 'Norway' AND year = 2023\n",
    "    \"\"\").df()\n",
    "norway_test[2023] = \"no data\""
   ]
  },
  {
   "cell_type": "code",
   "execution_count": 6,
   "id": "90ed65b7",
   "metadata": {},
   "outputs": [
    {
     "name": "stdout",
     "output_type": "stream",
     "text": [
      "<class 'pandas.core.frame.DataFrame'>\n",
      "RangeIndex: 4465 entries, 0 to 4464\n",
      "Data columns (total 4 columns):\n",
      " #   Column                         Non-Null Count  Dtype \n",
      "---  ------                         --------------  ----- \n",
      " 0   Entity                         4465 non-null   object\n",
      " 1   Code                           4153 non-null   object\n",
      " 2   Year                           4465 non-null   int64 \n",
      " 3   Fixed broadband subscriptions  4465 non-null   int64 \n",
      "dtypes: int64(2), object(2)\n",
      "memory usage: 139.7+ KB\n"
     ]
    }
   ],
   "source": [
    "df.info()"
   ]
  },
  {
   "cell_type": "code",
   "execution_count": 206,
   "id": "09fceff3",
   "metadata": {},
   "outputs": [
    {
     "data": {
      "text/html": [
       "<div>\n",
       "<style scoped>\n",
       "    .dataframe tbody tr th:only-of-type {\n",
       "        vertical-align: middle;\n",
       "    }\n",
       "\n",
       "    .dataframe tbody tr th {\n",
       "        vertical-align: top;\n",
       "    }\n",
       "\n",
       "    .dataframe thead th {\n",
       "        text-align: right;\n",
       "    }\n",
       "</style>\n",
       "<table border=\"1\" class=\"dataframe\">\n",
       "  <thead>\n",
       "    <tr style=\"text-align: right;\">\n",
       "      <th></th>\n",
       "      <th>Entity</th>\n",
       "      <th>Code</th>\n",
       "      <th>Year</th>\n",
       "      <th>Fixed broadband subscriptions</th>\n",
       "    </tr>\n",
       "  </thead>\n",
       "  <tbody>\n",
       "    <tr>\n",
       "      <th>0</th>\n",
       "      <td>Antigua and Barbuda</td>\n",
       "      <td>ATG</td>\n",
       "      <td>2022</td>\n",
       "      <td>9920</td>\n",
       "    </tr>\n",
       "    <tr>\n",
       "      <th>1</th>\n",
       "      <td>Aruba</td>\n",
       "      <td>ABW</td>\n",
       "      <td>2022</td>\n",
       "      <td>18800</td>\n",
       "    </tr>\n",
       "    <tr>\n",
       "      <th>2</th>\n",
       "      <td>Barbados</td>\n",
       "      <td>BRB</td>\n",
       "      <td>2022</td>\n",
       "      <td>106000</td>\n",
       "    </tr>\n",
       "    <tr>\n",
       "      <th>3</th>\n",
       "      <td>Belize</td>\n",
       "      <td>BLZ</td>\n",
       "      <td>2022</td>\n",
       "      <td>39300</td>\n",
       "    </tr>\n",
       "    <tr>\n",
       "      <th>4</th>\n",
       "      <td>Bermuda</td>\n",
       "      <td>BMU</td>\n",
       "      <td>2022</td>\n",
       "      <td>23000</td>\n",
       "    </tr>\n",
       "    <tr>\n",
       "      <th>...</th>\n",
       "      <td>...</td>\n",
       "      <td>...</td>\n",
       "      <td>...</td>\n",
       "      <td>...</td>\n",
       "    </tr>\n",
       "    <tr>\n",
       "      <th>64</th>\n",
       "      <td>Tuvalu</td>\n",
       "      <td>TUV</td>\n",
       "      <td>2022</td>\n",
       "      <td>452</td>\n",
       "    </tr>\n",
       "    <tr>\n",
       "      <th>65</th>\n",
       "      <td>United States Virgin Islands</td>\n",
       "      <td>VIR</td>\n",
       "      <td>2022</td>\n",
       "      <td>8710</td>\n",
       "    </tr>\n",
       "    <tr>\n",
       "      <th>66</th>\n",
       "      <td>Vanuatu</td>\n",
       "      <td>VUT</td>\n",
       "      <td>2022</td>\n",
       "      <td>3530</td>\n",
       "    </tr>\n",
       "    <tr>\n",
       "      <th>67</th>\n",
       "      <td>Venezuela</td>\n",
       "      <td>VEN</td>\n",
       "      <td>2022</td>\n",
       "      <td>2700000</td>\n",
       "    </tr>\n",
       "    <tr>\n",
       "      <th>68</th>\n",
       "      <td>Yemen</td>\n",
       "      <td>YEM</td>\n",
       "      <td>2022</td>\n",
       "      <td>486000</td>\n",
       "    </tr>\n",
       "  </tbody>\n",
       "</table>\n",
       "<p>69 rows × 4 columns</p>\n",
       "</div>"
      ],
      "text/plain": [
       "                          Entity Code  Year  Fixed broadband subscriptions\n",
       "0            Antigua and Barbuda  ATG  2022                           9920\n",
       "1                          Aruba  ABW  2022                          18800\n",
       "2                       Barbados  BRB  2022                         106000\n",
       "3                         Belize  BLZ  2022                          39300\n",
       "4                        Bermuda  BMU  2022                          23000\n",
       "..                           ...  ...   ...                            ...\n",
       "64                        Tuvalu  TUV  2022                            452\n",
       "65  United States Virgin Islands  VIR  2022                           8710\n",
       "66                       Vanuatu  VUT  2022                           3530\n",
       "67                     Venezuela  VEN  2022                        2700000\n",
       "68                         Yemen  YEM  2022                         486000\n",
       "\n",
       "[69 rows x 4 columns]"
      ]
     },
     "execution_count": 206,
     "metadata": {},
     "output_type": "execute_result"
    }
   ],
   "source": [
    "data_2022 = duckdb.query(\"\"\"--sql\n",
    "    SELECT distinct entity, code, year, \"Fixed broadband subscriptions\"\n",
    "    FROM df\n",
    "    WHERE year = 2022 and entity NOT IN (SELECT entity FROM df WHERE year=2023)\n",
    "                                 ORDER BY entity;\n",
    "\"\"\").df()\n",
    "data_2022"
   ]
  },
  {
   "cell_type": "code",
   "execution_count": 199,
   "id": "ea50b8c0",
   "metadata": {},
   "outputs": [
    {
     "data": {
      "text/html": [
       "<div>\n",
       "<style scoped>\n",
       "    .dataframe tbody tr th:only-of-type {\n",
       "        vertical-align: middle;\n",
       "    }\n",
       "\n",
       "    .dataframe tbody tr th {\n",
       "        vertical-align: top;\n",
       "    }\n",
       "\n",
       "    .dataframe thead th {\n",
       "        text-align: right;\n",
       "    }\n",
       "</style>\n",
       "<table border=\"1\" class=\"dataframe\">\n",
       "  <thead>\n",
       "    <tr style=\"text-align: right;\">\n",
       "      <th></th>\n",
       "      <th>Entity</th>\n",
       "      <th>Code</th>\n",
       "    </tr>\n",
       "  </thead>\n",
       "  <tbody>\n",
       "    <tr>\n",
       "      <th>0</th>\n",
       "      <td>Sierra Leone</td>\n",
       "      <td>SLE</td>\n",
       "    </tr>\n",
       "  </tbody>\n",
       "</table>\n",
       "</div>"
      ],
      "text/plain": [
       "         Entity Code\n",
       "0  Sierra Leone  SLE"
      ]
     },
     "execution_count": 199,
     "metadata": {},
     "output_type": "execute_result"
    }
   ],
   "source": [
    "no_data_countries = duckdb.query(\"\"\"--sql\n",
    "    SELECT distinct entity, code\n",
    "    FROM df\n",
    "    WHERE entity NOT IN (SELECT entity FROM df WHERE year IN [2023, 2022])\n",
    "                                 ORDER BY entity;\n",
    "\"\"\").df()\n",
    "no_data_countries"
   ]
  },
  {
   "cell_type": "code",
   "execution_count": 179,
   "id": "a4007878",
   "metadata": {},
   "outputs": [
    {
     "data": {
      "text/html": [
       "<div>\n",
       "<style scoped>\n",
       "    .dataframe tbody tr th:only-of-type {\n",
       "        vertical-align: middle;\n",
       "    }\n",
       "\n",
       "    .dataframe tbody tr th {\n",
       "        vertical-align: top;\n",
       "    }\n",
       "\n",
       "    .dataframe thead th {\n",
       "        text-align: right;\n",
       "    }\n",
       "</style>\n",
       "<table border=\"1\" class=\"dataframe\">\n",
       "  <thead>\n",
       "    <tr style=\"text-align: right;\">\n",
       "      <th></th>\n",
       "      <th>Entity</th>\n",
       "      <th>Code</th>\n",
       "      <th>Year</th>\n",
       "      <th>Fixed broadband subscriptions</th>\n",
       "    </tr>\n",
       "  </thead>\n",
       "  <tbody>\n",
       "    <tr>\n",
       "      <th>1</th>\n",
       "      <td>China</td>\n",
       "      <td>CHN</td>\n",
       "      <td>2023</td>\n",
       "      <td>636000000</td>\n",
       "    </tr>\n",
       "    <tr>\n",
       "      <th>2</th>\n",
       "      <td>United States</td>\n",
       "      <td>USA</td>\n",
       "      <td>2023</td>\n",
       "      <td>131000000</td>\n",
       "    </tr>\n",
       "    <tr>\n",
       "      <th>3</th>\n",
       "      <td>Brazil</td>\n",
       "      <td>BRA</td>\n",
       "      <td>2023</td>\n",
       "      <td>48400000</td>\n",
       "    </tr>\n",
       "    <tr>\n",
       "      <th>4</th>\n",
       "      <td>Japan</td>\n",
       "      <td>JPN</td>\n",
       "      <td>2023</td>\n",
       "      <td>47900000</td>\n",
       "    </tr>\n",
       "    <tr>\n",
       "      <th>5</th>\n",
       "      <td>India</td>\n",
       "      <td>IND</td>\n",
       "      <td>2023</td>\n",
       "      <td>39300000</td>\n",
       "    </tr>\n",
       "    <tr>\n",
       "      <th>...</th>\n",
       "      <td>...</td>\n",
       "      <td>...</td>\n",
       "      <td>...</td>\n",
       "      <td>...</td>\n",
       "    </tr>\n",
       "    <tr>\n",
       "      <th>136</th>\n",
       "      <td>Burundi</td>\n",
       "      <td>BDI</td>\n",
       "      <td>2023</td>\n",
       "      <td>2790</td>\n",
       "    </tr>\n",
       "    <tr>\n",
       "      <th>137</th>\n",
       "      <td>Palau</td>\n",
       "      <td>PLW</td>\n",
       "      <td>2023</td>\n",
       "      <td>1300</td>\n",
       "    </tr>\n",
       "    <tr>\n",
       "      <th>138</th>\n",
       "      <td>Kiribati</td>\n",
       "      <td>KIR</td>\n",
       "      <td>2023</td>\n",
       "      <td>440</td>\n",
       "    </tr>\n",
       "    <tr>\n",
       "      <th>139</th>\n",
       "      <td>South Sudan</td>\n",
       "      <td>SSD</td>\n",
       "      <td>2023</td>\n",
       "      <td>200</td>\n",
       "    </tr>\n",
       "    <tr>\n",
       "      <th>140</th>\n",
       "      <td>East Timor</td>\n",
       "      <td>TLS</td>\n",
       "      <td>2023</td>\n",
       "      <td>80</td>\n",
       "    </tr>\n",
       "  </tbody>\n",
       "</table>\n",
       "<p>140 rows × 4 columns</p>\n",
       "</div>"
      ],
      "text/plain": [
       "            Entity Code  Year  Fixed broadband subscriptions\n",
       "1            China  CHN  2023                      636000000\n",
       "2    United States  USA  2023                      131000000\n",
       "3           Brazil  BRA  2023                       48400000\n",
       "4            Japan  JPN  2023                       47900000\n",
       "5            India  IND  2023                       39300000\n",
       "..             ...  ...   ...                            ...\n",
       "136        Burundi  BDI  2023                           2790\n",
       "137          Palau  PLW  2023                           1300\n",
       "138       Kiribati  KIR  2023                            440\n",
       "139    South Sudan  SSD  2023                            200\n",
       "140     East Timor  TLS  2023                             80\n",
       "\n",
       "[140 rows x 4 columns]"
      ]
     },
     "execution_count": 179,
     "metadata": {},
     "output_type": "execute_result"
    }
   ],
   "source": [
    "df_2023 = duckdb.query(\"\"\"--sql\n",
    "    SELECT *\n",
    "    FROM df\n",
    "    WHERE year=2023 and code != 'None'\n",
    "    ORDER BY 4 DESC\n",
    "\"\"\").df()\n",
    "df_2023 = df_2023.iloc[1:]\n",
    "df_2023"
   ]
  },
  {
   "cell_type": "code",
   "execution_count": 265,
   "id": "fb2513e0",
   "metadata": {},
   "outputs": [
    {
     "data": {
      "text/html": [
       "<div>\n",
       "<style scoped>\n",
       "    .dataframe tbody tr th:only-of-type {\n",
       "        vertical-align: middle;\n",
       "    }\n",
       "\n",
       "    .dataframe tbody tr th {\n",
       "        vertical-align: top;\n",
       "    }\n",
       "\n",
       "    .dataframe thead th {\n",
       "        text-align: right;\n",
       "    }\n",
       "</style>\n",
       "<table border=\"1\" class=\"dataframe\">\n",
       "  <thead>\n",
       "    <tr style=\"text-align: right;\">\n",
       "      <th></th>\n",
       "      <th>Entity</th>\n",
       "      <th>Code</th>\n",
       "      <th>Year</th>\n",
       "      <th>Fixed broadband subscriptions</th>\n",
       "    </tr>\n",
       "  </thead>\n",
       "  <tbody>\n",
       "    <tr>\n",
       "      <th>1</th>\n",
       "      <td>China</td>\n",
       "      <td>CHN</td>\n",
       "      <td>2023.0</td>\n",
       "      <td>636000000.0</td>\n",
       "    </tr>\n",
       "    <tr>\n",
       "      <th>2</th>\n",
       "      <td>United States</td>\n",
       "      <td>USA</td>\n",
       "      <td>2023.0</td>\n",
       "      <td>131000000.0</td>\n",
       "    </tr>\n",
       "    <tr>\n",
       "      <th>3</th>\n",
       "      <td>Brazil</td>\n",
       "      <td>BRA</td>\n",
       "      <td>2023.0</td>\n",
       "      <td>48400000.0</td>\n",
       "    </tr>\n",
       "    <tr>\n",
       "      <th>4</th>\n",
       "      <td>Japan</td>\n",
       "      <td>JPN</td>\n",
       "      <td>2023.0</td>\n",
       "      <td>47900000.0</td>\n",
       "    </tr>\n",
       "    <tr>\n",
       "      <th>5</th>\n",
       "      <td>India</td>\n",
       "      <td>IND</td>\n",
       "      <td>2023.0</td>\n",
       "      <td>39300000.0</td>\n",
       "    </tr>\n",
       "    <tr>\n",
       "      <th>...</th>\n",
       "      <td>...</td>\n",
       "      <td>...</td>\n",
       "      <td>...</td>\n",
       "      <td>...</td>\n",
       "    </tr>\n",
       "    <tr>\n",
       "      <th>65</th>\n",
       "      <td>United States Virgin Islands</td>\n",
       "      <td>VIR</td>\n",
       "      <td>2022.0</td>\n",
       "      <td>8710.0</td>\n",
       "    </tr>\n",
       "    <tr>\n",
       "      <th>66</th>\n",
       "      <td>Vanuatu</td>\n",
       "      <td>VUT</td>\n",
       "      <td>2022.0</td>\n",
       "      <td>3530.0</td>\n",
       "    </tr>\n",
       "    <tr>\n",
       "      <th>67</th>\n",
       "      <td>Venezuela</td>\n",
       "      <td>VEN</td>\n",
       "      <td>2022.0</td>\n",
       "      <td>2700000.0</td>\n",
       "    </tr>\n",
       "    <tr>\n",
       "      <th>68</th>\n",
       "      <td>Yemen</td>\n",
       "      <td>YEM</td>\n",
       "      <td>2022.0</td>\n",
       "      <td>486000.0</td>\n",
       "    </tr>\n",
       "    <tr>\n",
       "      <th>0</th>\n",
       "      <td>Sierra Leone</td>\n",
       "      <td>SLE</td>\n",
       "      <td>NaN</td>\n",
       "      <td>-1.0</td>\n",
       "    </tr>\n",
       "  </tbody>\n",
       "</table>\n",
       "<p>210 rows × 4 columns</p>\n",
       "</div>"
      ],
      "text/plain": [
       "                          Entity Code    Year  Fixed broadband subscriptions\n",
       "1                          China  CHN  2023.0                    636000000.0\n",
       "2                  United States  USA  2023.0                    131000000.0\n",
       "3                         Brazil  BRA  2023.0                     48400000.0\n",
       "4                          Japan  JPN  2023.0                     47900000.0\n",
       "5                          India  IND  2023.0                     39300000.0\n",
       "..                           ...  ...     ...                            ...\n",
       "65  United States Virgin Islands  VIR  2022.0                         8710.0\n",
       "66                       Vanuatu  VUT  2022.0                         3530.0\n",
       "67                     Venezuela  VEN  2022.0                      2700000.0\n",
       "68                         Yemen  YEM  2022.0                       486000.0\n",
       "0                   Sierra Leone  SLE     NaN                           -1.0\n",
       "\n",
       "[210 rows x 4 columns]"
      ]
     },
     "execution_count": 265,
     "metadata": {},
     "output_type": "execute_result"
    }
   ],
   "source": [
    "df_2023_full = pd.concat([df_2023, data_2022, no_data_countries])\n",
    "df_2023_full[\"Fixed broadband subscriptions\"] = df_2023_full[\"Fixed broadband subscriptions\"].fillna(-1)\n",
    "df_2023_full"
   ]
  },
  {
   "cell_type": "code",
   "execution_count": 213,
   "id": "72a81185",
   "metadata": {},
   "outputs": [
    {
     "name": "stderr",
     "output_type": "stream",
     "text": [
      "/Users/john.sandsjo/Documents/github/data-visualisation-john-sandsjo-de24/.venv/lib/python3.12/site-packages/pandas/core/arraylike.py:399: RuntimeWarning:\n",
      "\n",
      "divide by zero encountered in log\n",
      "\n",
      "/Users/john.sandsjo/Documents/github/data-visualisation-john-sandsjo-de24/.venv/lib/python3.12/site-packages/pandas/core/arraylike.py:399: RuntimeWarning:\n",
      "\n",
      "invalid value encountered in log\n",
      "\n"
     ]
    },
    {
     "data": {
      "text/plain": [
       "1     20.270709\n",
       "2     18.690708\n",
       "3     17.695010\n",
       "4     17.684626\n",
       "5     17.486735\n",
       "        ...    \n",
       "65     9.072227\n",
       "66     8.169053\n",
       "67    14.808762\n",
       "68    13.093964\n",
       "0           NaN\n",
       "Name: Fixed broadband subscriptions, Length: 210, dtype: float64"
      ]
     },
     "execution_count": 213,
     "metadata": {},
     "output_type": "execute_result"
    }
   ],
   "source": [
    "import numpy as np\n",
    "\n",
    "countries_log = np.log(df_2023_full[\"Fixed broadband subscriptions\"])\n",
    "countries_log"
   ]
  },
  {
   "cell_type": "code",
   "execution_count": 318,
   "id": "218e3485",
   "metadata": {},
   "outputs": [
    {
     "data": {
      "application/vnd.plotly.v1+json": {
       "config": {
        "plotlyServerURL": "https://plot.ly"
       },
       "data": [
        {
         "coloraxis": "coloraxis",
         "customdata": {
          "bdata": "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",
          "dtype": "f8",
          "shape": "210, 2"
         },
         "geo": "geo",
         "hovertemplate": "<b>%{hovertext}</b><br>Year: %{customdata[0]}<br><b>Value: %{customdata[1]}</b>",
         "hovertext": [
          "China",
          "United States",
          "Brazil",
          "Japan",
          "India",
          "Germany",
          "France",
          "United Kingdom",
          "Mexico",
          "South Korea",
          "Vietnam",
          "Italy",
          "Turkey",
          "Spain",
          "Canada",
          "Saudi Arabia",
          "Egypt",
          "Indonesia",
          "Bangladesh",
          "Argentina",
          "Thailand",
          "Iran",
          "Uzbekistan",
          "Poland",
          "Australia",
          "Colombia",
          "Ukraine",
          "Netherlands",
          "Iraq",
          "Philippines",
          "Romania",
          "Algeria",
          "Belgium",
          "Portugal",
          "Malaysia",
          "Chile",
          "Greece",
          "Switzerland",
          "Sweden",
          "Czechia",
          "United Arab Emirates",
          "Kazakhstan",
          "Hungary",
          "Peru",
          "Pakistan",
          "Belarus",
          "Hong Kong",
          "Ecuador",
          "Israel",
          "Austria",
          "Denmark",
          "Bulgaria",
          "Azerbaijan",
          "South Africa",
          "Serbia",
          "Sri Lanka",
          "Finland",
          "New Zealand",
          "Slovakia",
          "Tunisia",
          "Tanzania",
          "Ireland",
          "Syria",
          "Singapore",
          "Myanmar",
          "Kenya",
          "Dominican Republic",
          "Costa Rica",
          "Croatia",
          "Georgia",
          "Uruguay",
          "Guatemala",
          "Bosnia and Herzegovina",
          "Paraguay",
          "Moldova",
          "Panama",
          "Lithuania",
          "Jordan",
          "Puerto Rico",
          "Slovenia",
          "Albania",
          "Oman",
          "Armenia",
          "Estonia",
          "Mongolia",
          "Latvia",
          "Honduras",
          "Kyrgyzstan",
          "Jamaica",
          "Palestine",
          "Cote d'Ivoire",
          "Trinidad and Tobago",
          "Nicaragua",
          "Cyprus",
          "Senegal",
          "Qatar",
          "Mauritius",
          "Cuba",
          "Zimbabwe",
          "Bahrain",
          "Malta",
          "Ghana",
          "Macao",
          "Montenegro",
          "Iceland",
          "Angola",
          "Nigeria",
          "Togo",
          "Namibia",
          "Zambia",
          "Maldives",
          "Bahamas",
          "Brunei",
          "Botswana",
          "Congo",
          "Rwanda",
          "Kuwait",
          "Uganda",
          "Andorra",
          "Seychelles",
          "Cape Verde",
          "Eswatini",
          "Madagascar",
          "Afghanistan",
          "Saint Vincent and the Grenadines",
          "Benin",
          "Monaco",
          "Liechtenstein",
          "Djibouti",
          "Malawi",
          "Bhutan",
          "Lesotho",
          "Guinea-Bissau",
          "Sao Tome and Principe",
          "Comoros",
          "Burundi",
          "Palau",
          "Kiribati",
          "South Sudan",
          "East Timor",
          "Antigua and Barbuda",
          "Aruba",
          "Barbados",
          "Belize",
          "Bermuda",
          "Bolivia",
          "British Virgin Islands",
          "Burkina Faso",
          "Cambodia",
          "Cameroon",
          "Cayman Islands",
          "Central African Republic",
          "Chad",
          "Curacao",
          "Democratic Republic of Congo",
          "Dominica",
          "El Salvador",
          "Equatorial Guinea",
          "Eritrea",
          "Ethiopia",
          "European Union (27)",
          "Faeroe Islands",
          "Fiji",
          "French Polynesia",
          "Gabon",
          "Gambia",
          "Gibraltar",
          "Greenland",
          "Grenada",
          "Guam",
          "Guinea",
          "Guyana",
          "Haiti",
          "Laos",
          "Lebanon",
          "Liberia",
          "Libya",
          "Luxembourg",
          "Mali",
          "Marshall Islands",
          "Mauritania",
          "Micronesia (country)",
          "Middle-income countries",
          "Morocco",
          "Mozambique",
          "Nauru",
          "Nepal",
          "New Caledonia",
          "Niger",
          "North Macedonia",
          "Norway",
          "Papua New Guinea",
          "Russia",
          "Saint Kitts and Nevis",
          "Saint Lucia",
          "Samoa",
          "San Marino",
          "Solomon Islands",
          "Somalia",
          "Sudan",
          "Suriname",
          "Tajikistan",
          "Tonga",
          "Turkmenistan",
          "Tuvalu",
          "United States Virgin Islands",
          "Vanuatu",
          "Venezuela",
          "Yemen",
          "Sierra Leone"
         ],
         "locations": [
          "CHN",
          "USA",
          "BRA",
          "JPN",
          "IND",
          "DEU",
          "FRA",
          "GBR",
          "MEX",
          "KOR",
          "VNM",
          "ITA",
          "TUR",
          "ESP",
          "CAN",
          "SAU",
          "EGY",
          "IDN",
          "BGD",
          "ARG",
          "THA",
          "IRN",
          "UZB",
          "POL",
          "AUS",
          "COL",
          "UKR",
          "NLD",
          "IRQ",
          "PHL",
          "ROU",
          "DZA",
          "BEL",
          "PRT",
          "MYS",
          "CHL",
          "GRC",
          "CHE",
          "SWE",
          "CZE",
          "ARE",
          "KAZ",
          "HUN",
          "PER",
          "PAK",
          "BLR",
          "HKG",
          "ECU",
          "ISR",
          "AUT",
          "DNK",
          "BGR",
          "AZE",
          "ZAF",
          "SRB",
          "LKA",
          "FIN",
          "NZL",
          "SVK",
          "TUN",
          "TZA",
          "IRL",
          "SYR",
          "SGP",
          "MMR",
          "KEN",
          "DOM",
          "CRI",
          "HRV",
          "GEO",
          "URY",
          "GTM",
          "BIH",
          "PRY",
          "MDA",
          "PAN",
          "LTU",
          "JOR",
          "PRI",
          "SVN",
          "ALB",
          "OMN",
          "ARM",
          "EST",
          "MNG",
          "LVA",
          "HND",
          "KGZ",
          "JAM",
          "PSE",
          "CIV",
          "TTO",
          "NIC",
          "CYP",
          "SEN",
          "QAT",
          "MUS",
          "CUB",
          "ZWE",
          "BHR",
          "MLT",
          "GHA",
          "MAC",
          "MNE",
          "ISL",
          "AGO",
          "NGA",
          "TGO",
          "NAM",
          "ZMB",
          "MDV",
          "BHS",
          "BRN",
          "BWA",
          "COG",
          "RWA",
          "KWT",
          "UGA",
          "AND",
          "SYC",
          "CPV",
          "SWZ",
          "MDG",
          "AFG",
          "VCT",
          "BEN",
          "MCO",
          "LIE",
          "DJI",
          "MWI",
          "BTN",
          "LSO",
          "GNB",
          "STP",
          "COM",
          "BDI",
          "PLW",
          "KIR",
          "SSD",
          "TLS",
          "ATG",
          "ABW",
          "BRB",
          "BLZ",
          "BMU",
          "BOL",
          "VGB",
          "BFA",
          "KHM",
          "CMR",
          "CYM",
          "CAF",
          "TCD",
          "CUW",
          "COD",
          "DMA",
          "SLV",
          "GNQ",
          "ERI",
          "ETH",
          null,
          null,
          "FJI",
          "PYF",
          "GAB",
          "GMB",
          "GIB",
          "GRL",
          "GRD",
          "GUM",
          "GIN",
          "GUY",
          "HTI",
          "LAO",
          "LBN",
          "LBR",
          "LBY",
          "LUX",
          "MLI",
          "MHL",
          "MRT",
          "FSM",
          null,
          "MAR",
          "MOZ",
          "NRU",
          "NPL",
          "NCL",
          "NER",
          "MKD",
          "NOR",
          "PNG",
          "RUS",
          "KNA",
          "LCA",
          "WSM",
          "SMR",
          "SLB",
          "SOM",
          "SDN",
          "SUR",
          "TJK",
          "TON",
          "TKM",
          "TUV",
          "VIR",
          "VUT",
          "VEN",
          "YEM",
          "SLE"
         ],
         "name": "",
         "type": "choropleth",
         "z": {
          "bdata": "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",
          "dtype": "f8"
         }
        }
       ],
       "layout": {
        "annotations": [
         {
          "font": {
           "size": 10
          },
          "showarrow": false,
          "text": "<b>Data source:</b> International Telecommunication Union (via World Bank) (2025)",
          "x": 0,
          "xref": "paper",
          "y": -0.1,
          "yref": "paper"
         },
         {
          "font": {
           "size": 10
          },
          "showarrow": false,
          "text": "OurWorldInData.org/internet | CC BY",
          "x": 1,
          "xref": "paper",
          "y": -0.1,
          "yref": "paper"
         }
        ],
        "coloraxis": {
         "colorbar": {
          "labelalias": {
           "6": "300,000",
           "8": "1 million",
           "10": "3 million",
           "12": "10 million",
           "14": "30 million",
           "16": "100 million",
           "18": "300 million",
           "20": "1 billion"
          },
          "len": 0.8,
          "orientation": "h",
          "thickness": 10,
          "ticks": "outside",
          "title": {
           "text": ""
          },
          "xanchor": "center",
          "y": -0.3,
          "yanchor": "bottom"
         },
         "colorscale": [
          [
           0,
           "rgb(255,245,235)"
          ],
          [
           0.125,
           "rgb(254,230,206)"
          ],
          [
           0.25,
           "rgb(253,208,162)"
          ],
          [
           0.375,
           "rgb(253,174,107)"
          ],
          [
           0.5,
           "rgb(253,141,60)"
          ],
          [
           0.625,
           "rgb(241,105,19)"
          ],
          [
           0.75,
           "rgb(217,72,1)"
          ],
          [
           0.875,
           "rgb(166,54,3)"
          ],
          [
           1,
           "rgb(127,39,4)"
          ]
         ]
        },
        "geo": {
         "center": {},
         "domain": {
          "x": [
           0,
           1
          ],
          "y": [
           0,
           1
          ]
         },
         "projection": {
          "type": "natural earth"
         },
         "showframe": false
        },
        "legend": {
         "tracegroupgap": 0
        },
        "margin": {
         "b": 40,
         "l": 10,
         "r": 10,
         "t": 60
        },
        "template": {
         "data": {
          "bar": [
           {
            "error_x": {
             "color": "#2a3f5f"
            },
            "error_y": {
             "color": "#2a3f5f"
            },
            "marker": {
             "line": {
              "color": "#E5ECF6",
              "width": 0.5
             },
             "pattern": {
              "fillmode": "overlay",
              "size": 10,
              "solidity": 0.2
             }
            },
            "type": "bar"
           }
          ],
          "barpolar": [
           {
            "marker": {
             "line": {
              "color": "#E5ECF6",
              "width": 0.5
             },
             "pattern": {
              "fillmode": "overlay",
              "size": 10,
              "solidity": 0.2
             }
            },
            "type": "barpolar"
           }
          ],
          "carpet": [
           {
            "aaxis": {
             "endlinecolor": "#2a3f5f",
             "gridcolor": "white",
             "linecolor": "white",
             "minorgridcolor": "white",
             "startlinecolor": "#2a3f5f"
            },
            "baxis": {
             "endlinecolor": "#2a3f5f",
             "gridcolor": "white",
             "linecolor": "white",
             "minorgridcolor": "white",
             "startlinecolor": "#2a3f5f"
            },
            "type": "carpet"
           }
          ],
          "choropleth": [
           {
            "colorbar": {
             "outlinewidth": 0,
             "ticks": ""
            },
            "type": "choropleth"
           }
          ],
          "contour": [
           {
            "colorbar": {
             "outlinewidth": 0,
             "ticks": ""
            },
            "colorscale": [
             [
              0,
              "#0d0887"
             ],
             [
              0.1111111111111111,
              "#46039f"
             ],
             [
              0.2222222222222222,
              "#7201a8"
             ],
             [
              0.3333333333333333,
              "#9c179e"
             ],
             [
              0.4444444444444444,
              "#bd3786"
             ],
             [
              0.5555555555555556,
              "#d8576b"
             ],
             [
              0.6666666666666666,
              "#ed7953"
             ],
             [
              0.7777777777777778,
              "#fb9f3a"
             ],
             [
              0.8888888888888888,
              "#fdca26"
             ],
             [
              1,
              "#f0f921"
             ]
            ],
            "type": "contour"
           }
          ],
          "contourcarpet": [
           {
            "colorbar": {
             "outlinewidth": 0,
             "ticks": ""
            },
            "type": "contourcarpet"
           }
          ],
          "heatmap": [
           {
            "colorbar": {
             "outlinewidth": 0,
             "ticks": ""
            },
            "colorscale": [
             [
              0,
              "#0d0887"
             ],
             [
              0.1111111111111111,
              "#46039f"
             ],
             [
              0.2222222222222222,
              "#7201a8"
             ],
             [
              0.3333333333333333,
              "#9c179e"
             ],
             [
              0.4444444444444444,
              "#bd3786"
             ],
             [
              0.5555555555555556,
              "#d8576b"
             ],
             [
              0.6666666666666666,
              "#ed7953"
             ],
             [
              0.7777777777777778,
              "#fb9f3a"
             ],
             [
              0.8888888888888888,
              "#fdca26"
             ],
             [
              1,
              "#f0f921"
             ]
            ],
            "type": "heatmap"
           }
          ],
          "histogram": [
           {
            "marker": {
             "pattern": {
              "fillmode": "overlay",
              "size": 10,
              "solidity": 0.2
             }
            },
            "type": "histogram"
           }
          ],
          "histogram2d": [
           {
            "colorbar": {
             "outlinewidth": 0,
             "ticks": ""
            },
            "colorscale": [
             [
              0,
              "#0d0887"
             ],
             [
              0.1111111111111111,
              "#46039f"
             ],
             [
              0.2222222222222222,
              "#7201a8"
             ],
             [
              0.3333333333333333,
              "#9c179e"
             ],
             [
              0.4444444444444444,
              "#bd3786"
             ],
             [
              0.5555555555555556,
              "#d8576b"
             ],
             [
              0.6666666666666666,
              "#ed7953"
             ],
             [
              0.7777777777777778,
              "#fb9f3a"
             ],
             [
              0.8888888888888888,
              "#fdca26"
             ],
             [
              1,
              "#f0f921"
             ]
            ],
            "type": "histogram2d"
           }
          ],
          "histogram2dcontour": [
           {
            "colorbar": {
             "outlinewidth": 0,
             "ticks": ""
            },
            "colorscale": [
             [
              0,
              "#0d0887"
             ],
             [
              0.1111111111111111,
              "#46039f"
             ],
             [
              0.2222222222222222,
              "#7201a8"
             ],
             [
              0.3333333333333333,
              "#9c179e"
             ],
             [
              0.4444444444444444,
              "#bd3786"
             ],
             [
              0.5555555555555556,
              "#d8576b"
             ],
             [
              0.6666666666666666,
              "#ed7953"
             ],
             [
              0.7777777777777778,
              "#fb9f3a"
             ],
             [
              0.8888888888888888,
              "#fdca26"
             ],
             [
              1,
              "#f0f921"
             ]
            ],
            "type": "histogram2dcontour"
           }
          ],
          "mesh3d": [
           {
            "colorbar": {
             "outlinewidth": 0,
             "ticks": ""
            },
            "type": "mesh3d"
           }
          ],
          "parcoords": [
           {
            "line": {
             "colorbar": {
              "outlinewidth": 0,
              "ticks": ""
             }
            },
            "type": "parcoords"
           }
          ],
          "pie": [
           {
            "automargin": true,
            "type": "pie"
           }
          ],
          "scatter": [
           {
            "fillpattern": {
             "fillmode": "overlay",
             "size": 10,
             "solidity": 0.2
            },
            "type": "scatter"
           }
          ],
          "scatter3d": [
           {
            "line": {
             "colorbar": {
              "outlinewidth": 0,
              "ticks": ""
             }
            },
            "marker": {
             "colorbar": {
              "outlinewidth": 0,
              "ticks": ""
             }
            },
            "type": "scatter3d"
           }
          ],
          "scattercarpet": [
           {
            "marker": {
             "colorbar": {
              "outlinewidth": 0,
              "ticks": ""
             }
            },
            "type": "scattercarpet"
           }
          ],
          "scattergeo": [
           {
            "marker": {
             "colorbar": {
              "outlinewidth": 0,
              "ticks": ""
             }
            },
            "type": "scattergeo"
           }
          ],
          "scattergl": [
           {
            "marker": {
             "colorbar": {
              "outlinewidth": 0,
              "ticks": ""
             }
            },
            "type": "scattergl"
           }
          ],
          "scattermap": [
           {
            "marker": {
             "colorbar": {
              "outlinewidth": 0,
              "ticks": ""
             }
            },
            "type": "scattermap"
           }
          ],
          "scattermapbox": [
           {
            "marker": {
             "colorbar": {
              "outlinewidth": 0,
              "ticks": ""
             }
            },
            "type": "scattermapbox"
           }
          ],
          "scatterpolar": [
           {
            "marker": {
             "colorbar": {
              "outlinewidth": 0,
              "ticks": ""
             }
            },
            "type": "scatterpolar"
           }
          ],
          "scatterpolargl": [
           {
            "marker": {
             "colorbar": {
              "outlinewidth": 0,
              "ticks": ""
             }
            },
            "type": "scatterpolargl"
           }
          ],
          "scatterternary": [
           {
            "marker": {
             "colorbar": {
              "outlinewidth": 0,
              "ticks": ""
             }
            },
            "type": "scatterternary"
           }
          ],
          "surface": [
           {
            "colorbar": {
             "outlinewidth": 0,
             "ticks": ""
            },
            "colorscale": [
             [
              0,
              "#0d0887"
             ],
             [
              0.1111111111111111,
              "#46039f"
             ],
             [
              0.2222222222222222,
              "#7201a8"
             ],
             [
              0.3333333333333333,
              "#9c179e"
             ],
             [
              0.4444444444444444,
              "#bd3786"
             ],
             [
              0.5555555555555556,
              "#d8576b"
             ],
             [
              0.6666666666666666,
              "#ed7953"
             ],
             [
              0.7777777777777778,
              "#fb9f3a"
             ],
             [
              0.8888888888888888,
              "#fdca26"
             ],
             [
              1,
              "#f0f921"
             ]
            ],
            "type": "surface"
           }
          ],
          "table": [
           {
            "cells": {
             "fill": {
              "color": "#EBF0F8"
             },
             "line": {
              "color": "white"
             }
            },
            "header": {
             "fill": {
              "color": "#C8D4E3"
             },
             "line": {
              "color": "white"
             }
            },
            "type": "table"
           }
          ]
         },
         "layout": {
          "annotationdefaults": {
           "arrowcolor": "#2a3f5f",
           "arrowhead": 0,
           "arrowwidth": 1
          },
          "autotypenumbers": "strict",
          "coloraxis": {
           "colorbar": {
            "outlinewidth": 0,
            "ticks": ""
           }
          },
          "colorscale": {
           "diverging": [
            [
             0,
             "#8e0152"
            ],
            [
             0.1,
             "#c51b7d"
            ],
            [
             0.2,
             "#de77ae"
            ],
            [
             0.3,
             "#f1b6da"
            ],
            [
             0.4,
             "#fde0ef"
            ],
            [
             0.5,
             "#f7f7f7"
            ],
            [
             0.6,
             "#e6f5d0"
            ],
            [
             0.7,
             "#b8e186"
            ],
            [
             0.8,
             "#7fbc41"
            ],
            [
             0.9,
             "#4d9221"
            ],
            [
             1,
             "#276419"
            ]
           ],
           "sequential": [
            [
             0,
             "#0d0887"
            ],
            [
             0.1111111111111111,
             "#46039f"
            ],
            [
             0.2222222222222222,
             "#7201a8"
            ],
            [
             0.3333333333333333,
             "#9c179e"
            ],
            [
             0.4444444444444444,
             "#bd3786"
            ],
            [
             0.5555555555555556,
             "#d8576b"
            ],
            [
             0.6666666666666666,
             "#ed7953"
            ],
            [
             0.7777777777777778,
             "#fb9f3a"
            ],
            [
             0.8888888888888888,
             "#fdca26"
            ],
            [
             1,
             "#f0f921"
            ]
           ],
           "sequentialminus": [
            [
             0,
             "#0d0887"
            ],
            [
             0.1111111111111111,
             "#46039f"
            ],
            [
             0.2222222222222222,
             "#7201a8"
            ],
            [
             0.3333333333333333,
             "#9c179e"
            ],
            [
             0.4444444444444444,
             "#bd3786"
            ],
            [
             0.5555555555555556,
             "#d8576b"
            ],
            [
             0.6666666666666666,
             "#ed7953"
            ],
            [
             0.7777777777777778,
             "#fb9f3a"
            ],
            [
             0.8888888888888888,
             "#fdca26"
            ],
            [
             1,
             "#f0f921"
            ]
           ]
          },
          "colorway": [
           "#636efa",
           "#EF553B",
           "#00cc96",
           "#ab63fa",
           "#FFA15A",
           "#19d3f3",
           "#FF6692",
           "#B6E880",
           "#FF97FF",
           "#FECB52"
          ],
          "font": {
           "color": "#2a3f5f"
          },
          "geo": {
           "bgcolor": "white",
           "lakecolor": "white",
           "landcolor": "#E5ECF6",
           "showlakes": true,
           "showland": true,
           "subunitcolor": "white"
          },
          "hoverlabel": {
           "align": "left"
          },
          "hovermode": "closest",
          "mapbox": {
           "style": "light"
          },
          "paper_bgcolor": "white",
          "plot_bgcolor": "#E5ECF6",
          "polar": {
           "angularaxis": {
            "gridcolor": "white",
            "linecolor": "white",
            "ticks": ""
           },
           "bgcolor": "#E5ECF6",
           "radialaxis": {
            "gridcolor": "white",
            "linecolor": "white",
            "ticks": ""
           }
          },
          "scene": {
           "xaxis": {
            "backgroundcolor": "#E5ECF6",
            "gridcolor": "white",
            "gridwidth": 2,
            "linecolor": "white",
            "showbackground": true,
            "ticks": "",
            "zerolinecolor": "white"
           },
           "yaxis": {
            "backgroundcolor": "#E5ECF6",
            "gridcolor": "white",
            "gridwidth": 2,
            "linecolor": "white",
            "showbackground": true,
            "ticks": "",
            "zerolinecolor": "white"
           },
           "zaxis": {
            "backgroundcolor": "#E5ECF6",
            "gridcolor": "white",
            "gridwidth": 2,
            "linecolor": "white",
            "showbackground": true,
            "ticks": "",
            "zerolinecolor": "white"
           }
          },
          "shapedefaults": {
           "line": {
            "color": "#2a3f5f"
           }
          },
          "ternary": {
           "aaxis": {
            "gridcolor": "white",
            "linecolor": "white",
            "ticks": ""
           },
           "baxis": {
            "gridcolor": "white",
            "linecolor": "white",
            "ticks": ""
           },
           "bgcolor": "#E5ECF6",
           "caxis": {
            "gridcolor": "white",
            "linecolor": "white",
            "ticks": ""
           }
          },
          "title": {
           "x": 0.05
          },
          "xaxis": {
           "automargin": true,
           "gridcolor": "white",
           "linecolor": "white",
           "ticks": "",
           "title": {
            "standoff": 15
           },
           "zerolinecolor": "white",
           "zerolinewidth": 2
          },
          "yaxis": {
           "automargin": true,
           "gridcolor": "white",
           "linecolor": "white",
           "ticks": "",
           "title": {
            "standoff": 15
           },
           "zerolinecolor": "white",
           "zerolinewidth": 2
          }
         }
        },
        "title": {
         "subtitle": {
          "text": "Subscriptions to fixed access to the public Internet with a download speed of at least 256 kbit/s."
         },
         "text": "Landline Internet subscriptions, 2023"
        },
        "width": 800
       }
      }
     },
     "metadata": {},
     "output_type": "display_data"
    }
   ],
   "source": [
    "import plotly.express as px\n",
    "\n",
    "avg_internet = df_2023_full['Fixed broadband subscriptions'].max()*0.95\n",
    "        \n",
    "\n",
    "fig = px.choropleth(df_2023_full,\n",
    "                    locations=\"Code\",\n",
    "                    color= countries_log,\n",
    "                    hover_name=\"Entity\",\n",
    "                    color_continuous_scale=\"oranges\",\n",
    "                    custom_data=['Year', 'Fixed broadband subscriptions']\n",
    "                    )\n",
    "\n",
    "fig.update_layout(title=\"Landline Internet subscriptions, 2023\",\n",
    "                  title_subtitle_text=\"Subscriptions to fixed access to the public Internet with a download speed of at least 256 kbit/s.\",\n",
    "                  margin = dict(b=40, l=10, r=10),\n",
    "                  width = 800,\n",
    "                  coloraxis_colorbar=dict(\n",
    "                    title=dict(text=\"\"),\n",
    "                    ticks=\"outside\", orientation='h', xanchor='center',\n",
    "                      yanchor='bottom',y=-0.3, len=0.8, thickness=10,\n",
    "                        labelalias={20: \"1 billion\", 18: \"300 million\", 16: \"100 million\", 14: \"30 million\", 12: \"10 million\", 10: \"3 million\", 8: \"1 million\", 6: \"300,000\"}),\n",
    "                  geo=dict(\n",
    "                      showframe=False,\n",
    "                      projection_type='natural earth'\n",
    "                      ),\n",
    "                  )\n",
    "\n",
    "#fig.add_trace(colorbar=dict(orientation='h'))\n",
    "\n",
    "fig.update_traces(hovertemplate=\"<b>%{hovertext}</b><br>\" +\n",
    "                                  \"Year: %{customdata[0]}<br>\" +\n",
    "                                  \"<b>Value: %{customdata[1]}</b>\" \n",
    "                                  )\n",
    "\n",
    "fig.add_annotation(\n",
    "    text=\"<b>Data source:</b> International Telecommunication Union (via World Bank) (2025)\",\n",
    "    yref='paper', xref='paper',\n",
    "    x=0, y=-0.1,  # Adjust y to position below the graph\n",
    "    showarrow=False,\n",
    "    font=dict(size=10)\n",
    ")\n",
    "\n",
    "fig.add_annotation(\n",
    "    text=\"OurWorldInData.org/internet | CC BY\",\n",
    "    yref='paper', xref='paper',\n",
    "    x=1, y=-0.1,  # Adjust y to position below the graph\n",
    "    showarrow=False,\n",
    "    font=dict(size=10)\n",
    ")\n",
    "fig.show()\n",
    "fig.write_html(\"figures/2_4_internet_use.html\")\n"
   ]
  }
 ],
 "metadata": {
  "kernelspec": {
   "display_name": ".venv",
   "language": "python",
   "name": "python3"
  },
  "language_info": {
   "codemirror_mode": {
    "name": "ipython",
    "version": 3
   },
   "file_extension": ".py",
   "mimetype": "text/x-python",
   "name": "python",
   "nbconvert_exporter": "python",
   "pygments_lexer": "ipython3",
   "version": "3.12.5"
  }
 },
 "nbformat": 4,
 "nbformat_minor": 5
}
