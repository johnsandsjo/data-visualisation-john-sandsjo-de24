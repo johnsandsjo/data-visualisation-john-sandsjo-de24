{
 "cells": [
  {
   "cell_type": "markdown",
   "id": "27141322",
   "metadata": {},
   "source": [
    "# 0. Internet usage\n",
    "\n",
    "a) Recreate this visualization using plotly, make it as close as possible to the image."
   ]
  },
  {
   "cell_type": "code",
   "execution_count": 37,
   "id": "420c5c6f",
   "metadata": {},
   "outputs": [
    {
     "data": {
      "text/html": [
       "<div>\n",
       "<style scoped>\n",
       "    .dataframe tbody tr th:only-of-type {\n",
       "        vertical-align: middle;\n",
       "    }\n",
       "\n",
       "    .dataframe tbody tr th {\n",
       "        vertical-align: top;\n",
       "    }\n",
       "\n",
       "    .dataframe thead th {\n",
       "        text-align: right;\n",
       "    }\n",
       "</style>\n",
       "<table border=\"1\" class=\"dataframe\">\n",
       "  <thead>\n",
       "    <tr style=\"text-align: right;\">\n",
       "      <th></th>\n",
       "      <th>Entity</th>\n",
       "      <th>Code</th>\n",
       "      <th>Year</th>\n",
       "      <th>Individuals using the Internet (% of population)</th>\n",
       "    </tr>\n",
       "  </thead>\n",
       "  <tbody>\n",
       "    <tr>\n",
       "      <th>0</th>\n",
       "      <td>Afghanistan</td>\n",
       "      <td>AFG</td>\n",
       "      <td>1990</td>\n",
       "      <td>0.0000</td>\n",
       "    </tr>\n",
       "    <tr>\n",
       "      <th>1</th>\n",
       "      <td>Afghanistan</td>\n",
       "      <td>AFG</td>\n",
       "      <td>1991</td>\n",
       "      <td>0.0000</td>\n",
       "    </tr>\n",
       "    <tr>\n",
       "      <th>2</th>\n",
       "      <td>Afghanistan</td>\n",
       "      <td>AFG</td>\n",
       "      <td>1992</td>\n",
       "      <td>0.0000</td>\n",
       "    </tr>\n",
       "    <tr>\n",
       "      <th>3</th>\n",
       "      <td>Afghanistan</td>\n",
       "      <td>AFG</td>\n",
       "      <td>1993</td>\n",
       "      <td>0.0000</td>\n",
       "    </tr>\n",
       "    <tr>\n",
       "      <th>4</th>\n",
       "      <td>Afghanistan</td>\n",
       "      <td>AFG</td>\n",
       "      <td>1994</td>\n",
       "      <td>0.0000</td>\n",
       "    </tr>\n",
       "    <tr>\n",
       "      <th>...</th>\n",
       "      <td>...</td>\n",
       "      <td>...</td>\n",
       "      <td>...</td>\n",
       "      <td>...</td>\n",
       "    </tr>\n",
       "    <tr>\n",
       "      <th>7179</th>\n",
       "      <td>Zimbabwe</td>\n",
       "      <td>ZWE</td>\n",
       "      <td>2018</td>\n",
       "      <td>25.0000</td>\n",
       "    </tr>\n",
       "    <tr>\n",
       "      <th>7180</th>\n",
       "      <td>Zimbabwe</td>\n",
       "      <td>ZWE</td>\n",
       "      <td>2019</td>\n",
       "      <td>26.5883</td>\n",
       "    </tr>\n",
       "    <tr>\n",
       "      <th>7181</th>\n",
       "      <td>Zimbabwe</td>\n",
       "      <td>ZWE</td>\n",
       "      <td>2020</td>\n",
       "      <td>29.2986</td>\n",
       "    </tr>\n",
       "    <tr>\n",
       "      <th>7182</th>\n",
       "      <td>Zimbabwe</td>\n",
       "      <td>ZWE</td>\n",
       "      <td>2021</td>\n",
       "      <td>32.4616</td>\n",
       "    </tr>\n",
       "    <tr>\n",
       "      <th>7183</th>\n",
       "      <td>Zimbabwe</td>\n",
       "      <td>ZWE</td>\n",
       "      <td>2022</td>\n",
       "      <td>32.5615</td>\n",
       "    </tr>\n",
       "  </tbody>\n",
       "</table>\n",
       "<p>7184 rows × 4 columns</p>\n",
       "</div>"
      ],
      "text/plain": [
       "           Entity Code  Year  Individuals using the Internet (% of population)\n",
       "0     Afghanistan  AFG  1990                                            0.0000\n",
       "1     Afghanistan  AFG  1991                                            0.0000\n",
       "2     Afghanistan  AFG  1992                                            0.0000\n",
       "3     Afghanistan  AFG  1993                                            0.0000\n",
       "4     Afghanistan  AFG  1994                                            0.0000\n",
       "...           ...  ...   ...                                               ...\n",
       "7179     Zimbabwe  ZWE  2018                                           25.0000\n",
       "7180     Zimbabwe  ZWE  2019                                           26.5883\n",
       "7181     Zimbabwe  ZWE  2020                                           29.2986\n",
       "7182     Zimbabwe  ZWE  2021                                           32.4616\n",
       "7183     Zimbabwe  ZWE  2022                                           32.5615\n",
       "\n",
       "[7184 rows x 4 columns]"
      ]
     },
     "execution_count": 37,
     "metadata": {},
     "output_type": "execute_result"
    }
   ],
   "source": [
    "import pandas as pd\n",
    "import plotly.express as px\n",
    "df = pd.read_csv(\"data/share-of-individuals-using-the-internet.csv\")\n",
    "df"
   ]
  },
  {
   "cell_type": "code",
   "execution_count": 48,
   "id": "deffee3a",
   "metadata": {},
   "outputs": [
    {
     "data": {
      "text/html": [
       "<div>\n",
       "<style scoped>\n",
       "    .dataframe tbody tr th:only-of-type {\n",
       "        vertical-align: middle;\n",
       "    }\n",
       "\n",
       "    .dataframe tbody tr th {\n",
       "        vertical-align: top;\n",
       "    }\n",
       "\n",
       "    .dataframe thead th {\n",
       "        text-align: right;\n",
       "    }\n",
       "</style>\n",
       "<table border=\"1\" class=\"dataframe\">\n",
       "  <thead>\n",
       "    <tr style=\"text-align: right;\">\n",
       "      <th></th>\n",
       "      <th>part_of_world</th>\n",
       "      <th>Year</th>\n",
       "      <th>share_pop_internet_user</th>\n",
       "    </tr>\n",
       "  </thead>\n",
       "  <tbody>\n",
       "    <tr>\n",
       "      <th>0</th>\n",
       "      <td>Sub-Saharan Africa (WB)</td>\n",
       "      <td>2023</td>\n",
       "      <td>36.7</td>\n",
       "    </tr>\n",
       "    <tr>\n",
       "      <th>1</th>\n",
       "      <td>World</td>\n",
       "      <td>2023</td>\n",
       "      <td>67.4</td>\n",
       "    </tr>\n",
       "    <tr>\n",
       "      <th>2</th>\n",
       "      <td>Middle East and North Africa (WB)</td>\n",
       "      <td>2023</td>\n",
       "      <td>77.7</td>\n",
       "    </tr>\n",
       "    <tr>\n",
       "      <th>3</th>\n",
       "      <td>East Asia and Pacific (WB)</td>\n",
       "      <td>2023</td>\n",
       "      <td>79.0</td>\n",
       "    </tr>\n",
       "    <tr>\n",
       "      <th>4</th>\n",
       "      <td>Latin America and Caribbean (WB)</td>\n",
       "      <td>2023</td>\n",
       "      <td>81.0</td>\n",
       "    </tr>\n",
       "    <tr>\n",
       "      <th>5</th>\n",
       "      <td>Europe and Central Asia (WB)</td>\n",
       "      <td>2023</td>\n",
       "      <td>90.1</td>\n",
       "    </tr>\n",
       "    <tr>\n",
       "      <th>6</th>\n",
       "      <td>North America (WB)</td>\n",
       "      <td>2023</td>\n",
       "      <td>97.3</td>\n",
       "    </tr>\n",
       "  </tbody>\n",
       "</table>\n",
       "</div>"
      ],
      "text/plain": [
       "                       part_of_world  Year  share_pop_internet_user\n",
       "0            Sub-Saharan Africa (WB)  2023                     36.7\n",
       "1                              World  2023                     67.4\n",
       "2  Middle East and North Africa (WB)  2023                     77.7\n",
       "3         East Asia and Pacific (WB)  2023                     79.0\n",
       "4   Latin America and Caribbean (WB)  2023                     81.0\n",
       "5       Europe and Central Asia (WB)  2023                     90.1\n",
       "6                 North America (WB)  2023                     97.3"
      ]
     },
     "execution_count": 48,
     "metadata": {},
     "output_type": "execute_result"
    }
   ],
   "source": [
    "import duckdb\n",
    "\n",
    "conteninent_2023 = duckdb.query(\"\"\"--sql\n",
    "    SELECT entity as part_of_world, year, \"Individuals using the Internet (% of population)\" as share_pop_internet_user\n",
    "    FROM df\n",
    "    where entity IN ['North America (WB)', \n",
    "                           'Europe and Central Asia (WB)', \n",
    "                           'Latin America and Caribbean (WB)', \n",
    "                           'East Asia and Pacific (WB)',\n",
    "                           'Middle East and North Africa (WB)', \n",
    "                           'World', \n",
    "                           'South Asia (WB)',\n",
    "                           'Sub-Saharan Africa (WB)']\n",
    "                           AND year = 2023\n",
    "                                ORDER BY share_pop_internet_user\n",
    "\"\"\").df()\n",
    "\n",
    "conteninent_2023"
   ]
  },
  {
   "cell_type": "code",
   "execution_count": 280,
   "id": "5e1a8b3f",
   "metadata": {},
   "outputs": [
    {
     "data": {
      "application/vnd.plotly.v1+json": {
       "config": {
        "plotlyServerURL": "https://plot.ly"
       },
       "data": [
        {
         "cliponaxis": false,
         "hovertemplate": "share_pop_internet_user=%{x}<br>part_of_world=%{y}<extra></extra>",
         "legendgroup": "",
         "marker": {
          "color": "#7087B0",
          "pattern": {
           "shape": ""
          }
         },
         "name": "",
         "orientation": "h",
         "showlegend": false,
         "textposition": "outside",
         "texttemplate": "%{x}%",
         "type": "bar",
         "x": {
          "bdata": "mpmZmZlZQkCamZmZmdlQQM3MzMzMbFNAAAAAAADAU0AAAAAAAEBUQGZmZmZmhlZAMzMzMzNTWEA=",
          "dtype": "f8"
         },
         "xaxis": "x",
         "y": [
          "Sub-Saharan Africa (WB)",
          "World",
          "Middle East and North Africa (WB)",
          "East Asia and Pacific (WB)",
          "Latin America and Caribbean (WB)",
          "Europe and Central Asia (WB)",
          "North America (WB)"
         ],
         "yaxis": "y"
        }
       ],
       "layout": {
        "annotations": [
         {
          "font": {
           "size": 10
          },
          "showarrow": false,
          "text": "Data source: International Telecommunication Union (via World Bank) (2025)",
          "x": -0.5,
          "xref": "paper",
          "y": -0.15,
          "yref": "paper"
         },
         {
          "font": {
           "size": 10
          },
          "showarrow": false,
          "text": "OurWorldInData.org/internet | CC BY",
          "x": 1.15,
          "xref": "paper",
          "y": -0.15,
          "yref": "paper"
         },
         {
          "font": {
           "size": 10
          },
          "showarrow": false,
          "text": "Internet user bla bla bla bla bla bla bla bla bla bla bla bla bla bla bla bla bla bla bla bla",
          "x": -0.5,
          "xref": "paper",
          "y": -0.3,
          "yref": "paper"
         }
        ],
        "autosize": true,
        "bargap": 0.3,
        "barmode": "relative",
        "height": 600,
        "images": [
         {
          "sizex": 0.15,
          "sizey": 0.15,
          "source": "media/Our_World_in_Data_logo.png",
          "x": 0.98,
          "xref": "paper",
          "y": 1.22,
          "yref": "paper"
         }
        ],
        "legend": {
         "tracegroupgap": 0
        },
        "margin": {
         "b": 150
        },
        "plot_bgcolor": "white",
        "shapes": [
         {
          "line": {
           "color": "lightgrey",
           "width": 2
          },
          "type": "line",
          "x0": -0.5,
          "x1": 1.12,
          "xref": "paper",
          "y0": -0.2,
          "y1": -0.2,
          "yref": "paper"
         }
        ],
        "template": {
         "data": {
          "bar": [
           {
            "error_x": {
             "color": "#2a3f5f"
            },
            "error_y": {
             "color": "#2a3f5f"
            },
            "marker": {
             "line": {
              "color": "#E5ECF6",
              "width": 0.5
             },
             "pattern": {
              "fillmode": "overlay",
              "size": 10,
              "solidity": 0.2
             }
            },
            "type": "bar"
           }
          ],
          "barpolar": [
           {
            "marker": {
             "line": {
              "color": "#E5ECF6",
              "width": 0.5
             },
             "pattern": {
              "fillmode": "overlay",
              "size": 10,
              "solidity": 0.2
             }
            },
            "type": "barpolar"
           }
          ],
          "carpet": [
           {
            "aaxis": {
             "endlinecolor": "#2a3f5f",
             "gridcolor": "white",
             "linecolor": "white",
             "minorgridcolor": "white",
             "startlinecolor": "#2a3f5f"
            },
            "baxis": {
             "endlinecolor": "#2a3f5f",
             "gridcolor": "white",
             "linecolor": "white",
             "minorgridcolor": "white",
             "startlinecolor": "#2a3f5f"
            },
            "type": "carpet"
           }
          ],
          "choropleth": [
           {
            "colorbar": {
             "outlinewidth": 0,
             "ticks": ""
            },
            "type": "choropleth"
           }
          ],
          "contour": [
           {
            "colorbar": {
             "outlinewidth": 0,
             "ticks": ""
            },
            "colorscale": [
             [
              0,
              "#0d0887"
             ],
             [
              0.1111111111111111,
              "#46039f"
             ],
             [
              0.2222222222222222,
              "#7201a8"
             ],
             [
              0.3333333333333333,
              "#9c179e"
             ],
             [
              0.4444444444444444,
              "#bd3786"
             ],
             [
              0.5555555555555556,
              "#d8576b"
             ],
             [
              0.6666666666666666,
              "#ed7953"
             ],
             [
              0.7777777777777778,
              "#fb9f3a"
             ],
             [
              0.8888888888888888,
              "#fdca26"
             ],
             [
              1,
              "#f0f921"
             ]
            ],
            "type": "contour"
           }
          ],
          "contourcarpet": [
           {
            "colorbar": {
             "outlinewidth": 0,
             "ticks": ""
            },
            "type": "contourcarpet"
           }
          ],
          "heatmap": [
           {
            "colorbar": {
             "outlinewidth": 0,
             "ticks": ""
            },
            "colorscale": [
             [
              0,
              "#0d0887"
             ],
             [
              0.1111111111111111,
              "#46039f"
             ],
             [
              0.2222222222222222,
              "#7201a8"
             ],
             [
              0.3333333333333333,
              "#9c179e"
             ],
             [
              0.4444444444444444,
              "#bd3786"
             ],
             [
              0.5555555555555556,
              "#d8576b"
             ],
             [
              0.6666666666666666,
              "#ed7953"
             ],
             [
              0.7777777777777778,
              "#fb9f3a"
             ],
             [
              0.8888888888888888,
              "#fdca26"
             ],
             [
              1,
              "#f0f921"
             ]
            ],
            "type": "heatmap"
           }
          ],
          "histogram": [
           {
            "marker": {
             "pattern": {
              "fillmode": "overlay",
              "size": 10,
              "solidity": 0.2
             }
            },
            "type": "histogram"
           }
          ],
          "histogram2d": [
           {
            "colorbar": {
             "outlinewidth": 0,
             "ticks": ""
            },
            "colorscale": [
             [
              0,
              "#0d0887"
             ],
             [
              0.1111111111111111,
              "#46039f"
             ],
             [
              0.2222222222222222,
              "#7201a8"
             ],
             [
              0.3333333333333333,
              "#9c179e"
             ],
             [
              0.4444444444444444,
              "#bd3786"
             ],
             [
              0.5555555555555556,
              "#d8576b"
             ],
             [
              0.6666666666666666,
              "#ed7953"
             ],
             [
              0.7777777777777778,
              "#fb9f3a"
             ],
             [
              0.8888888888888888,
              "#fdca26"
             ],
             [
              1,
              "#f0f921"
             ]
            ],
            "type": "histogram2d"
           }
          ],
          "histogram2dcontour": [
           {
            "colorbar": {
             "outlinewidth": 0,
             "ticks": ""
            },
            "colorscale": [
             [
              0,
              "#0d0887"
             ],
             [
              0.1111111111111111,
              "#46039f"
             ],
             [
              0.2222222222222222,
              "#7201a8"
             ],
             [
              0.3333333333333333,
              "#9c179e"
             ],
             [
              0.4444444444444444,
              "#bd3786"
             ],
             [
              0.5555555555555556,
              "#d8576b"
             ],
             [
              0.6666666666666666,
              "#ed7953"
             ],
             [
              0.7777777777777778,
              "#fb9f3a"
             ],
             [
              0.8888888888888888,
              "#fdca26"
             ],
             [
              1,
              "#f0f921"
             ]
            ],
            "type": "histogram2dcontour"
           }
          ],
          "mesh3d": [
           {
            "colorbar": {
             "outlinewidth": 0,
             "ticks": ""
            },
            "type": "mesh3d"
           }
          ],
          "parcoords": [
           {
            "line": {
             "colorbar": {
              "outlinewidth": 0,
              "ticks": ""
             }
            },
            "type": "parcoords"
           }
          ],
          "pie": [
           {
            "automargin": true,
            "type": "pie"
           }
          ],
          "scatter": [
           {
            "fillpattern": {
             "fillmode": "overlay",
             "size": 10,
             "solidity": 0.2
            },
            "type": "scatter"
           }
          ],
          "scatter3d": [
           {
            "line": {
             "colorbar": {
              "outlinewidth": 0,
              "ticks": ""
             }
            },
            "marker": {
             "colorbar": {
              "outlinewidth": 0,
              "ticks": ""
             }
            },
            "type": "scatter3d"
           }
          ],
          "scattercarpet": [
           {
            "marker": {
             "colorbar": {
              "outlinewidth": 0,
              "ticks": ""
             }
            },
            "type": "scattercarpet"
           }
          ],
          "scattergeo": [
           {
            "marker": {
             "colorbar": {
              "outlinewidth": 0,
              "ticks": ""
             }
            },
            "type": "scattergeo"
           }
          ],
          "scattergl": [
           {
            "marker": {
             "colorbar": {
              "outlinewidth": 0,
              "ticks": ""
             }
            },
            "type": "scattergl"
           }
          ],
          "scattermap": [
           {
            "marker": {
             "colorbar": {
              "outlinewidth": 0,
              "ticks": ""
             }
            },
            "type": "scattermap"
           }
          ],
          "scattermapbox": [
           {
            "marker": {
             "colorbar": {
              "outlinewidth": 0,
              "ticks": ""
             }
            },
            "type": "scattermapbox"
           }
          ],
          "scatterpolar": [
           {
            "marker": {
             "colorbar": {
              "outlinewidth": 0,
              "ticks": ""
             }
            },
            "type": "scatterpolar"
           }
          ],
          "scatterpolargl": [
           {
            "marker": {
             "colorbar": {
              "outlinewidth": 0,
              "ticks": ""
             }
            },
            "type": "scatterpolargl"
           }
          ],
          "scatterternary": [
           {
            "marker": {
             "colorbar": {
              "outlinewidth": 0,
              "ticks": ""
             }
            },
            "type": "scatterternary"
           }
          ],
          "surface": [
           {
            "colorbar": {
             "outlinewidth": 0,
             "ticks": ""
            },
            "colorscale": [
             [
              0,
              "#0d0887"
             ],
             [
              0.1111111111111111,
              "#46039f"
             ],
             [
              0.2222222222222222,
              "#7201a8"
             ],
             [
              0.3333333333333333,
              "#9c179e"
             ],
             [
              0.4444444444444444,
              "#bd3786"
             ],
             [
              0.5555555555555556,
              "#d8576b"
             ],
             [
              0.6666666666666666,
              "#ed7953"
             ],
             [
              0.7777777777777778,
              "#fb9f3a"
             ],
             [
              0.8888888888888888,
              "#fdca26"
             ],
             [
              1,
              "#f0f921"
             ]
            ],
            "type": "surface"
           }
          ],
          "table": [
           {
            "cells": {
             "fill": {
              "color": "#EBF0F8"
             },
             "line": {
              "color": "white"
             }
            },
            "header": {
             "fill": {
              "color": "#C8D4E3"
             },
             "line": {
              "color": "white"
             }
            },
            "type": "table"
           }
          ]
         },
         "layout": {
          "annotationdefaults": {
           "arrowcolor": "#2a3f5f",
           "arrowhead": 0,
           "arrowwidth": 1
          },
          "autotypenumbers": "strict",
          "coloraxis": {
           "colorbar": {
            "outlinewidth": 0,
            "ticks": ""
           }
          },
          "colorscale": {
           "diverging": [
            [
             0,
             "#8e0152"
            ],
            [
             0.1,
             "#c51b7d"
            ],
            [
             0.2,
             "#de77ae"
            ],
            [
             0.3,
             "#f1b6da"
            ],
            [
             0.4,
             "#fde0ef"
            ],
            [
             0.5,
             "#f7f7f7"
            ],
            [
             0.6,
             "#e6f5d0"
            ],
            [
             0.7,
             "#b8e186"
            ],
            [
             0.8,
             "#7fbc41"
            ],
            [
             0.9,
             "#4d9221"
            ],
            [
             1,
             "#276419"
            ]
           ],
           "sequential": [
            [
             0,
             "#0d0887"
            ],
            [
             0.1111111111111111,
             "#46039f"
            ],
            [
             0.2222222222222222,
             "#7201a8"
            ],
            [
             0.3333333333333333,
             "#9c179e"
            ],
            [
             0.4444444444444444,
             "#bd3786"
            ],
            [
             0.5555555555555556,
             "#d8576b"
            ],
            [
             0.6666666666666666,
             "#ed7953"
            ],
            [
             0.7777777777777778,
             "#fb9f3a"
            ],
            [
             0.8888888888888888,
             "#fdca26"
            ],
            [
             1,
             "#f0f921"
            ]
           ],
           "sequentialminus": [
            [
             0,
             "#0d0887"
            ],
            [
             0.1111111111111111,
             "#46039f"
            ],
            [
             0.2222222222222222,
             "#7201a8"
            ],
            [
             0.3333333333333333,
             "#9c179e"
            ],
            [
             0.4444444444444444,
             "#bd3786"
            ],
            [
             0.5555555555555556,
             "#d8576b"
            ],
            [
             0.6666666666666666,
             "#ed7953"
            ],
            [
             0.7777777777777778,
             "#fb9f3a"
            ],
            [
             0.8888888888888888,
             "#fdca26"
            ],
            [
             1,
             "#f0f921"
            ]
           ]
          },
          "colorway": [
           "#636efa",
           "#EF553B",
           "#00cc96",
           "#ab63fa",
           "#FFA15A",
           "#19d3f3",
           "#FF6692",
           "#B6E880",
           "#FF97FF",
           "#FECB52"
          ],
          "font": {
           "color": "#2a3f5f"
          },
          "geo": {
           "bgcolor": "white",
           "lakecolor": "white",
           "landcolor": "#E5ECF6",
           "showlakes": true,
           "showland": true,
           "subunitcolor": "white"
          },
          "hoverlabel": {
           "align": "left"
          },
          "hovermode": "closest",
          "mapbox": {
           "style": "light"
          },
          "paper_bgcolor": "white",
          "plot_bgcolor": "#E5ECF6",
          "polar": {
           "angularaxis": {
            "gridcolor": "white",
            "linecolor": "white",
            "ticks": ""
           },
           "bgcolor": "#E5ECF6",
           "radialaxis": {
            "gridcolor": "white",
            "linecolor": "white",
            "ticks": ""
           }
          },
          "scene": {
           "xaxis": {
            "backgroundcolor": "#E5ECF6",
            "gridcolor": "white",
            "gridwidth": 2,
            "linecolor": "white",
            "showbackground": true,
            "ticks": "",
            "zerolinecolor": "white"
           },
           "yaxis": {
            "backgroundcolor": "#E5ECF6",
            "gridcolor": "white",
            "gridwidth": 2,
            "linecolor": "white",
            "showbackground": true,
            "ticks": "",
            "zerolinecolor": "white"
           },
           "zaxis": {
            "backgroundcolor": "#E5ECF6",
            "gridcolor": "white",
            "gridwidth": 2,
            "linecolor": "white",
            "showbackground": true,
            "ticks": "",
            "zerolinecolor": "white"
           }
          },
          "shapedefaults": {
           "line": {
            "color": "#2a3f5f"
           }
          },
          "ternary": {
           "aaxis": {
            "gridcolor": "white",
            "linecolor": "white",
            "ticks": ""
           },
           "baxis": {
            "gridcolor": "white",
            "linecolor": "white",
            "ticks": ""
           },
           "bgcolor": "#E5ECF6",
           "caxis": {
            "gridcolor": "white",
            "linecolor": "white",
            "ticks": ""
           }
          },
          "title": {
           "x": 0.05
          },
          "xaxis": {
           "automargin": true,
           "gridcolor": "white",
           "linecolor": "white",
           "ticks": "",
           "title": {
            "standoff": 15
           },
           "zerolinecolor": "white",
           "zerolinewidth": 2
          },
          "yaxis": {
           "automargin": true,
           "gridcolor": "white",
           "linecolor": "white",
           "ticks": "",
           "title": {
            "standoff": 15
           },
           "zerolinecolor": "white",
           "zerolinewidth": 2
          }
         }
        },
        "title": {
         "font": {
          "family": "Times",
          "size": 24,
          "weight": 1000
         },
         "subtitle": {
          "font": {
           "size": 12,
           "weight": 500
          },
          "text": "Share of the population who used the internet<sup>1</sup> in the last three months"
         },
         "text": "Share of the population using the Internet, 2023"
        },
        "width": 800,
        "xaxis": {
         "anchor": "y",
         "domain": [
          0,
          1
         ],
         "title": {
          "text": ""
         }
        },
        "yaxis": {
         "anchor": "x",
         "domain": [
          0,
          1
         ],
         "linecolor": "lightgrey",
         "linewidth": 1,
         "showline": true,
         "title": {
          "text": ""
         }
        }
       }
      }
     },
     "metadata": {},
     "output_type": "display_data"
    }
   ],
   "source": [
    "fig = px.bar(conteninent_2023, \n",
    "             x=\"share_pop_internet_user\", \n",
    "             y= \"part_of_world\",\n",
    "             title=\"Share of the population using the Internet, 2023\",\n",
    "             text_auto=True\n",
    "             )\n",
    "\n",
    "fig.add_annotation(\n",
    "    text=r\"Data source: International Telecommunication Union (via World Bank) (2025)\",\n",
    "    yref='paper', xref='paper',\n",
    "    x=-0.50, y=-0.15,  # Adjust y to position below the graph\n",
    "    showarrow=False,\n",
    "    font=dict(size=10)\n",
    ")\n",
    "\n",
    "fig.add_annotation(\n",
    "    text=r\"OurWorldInData.org/internet | CC BY\",\n",
    "    yref='paper', xref='paper',\n",
    "    x=1.15, y=-0.15,  # Adjust y to position below the graph\n",
    "    showarrow=False,\n",
    "    font=dict(size=10)\n",
    ")\n",
    "\n",
    "fig.add_annotation(\n",
    "    text=\"Internet user bla bla bla bla bla bla bla bla bla bla bla bla bla bla bla bla bla bla bla bla\",\n",
    "    yref='paper', xref='paper',\n",
    "    x=-0.5, y=-0.3,  # Adjust y to position below the graph\n",
    "    showarrow=False,\n",
    "    font=dict(size=10)\n",
    ")\n",
    "\n",
    "\n",
    "fig.update_layout(title_subtitle=dict(\n",
    "                    text=r\"Share of the population who used the internet<sup>1</sup> in the last three months\",\n",
    "                    font=dict(size=12, weight=500)),\n",
    "                  plot_bgcolor=\"white\",\n",
    "                  title_font=dict(family = \"Times\"),\n",
    "                  title_font_weight=1000,\n",
    "                  title_font_size=24,\n",
    "                  margin=dict(b=150),\n",
    "                  xaxis_title_text=\"\",\n",
    "                  yaxis_title_text=\"\",\n",
    "                  width=800,\n",
    "                  height=600,\n",
    "                  autosize=True,\n",
    "                  bargap=0.3,\n",
    "                  yaxis=dict(showline=True,linecolor='lightgrey',linewidth=1)\n",
    "                  )\n",
    "\n",
    "fig.update_traces(marker_color='#7087B0', textposition=\"outside\", cliponaxis=False, texttemplate='%{x}%')\n",
    "\n",
    "\n",
    "\n",
    "fig.add_layout_image(\n",
    "        dict(\n",
    "            source=\"media/Our_World_in_Data_logo.png\",\n",
    "            xref=\"paper\",\n",
    "            yref=\"paper\",\n",
    "            x=0.98,\n",
    "            y=1.22,\n",
    "            sizex=0.15,\n",
    "            sizey=0.15,\n",
    "            )\n",
    ")\n",
    "\n",
    "fig.add_shape(\n",
    "    type=\"line\",\n",
    "    xref=\"paper\", yref=\"paper\",\n",
    "    x0=-0.5, y0=-0.2, x1=1.12, y1=-0.2,\n",
    "    line=dict(color=\"lightgrey\", width=2),\n",
    ")\n",
    "fig.show()\n",
    "fig.write_html(\"figures/intern_use_pop.html\")"
   ]
  }
 ],
 "metadata": {
  "kernelspec": {
   "display_name": ".venv",
   "language": "python",
   "name": "python3"
  },
  "language_info": {
   "codemirror_mode": {
    "name": "ipython",
    "version": 3
   },
   "file_extension": ".py",
   "mimetype": "text/x-python",
   "name": "python",
   "nbconvert_exporter": "python",
   "pygments_lexer": "ipython3",
   "version": "3.12.5"
  }
 },
 "nbformat": 4,
 "nbformat_minor": 5
}
