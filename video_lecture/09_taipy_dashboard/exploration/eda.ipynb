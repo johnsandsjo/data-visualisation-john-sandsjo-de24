{
 "cells": [
  {
   "cell_type": "markdown",
   "id": "43a20024",
   "metadata": {},
   "source": [
    "# EDA on MYH\n"
   ]
  },
  {
   "cell_type": "code",
   "execution_count": 18,
   "id": "2ec6c3b9",
   "metadata": {},
   "outputs": [
    {
     "data": {
      "text/html": [
       "<div>\n",
       "<style scoped>\n",
       "    .dataframe tbody tr th:only-of-type {\n",
       "        vertical-align: middle;\n",
       "    }\n",
       "\n",
       "    .dataframe tbody tr th {\n",
       "        vertical-align: top;\n",
       "    }\n",
       "\n",
       "    .dataframe thead th {\n",
       "        text-align: right;\n",
       "    }\n",
       "</style>\n",
       "<table border=\"1\" class=\"dataframe\">\n",
       "  <thead>\n",
       "    <tr style=\"text-align: right;\">\n",
       "      <th></th>\n",
       "      <th>Utbildningsområde</th>\n",
       "      <th>SUN5 inriktning</th>\n",
       "      <th>SUN5 inriktning namn</th>\n",
       "      <th>Utbildningsnamn</th>\n",
       "      <th>Beslut</th>\n",
       "      <th>Diarienummer</th>\n",
       "      <th>Flera kommuner</th>\n",
       "      <th>Antal kommuner</th>\n",
       "      <th>Län</th>\n",
       "      <th>Kommun</th>\n",
       "      <th>...</th>\n",
       "      <th>Sökta utbildningsomgångar</th>\n",
       "      <th>Beviljade utbildningsomgångar</th>\n",
       "      <th>Sökta platser per utbildningsomgång</th>\n",
       "      <th>Sökta platser totalt</th>\n",
       "      <th>Beviljade platser utbildningsomgång 1</th>\n",
       "      <th>Beviljade platser utbildningsomgång 2</th>\n",
       "      <th>Beviljade platser utbildningsomgång 3</th>\n",
       "      <th>Beviljade platser utbildningsomgång 4</th>\n",
       "      <th>Beviljade platser utbildningsomgång 5</th>\n",
       "      <th>Beviljade platser totalt</th>\n",
       "    </tr>\n",
       "  </thead>\n",
       "  <tbody>\n",
       "    <tr>\n",
       "      <th>0</th>\n",
       "      <td>Data/IT</td>\n",
       "      <td>481ab</td>\n",
       "      <td>Utbildningar till programmerare, spel</td>\n",
       "      <td>AI Programmer</td>\n",
       "      <td>Avslag</td>\n",
       "      <td>MYH 2024/3742</td>\n",
       "      <td>Nej</td>\n",
       "      <td>1</td>\n",
       "      <td>Västerbotten</td>\n",
       "      <td>Umeå</td>\n",
       "      <td>...</td>\n",
       "      <td>3</td>\n",
       "      <td>0</td>\n",
       "      <td>30</td>\n",
       "      <td>90</td>\n",
       "      <td>0</td>\n",
       "      <td>0</td>\n",
       "      <td>0</td>\n",
       "      <td>0</td>\n",
       "      <td>0</td>\n",
       "      <td>0</td>\n",
       "    </tr>\n",
       "    <tr>\n",
       "      <th>1</th>\n",
       "      <td>Data/IT</td>\n",
       "      <td>481ab</td>\n",
       "      <td>Utbildningar till programmerare, spel</td>\n",
       "      <td>Forsbergs, Spelutvecklare – Game Programming</td>\n",
       "      <td>Avslag</td>\n",
       "      <td>MYH 2024/4174</td>\n",
       "      <td>Nej</td>\n",
       "      <td>1</td>\n",
       "      <td>Stockholm</td>\n",
       "      <td>Stockholm</td>\n",
       "      <td>...</td>\n",
       "      <td>3</td>\n",
       "      <td>0</td>\n",
       "      <td>20</td>\n",
       "      <td>60</td>\n",
       "      <td>0</td>\n",
       "      <td>0</td>\n",
       "      <td>0</td>\n",
       "      <td>0</td>\n",
       "      <td>0</td>\n",
       "      <td>0</td>\n",
       "    </tr>\n",
       "    <tr>\n",
       "      <th>2</th>\n",
       "      <td>Data/IT</td>\n",
       "      <td>481ab</td>\n",
       "      <td>Utbildningar till programmerare, spel</td>\n",
       "      <td>Futuregames Game Programmer Specialization</td>\n",
       "      <td>Avslag</td>\n",
       "      <td>MYH 2024/3029</td>\n",
       "      <td>Ja</td>\n",
       "      <td>2</td>\n",
       "      <td>Flera kommuner</td>\n",
       "      <td>Flera kommuner</td>\n",
       "      <td>...</td>\n",
       "      <td>3</td>\n",
       "      <td>0</td>\n",
       "      <td>30</td>\n",
       "      <td>90</td>\n",
       "      <td>0</td>\n",
       "      <td>0</td>\n",
       "      <td>0</td>\n",
       "      <td>0</td>\n",
       "      <td>0</td>\n",
       "      <td>0</td>\n",
       "    </tr>\n",
       "    <tr>\n",
       "      <th>3</th>\n",
       "      <td>Data/IT</td>\n",
       "      <td>481ab</td>\n",
       "      <td>Utbildningar till programmerare, spel</td>\n",
       "      <td>Game Programmer</td>\n",
       "      <td>Avslag</td>\n",
       "      <td>MYH 2024/3425</td>\n",
       "      <td>Nej</td>\n",
       "      <td>1</td>\n",
       "      <td>Blekinge</td>\n",
       "      <td>Karlshamn</td>\n",
       "      <td>...</td>\n",
       "      <td>3</td>\n",
       "      <td>0</td>\n",
       "      <td>25</td>\n",
       "      <td>75</td>\n",
       "      <td>0</td>\n",
       "      <td>0</td>\n",
       "      <td>0</td>\n",
       "      <td>0</td>\n",
       "      <td>0</td>\n",
       "      <td>0</td>\n",
       "    </tr>\n",
       "    <tr>\n",
       "      <th>4</th>\n",
       "      <td>Data/IT</td>\n",
       "      <td>481ab</td>\n",
       "      <td>Utbildningar till programmerare, spel</td>\n",
       "      <td>Spelprogrammerare</td>\n",
       "      <td>Beviljad</td>\n",
       "      <td>MYH 2024/3852</td>\n",
       "      <td>Nej</td>\n",
       "      <td>1</td>\n",
       "      <td>Skåne</td>\n",
       "      <td>Malmö</td>\n",
       "      <td>...</td>\n",
       "      <td>4</td>\n",
       "      <td>3</td>\n",
       "      <td>35</td>\n",
       "      <td>140</td>\n",
       "      <td>35</td>\n",
       "      <td>35</td>\n",
       "      <td>35</td>\n",
       "      <td>0</td>\n",
       "      <td>0</td>\n",
       "      <td>105</td>\n",
       "    </tr>\n",
       "  </tbody>\n",
       "</table>\n",
       "<p>5 rows × 28 columns</p>\n",
       "</div>"
      ],
      "text/plain": [
       "  Utbildningsområde SUN5 inriktning                   SUN5 inriktning namn  \\\n",
       "0           Data/IT           481ab  Utbildningar till programmerare, spel   \n",
       "1           Data/IT           481ab  Utbildningar till programmerare, spel   \n",
       "2           Data/IT           481ab  Utbildningar till programmerare, spel   \n",
       "3           Data/IT           481ab  Utbildningar till programmerare, spel   \n",
       "4           Data/IT           481ab  Utbildningar till programmerare, spel   \n",
       "\n",
       "                                Utbildningsnamn    Beslut   Diarienummer  \\\n",
       "0                                 AI Programmer    Avslag  MYH 2024/3742   \n",
       "1  Forsbergs, Spelutvecklare – Game Programming    Avslag  MYH 2024/4174   \n",
       "2    Futuregames Game Programmer Specialization    Avslag  MYH 2024/3029   \n",
       "3                               Game Programmer    Avslag  MYH 2024/3425   \n",
       "4                             Spelprogrammerare  Beviljad  MYH 2024/3852   \n",
       "\n",
       "  Flera kommuner  Antal kommuner             Län          Kommun  ...  \\\n",
       "0            Nej               1    Västerbotten            Umeå  ...   \n",
       "1            Nej               1       Stockholm       Stockholm  ...   \n",
       "2             Ja               2  Flera kommuner  Flera kommuner  ...   \n",
       "3            Nej               1        Blekinge       Karlshamn  ...   \n",
       "4            Nej               1           Skåne           Malmö  ...   \n",
       "\n",
       "   Sökta utbildningsomgångar Beviljade utbildningsomgångar  \\\n",
       "0                          3                             0   \n",
       "1                          3                             0   \n",
       "2                          3                             0   \n",
       "3                          3                             0   \n",
       "4                          4                             3   \n",
       "\n",
       "   Sökta platser per utbildningsomgång Sökta platser totalt  \\\n",
       "0                                   30                   90   \n",
       "1                                   20                   60   \n",
       "2                                   30                   90   \n",
       "3                                   25                   75   \n",
       "4                                   35                  140   \n",
       "\n",
       "   Beviljade platser utbildningsomgång 1  \\\n",
       "0                                      0   \n",
       "1                                      0   \n",
       "2                                      0   \n",
       "3                                      0   \n",
       "4                                     35   \n",
       "\n",
       "  Beviljade platser utbildningsomgång 2 Beviljade platser utbildningsomgång 3  \\\n",
       "0                                     0                                     0   \n",
       "1                                     0                                     0   \n",
       "2                                     0                                     0   \n",
       "3                                     0                                     0   \n",
       "4                                    35                                    35   \n",
       "\n",
       "  Beviljade platser utbildningsomgång 4  \\\n",
       "0                                     0   \n",
       "1                                     0   \n",
       "2                                     0   \n",
       "3                                     0   \n",
       "4                                     0   \n",
       "\n",
       "   Beviljade platser utbildningsomgång 5  Beviljade platser totalt  \n",
       "0                                      0                         0  \n",
       "1                                      0                         0  \n",
       "2                                      0                         0  \n",
       "3                                      0                         0  \n",
       "4                                      0                       105  \n",
       "\n",
       "[5 rows x 28 columns]"
      ]
     },
     "execution_count": 18,
     "metadata": {},
     "output_type": "execute_result"
    }
   ],
   "source": [
    "import pandas as pd\n",
    "import plotly.express as px\n",
    "\n",
    "df = pd.read_excel(\"../data/resultat-ansokningsomgang-2024 (4).xlsx\", sheet_name=\"Tabell 3\", skiprows=5)\n",
    "df.head()"
   ]
  },
  {
   "cell_type": "code",
   "execution_count": 12,
   "id": "641bfb17",
   "metadata": {},
   "outputs": [
    {
     "data": {
      "text/plain": [
       "Kommun\n",
       "Stockholm         70\n",
       "Flera kommuner    58\n",
       "Göteborg          51\n",
       "Malmö             30\n",
       "Solna             14\n",
       "Sundsvall         10\n",
       "Linköping         10\n",
       "Mölndal            7\n",
       "Örebro             6\n",
       "Västerås           4\n",
       "Umeå               3\n",
       "Växjö              3\n",
       "Helsingborg        3\n",
       "Halmstad           2\n",
       "Borås              2\n",
       "Karlstad           2\n",
       "Karlshamn          2\n",
       "Trollhättan        1\n",
       "Kalmar             1\n",
       "Norrköping         1\n",
       "Jönköping          1\n",
       "Värnamo            1\n",
       "Luleå              1\n",
       "Älmhult            1\n",
       "Botkyrka           1\n",
       "Varberg            1\n",
       "Skellefteå         1\n",
       "Gävle              1\n",
       "Arboga             1\n",
       "Name: count, dtype: int64"
      ]
     },
     "execution_count": 12,
     "metadata": {},
     "output_type": "execute_result"
    }
   ],
   "source": [
    "df.query(\"Utbildningsområde == 'Data/IT'\")[\"Kommun\"].value_counts()"
   ]
  },
  {
   "cell_type": "code",
   "execution_count": 15,
   "id": "ab809d3f",
   "metadata": {},
   "outputs": [
    {
     "data": {
      "text/html": [
       "<div>\n",
       "<style scoped>\n",
       "    .dataframe tbody tr th:only-of-type {\n",
       "        vertical-align: middle;\n",
       "    }\n",
       "\n",
       "    .dataframe tbody tr th {\n",
       "        vertical-align: top;\n",
       "    }\n",
       "\n",
       "    .dataframe thead th {\n",
       "        text-align: right;\n",
       "    }\n",
       "</style>\n",
       "<table border=\"1\" class=\"dataframe\">\n",
       "  <thead>\n",
       "    <tr style=\"text-align: right;\">\n",
       "      <th></th>\n",
       "      <th>Kommun</th>\n",
       "      <th>Ansökta utbildningar</th>\n",
       "    </tr>\n",
       "  </thead>\n",
       "  <tbody>\n",
       "    <tr>\n",
       "      <th>0</th>\n",
       "      <td>Stockholm</td>\n",
       "      <td>70</td>\n",
       "    </tr>\n",
       "    <tr>\n",
       "      <th>1</th>\n",
       "      <td>Flera kommuner</td>\n",
       "      <td>58</td>\n",
       "    </tr>\n",
       "    <tr>\n",
       "      <th>2</th>\n",
       "      <td>Göteborg</td>\n",
       "      <td>51</td>\n",
       "    </tr>\n",
       "    <tr>\n",
       "      <th>3</th>\n",
       "      <td>Malmö</td>\n",
       "      <td>30</td>\n",
       "    </tr>\n",
       "    <tr>\n",
       "      <th>4</th>\n",
       "      <td>Solna</td>\n",
       "      <td>14</td>\n",
       "    </tr>\n",
       "  </tbody>\n",
       "</table>\n",
       "</div>"
      ],
      "text/plain": [
       "           Kommun  Ansökta utbildningar\n",
       "0       Stockholm                    70\n",
       "1  Flera kommuner                    58\n",
       "2        Göteborg                    51\n",
       "3           Malmö                    30\n",
       "4           Solna                    14"
      ]
     },
     "execution_count": 15,
     "metadata": {},
     "output_type": "execute_result"
    }
   ],
   "source": [
    "def filter_df_municipality(df, educational_area=\"Data/IT\"):\n",
    "    return df.query(\"Utbildningsområde == @educational_area\")[\"Kommun\"].value_counts().reset_index().rename({\"count\": \"Ansökta utbildningar\"}, axis=1)\n",
    "\n",
    "df_municipality = filter_df_municipality(df)\n",
    "df_municipality.head()"
   ]
  },
  {
   "cell_type": "code",
   "execution_count": 16,
   "id": "68d5eecc",
   "metadata": {},
   "outputs": [
    {
     "data": {
      "text/html": [
       "<div>\n",
       "<style scoped>\n",
       "    .dataframe tbody tr th:only-of-type {\n",
       "        vertical-align: middle;\n",
       "    }\n",
       "\n",
       "    .dataframe tbody tr th {\n",
       "        vertical-align: top;\n",
       "    }\n",
       "\n",
       "    .dataframe thead th {\n",
       "        text-align: right;\n",
       "    }\n",
       "</style>\n",
       "<table border=\"1\" class=\"dataframe\">\n",
       "  <thead>\n",
       "    <tr style=\"text-align: right;\">\n",
       "      <th></th>\n",
       "      <th>Kommun</th>\n",
       "      <th>Ansökta utbildningar</th>\n",
       "    </tr>\n",
       "  </thead>\n",
       "  <tbody>\n",
       "    <tr>\n",
       "      <th>0</th>\n",
       "      <td>Leksand</td>\n",
       "      <td>1</td>\n",
       "    </tr>\n",
       "    <tr>\n",
       "      <th>1</th>\n",
       "      <td>Stockholm</td>\n",
       "      <td>1</td>\n",
       "    </tr>\n",
       "  </tbody>\n",
       "</table>\n",
       "</div>"
      ],
      "text/plain": [
       "      Kommun  Ansökta utbildningar\n",
       "0    Leksand                     1\n",
       "1  Stockholm                     1"
      ]
     },
     "execution_count": 16,
     "metadata": {},
     "output_type": "execute_result"
    }
   ],
   "source": [
    "filter_df_municipality(df, \"Övrigt\")"
   ]
  },
  {
   "cell_type": "code",
   "execution_count": 39,
   "id": "656bf531",
   "metadata": {},
   "outputs": [
    {
     "name": "stderr",
     "output_type": "stream",
     "text": [
      "/var/folders/sn/cdy7qtbn06q8k7qv0vsnn1v80000gp/T/ipykernel_7749/1352929798.py:2: SettingWithCopyWarning:\n",
      "\n",
      "\n",
      "A value is trying to be set on a copy of a slice from a DataFrame.\n",
      "Try using .loc[row_indexer,col_indexer] = value instead\n",
      "\n",
      "See the caveats in the documentation: https://pandas.pydata.org/pandas-docs/stable/user_guide/indexing.html#returning-a-view-versus-a-copy\n",
      "\n"
     ]
    },
    {
     "data": {
      "application/vnd.plotly.v1+json": {
       "config": {
        "plotlyServerURL": "https://plot.ly"
       },
       "data": [
        {
         "hovertemplate": "<b>%{y}</b><br>Ansökta utbildningar:. %{x}",
         "legendgroup": "",
         "marker": {
          "color": "#636efa",
          "pattern": {
           "shape": ""
          }
         },
         "name": "",
         "orientation": "h",
         "showlegend": false,
         "text": [
          "  70",
          "  58",
          "  51",
          "  30",
          "  14",
          "  10",
          "  10",
          "  7",
          "  6"
         ],
         "textposition": "outside",
         "type": "bar",
         "x": {
          "bdata": "RjozHg4KCgcG",
          "dtype": "i1"
         },
         "xaxis": "x",
         "y": [
          "Stockholm",
          "Flera kommuner",
          "Göteborg",
          "Malmö",
          "Solna",
          "Sundsvall",
          "Linköping",
          "Mölndal",
          "Örebro"
         ],
         "yaxis": "y"
        }
       ],
       "layout": {
        "barmode": "relative",
        "legend": {
         "tracegroupgap": 0
        },
        "margin": {
         "t": 60
        },
        "plot_bgcolor": "white",
        "template": {
         "data": {
          "bar": [
           {
            "error_x": {
             "color": "#2a3f5f"
            },
            "error_y": {
             "color": "#2a3f5f"
            },
            "marker": {
             "line": {
              "color": "#E5ECF6",
              "width": 0.5
             },
             "pattern": {
              "fillmode": "overlay",
              "size": 10,
              "solidity": 0.2
             }
            },
            "type": "bar"
           }
          ],
          "barpolar": [
           {
            "marker": {
             "line": {
              "color": "#E5ECF6",
              "width": 0.5
             },
             "pattern": {
              "fillmode": "overlay",
              "size": 10,
              "solidity": 0.2
             }
            },
            "type": "barpolar"
           }
          ],
          "carpet": [
           {
            "aaxis": {
             "endlinecolor": "#2a3f5f",
             "gridcolor": "white",
             "linecolor": "white",
             "minorgridcolor": "white",
             "startlinecolor": "#2a3f5f"
            },
            "baxis": {
             "endlinecolor": "#2a3f5f",
             "gridcolor": "white",
             "linecolor": "white",
             "minorgridcolor": "white",
             "startlinecolor": "#2a3f5f"
            },
            "type": "carpet"
           }
          ],
          "choropleth": [
           {
            "colorbar": {
             "outlinewidth": 0,
             "ticks": ""
            },
            "type": "choropleth"
           }
          ],
          "contour": [
           {
            "colorbar": {
             "outlinewidth": 0,
             "ticks": ""
            },
            "colorscale": [
             [
              0,
              "#0d0887"
             ],
             [
              0.1111111111111111,
              "#46039f"
             ],
             [
              0.2222222222222222,
              "#7201a8"
             ],
             [
              0.3333333333333333,
              "#9c179e"
             ],
             [
              0.4444444444444444,
              "#bd3786"
             ],
             [
              0.5555555555555556,
              "#d8576b"
             ],
             [
              0.6666666666666666,
              "#ed7953"
             ],
             [
              0.7777777777777778,
              "#fb9f3a"
             ],
             [
              0.8888888888888888,
              "#fdca26"
             ],
             [
              1,
              "#f0f921"
             ]
            ],
            "type": "contour"
           }
          ],
          "contourcarpet": [
           {
            "colorbar": {
             "outlinewidth": 0,
             "ticks": ""
            },
            "type": "contourcarpet"
           }
          ],
          "heatmap": [
           {
            "colorbar": {
             "outlinewidth": 0,
             "ticks": ""
            },
            "colorscale": [
             [
              0,
              "#0d0887"
             ],
             [
              0.1111111111111111,
              "#46039f"
             ],
             [
              0.2222222222222222,
              "#7201a8"
             ],
             [
              0.3333333333333333,
              "#9c179e"
             ],
             [
              0.4444444444444444,
              "#bd3786"
             ],
             [
              0.5555555555555556,
              "#d8576b"
             ],
             [
              0.6666666666666666,
              "#ed7953"
             ],
             [
              0.7777777777777778,
              "#fb9f3a"
             ],
             [
              0.8888888888888888,
              "#fdca26"
             ],
             [
              1,
              "#f0f921"
             ]
            ],
            "type": "heatmap"
           }
          ],
          "histogram": [
           {
            "marker": {
             "pattern": {
              "fillmode": "overlay",
              "size": 10,
              "solidity": 0.2
             }
            },
            "type": "histogram"
           }
          ],
          "histogram2d": [
           {
            "colorbar": {
             "outlinewidth": 0,
             "ticks": ""
            },
            "colorscale": [
             [
              0,
              "#0d0887"
             ],
             [
              0.1111111111111111,
              "#46039f"
             ],
             [
              0.2222222222222222,
              "#7201a8"
             ],
             [
              0.3333333333333333,
              "#9c179e"
             ],
             [
              0.4444444444444444,
              "#bd3786"
             ],
             [
              0.5555555555555556,
              "#d8576b"
             ],
             [
              0.6666666666666666,
              "#ed7953"
             ],
             [
              0.7777777777777778,
              "#fb9f3a"
             ],
             [
              0.8888888888888888,
              "#fdca26"
             ],
             [
              1,
              "#f0f921"
             ]
            ],
            "type": "histogram2d"
           }
          ],
          "histogram2dcontour": [
           {
            "colorbar": {
             "outlinewidth": 0,
             "ticks": ""
            },
            "colorscale": [
             [
              0,
              "#0d0887"
             ],
             [
              0.1111111111111111,
              "#46039f"
             ],
             [
              0.2222222222222222,
              "#7201a8"
             ],
             [
              0.3333333333333333,
              "#9c179e"
             ],
             [
              0.4444444444444444,
              "#bd3786"
             ],
             [
              0.5555555555555556,
              "#d8576b"
             ],
             [
              0.6666666666666666,
              "#ed7953"
             ],
             [
              0.7777777777777778,
              "#fb9f3a"
             ],
             [
              0.8888888888888888,
              "#fdca26"
             ],
             [
              1,
              "#f0f921"
             ]
            ],
            "type": "histogram2dcontour"
           }
          ],
          "mesh3d": [
           {
            "colorbar": {
             "outlinewidth": 0,
             "ticks": ""
            },
            "type": "mesh3d"
           }
          ],
          "parcoords": [
           {
            "line": {
             "colorbar": {
              "outlinewidth": 0,
              "ticks": ""
             }
            },
            "type": "parcoords"
           }
          ],
          "pie": [
           {
            "automargin": true,
            "type": "pie"
           }
          ],
          "scatter": [
           {
            "fillpattern": {
             "fillmode": "overlay",
             "size": 10,
             "solidity": 0.2
            },
            "type": "scatter"
           }
          ],
          "scatter3d": [
           {
            "line": {
             "colorbar": {
              "outlinewidth": 0,
              "ticks": ""
             }
            },
            "marker": {
             "colorbar": {
              "outlinewidth": 0,
              "ticks": ""
             }
            },
            "type": "scatter3d"
           }
          ],
          "scattercarpet": [
           {
            "marker": {
             "colorbar": {
              "outlinewidth": 0,
              "ticks": ""
             }
            },
            "type": "scattercarpet"
           }
          ],
          "scattergeo": [
           {
            "marker": {
             "colorbar": {
              "outlinewidth": 0,
              "ticks": ""
             }
            },
            "type": "scattergeo"
           }
          ],
          "scattergl": [
           {
            "marker": {
             "colorbar": {
              "outlinewidth": 0,
              "ticks": ""
             }
            },
            "type": "scattergl"
           }
          ],
          "scattermap": [
           {
            "marker": {
             "colorbar": {
              "outlinewidth": 0,
              "ticks": ""
             }
            },
            "type": "scattermap"
           }
          ],
          "scattermapbox": [
           {
            "marker": {
             "colorbar": {
              "outlinewidth": 0,
              "ticks": ""
             }
            },
            "type": "scattermapbox"
           }
          ],
          "scatterpolar": [
           {
            "marker": {
             "colorbar": {
              "outlinewidth": 0,
              "ticks": ""
             }
            },
            "type": "scatterpolar"
           }
          ],
          "scatterpolargl": [
           {
            "marker": {
             "colorbar": {
              "outlinewidth": 0,
              "ticks": ""
             }
            },
            "type": "scatterpolargl"
           }
          ],
          "scatterternary": [
           {
            "marker": {
             "colorbar": {
              "outlinewidth": 0,
              "ticks": ""
             }
            },
            "type": "scatterternary"
           }
          ],
          "surface": [
           {
            "colorbar": {
             "outlinewidth": 0,
             "ticks": ""
            },
            "colorscale": [
             [
              0,
              "#0d0887"
             ],
             [
              0.1111111111111111,
              "#46039f"
             ],
             [
              0.2222222222222222,
              "#7201a8"
             ],
             [
              0.3333333333333333,
              "#9c179e"
             ],
             [
              0.4444444444444444,
              "#bd3786"
             ],
             [
              0.5555555555555556,
              "#d8576b"
             ],
             [
              0.6666666666666666,
              "#ed7953"
             ],
             [
              0.7777777777777778,
              "#fb9f3a"
             ],
             [
              0.8888888888888888,
              "#fdca26"
             ],
             [
              1,
              "#f0f921"
             ]
            ],
            "type": "surface"
           }
          ],
          "table": [
           {
            "cells": {
             "fill": {
              "color": "#EBF0F8"
             },
             "line": {
              "color": "white"
             }
            },
            "header": {
             "fill": {
              "color": "#C8D4E3"
             },
             "line": {
              "color": "white"
             }
            },
            "type": "table"
           }
          ]
         },
         "layout": {
          "annotationdefaults": {
           "arrowcolor": "#2a3f5f",
           "arrowhead": 0,
           "arrowwidth": 1
          },
          "autotypenumbers": "strict",
          "coloraxis": {
           "colorbar": {
            "outlinewidth": 0,
            "ticks": ""
           }
          },
          "colorscale": {
           "diverging": [
            [
             0,
             "#8e0152"
            ],
            [
             0.1,
             "#c51b7d"
            ],
            [
             0.2,
             "#de77ae"
            ],
            [
             0.3,
             "#f1b6da"
            ],
            [
             0.4,
             "#fde0ef"
            ],
            [
             0.5,
             "#f7f7f7"
            ],
            [
             0.6,
             "#e6f5d0"
            ],
            [
             0.7,
             "#b8e186"
            ],
            [
             0.8,
             "#7fbc41"
            ],
            [
             0.9,
             "#4d9221"
            ],
            [
             1,
             "#276419"
            ]
           ],
           "sequential": [
            [
             0,
             "#0d0887"
            ],
            [
             0.1111111111111111,
             "#46039f"
            ],
            [
             0.2222222222222222,
             "#7201a8"
            ],
            [
             0.3333333333333333,
             "#9c179e"
            ],
            [
             0.4444444444444444,
             "#bd3786"
            ],
            [
             0.5555555555555556,
             "#d8576b"
            ],
            [
             0.6666666666666666,
             "#ed7953"
            ],
            [
             0.7777777777777778,
             "#fb9f3a"
            ],
            [
             0.8888888888888888,
             "#fdca26"
            ],
            [
             1,
             "#f0f921"
            ]
           ],
           "sequentialminus": [
            [
             0,
             "#0d0887"
            ],
            [
             0.1111111111111111,
             "#46039f"
            ],
            [
             0.2222222222222222,
             "#7201a8"
            ],
            [
             0.3333333333333333,
             "#9c179e"
            ],
            [
             0.4444444444444444,
             "#bd3786"
            ],
            [
             0.5555555555555556,
             "#d8576b"
            ],
            [
             0.6666666666666666,
             "#ed7953"
            ],
            [
             0.7777777777777778,
             "#fb9f3a"
            ],
            [
             0.8888888888888888,
             "#fdca26"
            ],
            [
             1,
             "#f0f921"
            ]
           ]
          },
          "colorway": [
           "#636efa",
           "#EF553B",
           "#00cc96",
           "#ab63fa",
           "#FFA15A",
           "#19d3f3",
           "#FF6692",
           "#B6E880",
           "#FF97FF",
           "#FECB52"
          ],
          "font": {
           "color": "#2a3f5f"
          },
          "geo": {
           "bgcolor": "white",
           "lakecolor": "white",
           "landcolor": "#E5ECF6",
           "showlakes": true,
           "showland": true,
           "subunitcolor": "white"
          },
          "hoverlabel": {
           "align": "left"
          },
          "hovermode": "closest",
          "mapbox": {
           "style": "light"
          },
          "paper_bgcolor": "white",
          "plot_bgcolor": "#E5ECF6",
          "polar": {
           "angularaxis": {
            "gridcolor": "white",
            "linecolor": "white",
            "ticks": ""
           },
           "bgcolor": "#E5ECF6",
           "radialaxis": {
            "gridcolor": "white",
            "linecolor": "white",
            "ticks": ""
           }
          },
          "scene": {
           "xaxis": {
            "backgroundcolor": "#E5ECF6",
            "gridcolor": "white",
            "gridwidth": 2,
            "linecolor": "white",
            "showbackground": true,
            "ticks": "",
            "zerolinecolor": "white"
           },
           "yaxis": {
            "backgroundcolor": "#E5ECF6",
            "gridcolor": "white",
            "gridwidth": 2,
            "linecolor": "white",
            "showbackground": true,
            "ticks": "",
            "zerolinecolor": "white"
           },
           "zaxis": {
            "backgroundcolor": "#E5ECF6",
            "gridcolor": "white",
            "gridwidth": 2,
            "linecolor": "white",
            "showbackground": true,
            "ticks": "",
            "zerolinecolor": "white"
           }
          },
          "shapedefaults": {
           "line": {
            "color": "#2a3f5f"
           }
          },
          "ternary": {
           "aaxis": {
            "gridcolor": "white",
            "linecolor": "white",
            "ticks": ""
           },
           "baxis": {
            "gridcolor": "white",
            "linecolor": "white",
            "ticks": ""
           },
           "bgcolor": "#E5ECF6",
           "caxis": {
            "gridcolor": "white",
            "linecolor": "white",
            "ticks": ""
           }
          },
          "title": {
           "x": 0.05
          },
          "xaxis": {
           "automargin": true,
           "gridcolor": "white",
           "linecolor": "white",
           "ticks": "",
           "title": {
            "standoff": 15
           },
           "zerolinecolor": "white",
           "zerolinewidth": 2
          },
          "yaxis": {
           "automargin": true,
           "gridcolor": "white",
           "linecolor": "white",
           "ticks": "",
           "title": {
            "standoff": 15
           },
           "zerolinecolor": "white",
           "zerolinewidth": 2
          }
         }
        },
        "xaxis": {
         "anchor": "y",
         "domain": [
          0,
          1
         ],
         "title": {
          "text": "Ansökta utbildningar"
         }
        },
        "yaxis": {
         "anchor": "x",
         "autorange": "reversed",
         "domain": [
          0,
          1
         ],
         "linecolor": "lightgray",
         "showline": true,
         "ticklabelposition": "outside left",
         "title": {
          "text": "<b>KOMMUN</b>"
         }
        }
       }
      }
     },
     "metadata": {},
     "output_type": "display_data"
    }
   ],
   "source": [
    "def create_municipality_bar(df, **options):\n",
    "    df[\"Ansökta_label\"] = df[\"Ansökta utbildningar\"].apply(lambda row: \" \"*2 +f\"{row}\")\n",
    "    \n",
    "    fig = px.bar(df, y=\"Kommun\", x=\"Ansökta utbildningar\", text= \"Ansökta_label\")\n",
    "    \n",
    "    fig.update_layout(plot_bgcolor = \"white\", \n",
    "                      yaxis=dict(\n",
    "                          autorange=\"reversed\",\n",
    "                          ticklabelposition=\"outside left\",\n",
    "                          showline = True,\n",
    "                          linecolor=\"lightgray\",\n",
    "                          title= dict(text=f\"<b>{options.get('ylabel')}</b>\")\n",
    "                          ),\n",
    "                          )\n",
    "    \n",
    "    fig.update_traces(\n",
    "        textposition=\"outside\",\n",
    "        hovertemplate=\"<b>%{y}</b><br>Ansökta utbildningar:. %{x}\",\n",
    "    )\n",
    "\n",
    "    return fig\n",
    "\n",
    "create_municipality_bar(df_municipality.head(9), ylabel=\"KOMMUN\", xlabel= \"# ANÖKTA UTBILDNINGAR\")"
   ]
  }
 ],
 "metadata": {
  "kernelspec": {
   "display_name": ".venv",
   "language": "python",
   "name": "python3"
  },
  "language_info": {
   "codemirror_mode": {
    "name": "ipython",
    "version": 3
   },
   "file_extension": ".py",
   "mimetype": "text/x-python",
   "name": "python",
   "nbconvert_exporter": "python",
   "pygments_lexer": "ipython3",
   "version": "3.12.5"
  }
 },
 "nbformat": 4,
 "nbformat_minor": 5
}
